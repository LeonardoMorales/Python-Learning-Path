{
  "nbformat": 4,
  "nbformat_minor": 0,
  "metadata": {
    "colab": {
      "name": "Object Oriented Programming in Python.ipynb",
      "provenance": [],
      "collapsed_sections": [
        "snK9JwNamE4y"
      ],
      "authorship_tag": "ABX9TyPkUahpAnqRmvh81Jr8aWL2",
      "include_colab_link": true
    },
    "kernelspec": {
      "name": "python3",
      "display_name": "Python 3"
    }
  },
  "cells": [
    {
      "cell_type": "markdown",
      "metadata": {
        "id": "view-in-github",
        "colab_type": "text"
      },
      "source": [
        "<a href=\"https://colab.research.google.com/github/LeonardoMorales/Python-Learning-Path/blob/master/Object_Oriented_Programming_in_Python.ipynb\" target=\"_parent\"><img src=\"https://colab.research.google.com/assets/colab-badge.svg\" alt=\"Open In Colab\"/></a>"
      ]
    },
    {
      "cell_type": "markdown",
      "metadata": {
        "id": "sW6SPxG2Oz5m"
      },
      "source": [
        "Object Oriented Programming (OOP) allows programmers to create their own objects that have methods and atributes.\r\n",
        "\r\n",
        "These methods acts as functions that use information about the object, as well as the object itself to return results, or change the current object.\r\n",
        "\r\n",
        "For much larger scripts of Python code, functions by themselves aren't enough for organization and repeatability.\r\n",
        "\r\n",
        "Commonly repeated tasks and objects can be defined with OOP to create code that is more usable.\r\n",
        "\r\n",
        "```python\r\n",
        "class NameOfClass():\r\n",
        "  def __init__(self,param1,param2):\r\n",
        "    self.param1 = param1\r\n",
        "    self.param2 = param2\r\n",
        "\r\n",
        "  def some_method(self):\r\n",
        "    #perform some action\r\n",
        "    prin(self.param1)\r\n",
        "```"
      ]
    },
    {
      "cell_type": "code",
      "metadata": {
        "id": "6cugnc5GRCns"
      },
      "source": [
        "class Sample():\r\n",
        "  pass"
      ],
      "execution_count": null,
      "outputs": []
    },
    {
      "cell_type": "code",
      "metadata": {
        "colab": {
          "base_uri": "https://localhost:8080/"
        },
        "id": "CHhtmkrMQGQF",
        "outputId": "e9f26bf0-15d9-4bbf-e4ff-41ee053a467b"
      },
      "source": [
        "my_sample = Sample()\r\n",
        "type(my_sample)"
      ],
      "execution_count": null,
      "outputs": [
        {
          "output_type": "execute_result",
          "data": {
            "text/plain": [
              "__main__.Sample"
            ]
          },
          "metadata": {
            "tags": []
          },
          "execution_count": 2
        }
      ]
    },
    {
      "cell_type": "code",
      "metadata": {
        "id": "kAN8dyRUSYZA"
      },
      "source": [
        "class Dog():\r\n",
        "  # CLASS OBJECT ATTRIBUTE\r\n",
        "  # SAME FOR ANY INSTANCE OF A CLASS\r\n",
        "  species = 'mammal'\r\n",
        "\r\n",
        "  # ATRIBUTES\r\n",
        "  def __init__(self, breed, name):\r\n",
        "    self.breed = breed\r\n",
        "    self.name = name\r\n",
        "\r\n",
        "  # OPERATIONS/ACTIONS --> Methods\r\n",
        "  def bark(self):\r\n",
        "    print(\"WOOF! My names is {}\".format(self.name))"
      ],
      "execution_count": null,
      "outputs": []
    },
    {
      "cell_type": "code",
      "metadata": {
        "colab": {
          "base_uri": "https://localhost:8080/",
          "height": 36
        },
        "id": "27hQN_9mTTUn",
        "outputId": "8c130d55-9b05-4be4-fff8-ff13f95f23e2"
      },
      "source": [
        "my_dog = Dog(breed='Lab', name='Sammy')\r\n",
        "my_dog.name"
      ],
      "execution_count": null,
      "outputs": [
        {
          "output_type": "execute_result",
          "data": {
            "application/vnd.google.colaboratory.intrinsic+json": {
              "type": "string"
            },
            "text/plain": [
              "'Sammy'"
            ]
          },
          "metadata": {
            "tags": []
          },
          "execution_count": 23
        }
      ]
    },
    {
      "cell_type": "code",
      "metadata": {
        "colab": {
          "base_uri": "https://localhost:8080/",
          "height": 36
        },
        "id": "sdl09GUVTYVb",
        "outputId": "6692e144-790d-428c-9b17-1ca2a9aefdf1"
      },
      "source": [
        "my_dog.species"
      ],
      "execution_count": null,
      "outputs": [
        {
          "output_type": "execute_result",
          "data": {
            "application/vnd.google.colaboratory.intrinsic+json": {
              "type": "string"
            },
            "text/plain": [
              "'mammal'"
            ]
          },
          "metadata": {
            "tags": []
          },
          "execution_count": 24
        }
      ]
    },
    {
      "cell_type": "code",
      "metadata": {
        "colab": {
          "base_uri": "https://localhost:8080/"
        },
        "id": "J5-fDbxLaZ5a",
        "outputId": "be91b550-4efe-4b24-dbbd-5311ffe73d1d"
      },
      "source": [
        "my_dog.bark()"
      ],
      "execution_count": null,
      "outputs": [
        {
          "output_type": "stream",
          "text": [
            "WOOF! My names is Sammy\n"
          ],
          "name": "stdout"
        }
      ]
    },
    {
      "cell_type": "code",
      "metadata": {
        "id": "83MDCmyda24k"
      },
      "source": [
        "class Circle():\r\n",
        "\r\n",
        "  # CLASS OBJECT ATTRIBUTE\r\n",
        "  pi = 3.14\r\n",
        "\r\n",
        "  def __init__(self, radius=1):\r\n",
        "    self.radius = radius\r\n",
        "    self.area = radius*radius*self.pi\r\n",
        "\r\n",
        "  # METHID\r\n",
        "  def get_circumference(self):\r\n",
        "    return self.radius * self.pi * 2"
      ],
      "execution_count": null,
      "outputs": []
    },
    {
      "cell_type": "code",
      "metadata": {
        "id": "tk4buMt7fQrZ"
      },
      "source": [
        "my_circle = Circle()"
      ],
      "execution_count": null,
      "outputs": []
    },
    {
      "cell_type": "code",
      "metadata": {
        "colab": {
          "base_uri": "https://localhost:8080/"
        },
        "id": "dfW6Db0VfYy3",
        "outputId": "6991eac9-d2df-41ae-c0c8-cd4eaef63856"
      },
      "source": [
        "my_circle.get_circumference()"
      ],
      "execution_count": null,
      "outputs": [
        {
          "output_type": "execute_result",
          "data": {
            "text/plain": [
              "6.28"
            ]
          },
          "metadata": {
            "tags": []
          },
          "execution_count": 33
        }
      ]
    },
    {
      "cell_type": "code",
      "metadata": {
        "id": "yOg2dxetfuIb"
      },
      "source": [
        "my_circle = Circle(30)"
      ],
      "execution_count": null,
      "outputs": []
    },
    {
      "cell_type": "code",
      "metadata": {
        "colab": {
          "base_uri": "https://localhost:8080/"
        },
        "id": "IlNwIRG2f3dN",
        "outputId": "1d69f3e6-0511-46b3-8721-13cd9ed1b2de"
      },
      "source": [
        "my_circle.get_circumference()"
      ],
      "execution_count": null,
      "outputs": [
        {
          "output_type": "execute_result",
          "data": {
            "text/plain": [
              "188.4"
            ]
          },
          "metadata": {
            "tags": []
          },
          "execution_count": 43
        }
      ]
    },
    {
      "cell_type": "code",
      "metadata": {
        "colab": {
          "base_uri": "https://localhost:8080/"
        },
        "id": "Nk39I0fpf4_2",
        "outputId": "79fcfac6-3bae-4330-ea8f-75ae676f0983"
      },
      "source": [
        "my_circle.area"
      ],
      "execution_count": null,
      "outputs": [
        {
          "output_type": "execute_result",
          "data": {
            "text/plain": [
              "2826.0"
            ]
          },
          "metadata": {
            "tags": []
          },
          "execution_count": 44
        }
      ]
    },
    {
      "cell_type": "markdown",
      "metadata": {
        "id": "snK9JwNamE4y"
      },
      "source": [
        "# Inheritance and Polymorphism"
      ]
    },
    {
      "cell_type": "code",
      "metadata": {
        "id": "kZg-ndS6mKiN"
      },
      "source": [
        "class Animal():\r\n",
        "\r\n",
        "  def __init__(self):\r\n",
        "    print('ANIMAL CREATED')\r\n",
        "\r\n",
        "  def who_am_i(self):\r\n",
        "    print('I am an animal')\r\n",
        "\r\n",
        "  def eat(self):\r\n",
        "    print('I am eating')"
      ],
      "execution_count": null,
      "outputs": []
    },
    {
      "cell_type": "code",
      "metadata": {
        "colab": {
          "base_uri": "https://localhost:8080/"
        },
        "id": "HNO-4dv7mk3D",
        "outputId": "cf71eccb-77a0-4dc7-fcf3-7b80f0ca8212"
      },
      "source": [
        "myAnimal = Animal()"
      ],
      "execution_count": null,
      "outputs": [
        {
          "output_type": "stream",
          "text": [
            "ANIMAL CREATED\n"
          ],
          "name": "stdout"
        }
      ]
    },
    {
      "cell_type": "code",
      "metadata": {
        "colab": {
          "base_uri": "https://localhost:8080/"
        },
        "id": "sNdy6EH6mm7C",
        "outputId": "ab7527de-9879-4d30-9688-e9af07462970"
      },
      "source": [
        "myAnimal.eat()"
      ],
      "execution_count": null,
      "outputs": [
        {
          "output_type": "stream",
          "text": [
            "I am eating\n"
          ],
          "name": "stdout"
        }
      ]
    },
    {
      "cell_type": "code",
      "metadata": {
        "id": "TGr1l3h5mqlg"
      },
      "source": [
        "class Dog(Animal):\r\n",
        "\r\n",
        "  def __init__(self):\r\n",
        "    Animal.__init__(self)\r\n",
        "    print('Dog created')\r\n",
        "\r\n",
        "  def who_am_i(self):\r\n",
        "    print('I am a dog')\r\n",
        "\r\n",
        "  def bark(self):\r\n",
        "    print('WOOF!')"
      ],
      "execution_count": null,
      "outputs": []
    },
    {
      "cell_type": "code",
      "metadata": {
        "colab": {
          "base_uri": "https://localhost:8080/"
        },
        "id": "Zd8XD9Z5m6sf",
        "outputId": "d34d6868-1abb-43da-ce47-4413def312fe"
      },
      "source": [
        "myDog = Dog()"
      ],
      "execution_count": null,
      "outputs": [
        {
          "output_type": "stream",
          "text": [
            "ANIMAL CREATED\n",
            "Dog created\n"
          ],
          "name": "stdout"
        }
      ]
    },
    {
      "cell_type": "code",
      "metadata": {
        "colab": {
          "base_uri": "https://localhost:8080/"
        },
        "id": "QC1jMkJYm8h8",
        "outputId": "e538c45c-e126-44fe-f6d5-c8903b12a51e"
      },
      "source": [
        "myDog.eat()"
      ],
      "execution_count": null,
      "outputs": [
        {
          "output_type": "stream",
          "text": [
            "I am eating\n"
          ],
          "name": "stdout"
        }
      ]
    },
    {
      "cell_type": "code",
      "metadata": {
        "colab": {
          "base_uri": "https://localhost:8080/"
        },
        "id": "NZ3c_WYjnC16",
        "outputId": "c2e3c38b-1e2a-4a6d-c5d4-a4879eb79d98"
      },
      "source": [
        "myDog.who_am_i()"
      ],
      "execution_count": null,
      "outputs": [
        {
          "output_type": "stream",
          "text": [
            "I am a dog\n"
          ],
          "name": "stdout"
        }
      ]
    },
    {
      "cell_type": "code",
      "metadata": {
        "colab": {
          "base_uri": "https://localhost:8080/"
        },
        "id": "hxKG01XrnPAR",
        "outputId": "b72ba419-131a-4551-e540-d25db3ab5f6f"
      },
      "source": [
        "myDog.bark()"
      ],
      "execution_count": null,
      "outputs": [
        {
          "output_type": "stream",
          "text": [
            "WOOF!\n"
          ],
          "name": "stdout"
        }
      ]
    },
    {
      "cell_type": "markdown",
      "metadata": {
        "id": "n9RCx8nibMxd"
      },
      "source": [
        "## Polymorphism"
      ]
    },
    {
      "cell_type": "code",
      "metadata": {
        "id": "TmYeEj5ubTkO"
      },
      "source": [
        "class Dog():\r\n",
        "\r\n",
        "  def __init__(self, name):\r\n",
        "    self.name = name\r\n",
        "\r\n",
        "  def speak(self):\r\n",
        "    return self.name + ' says woof!'"
      ],
      "execution_count": 1,
      "outputs": []
    },
    {
      "cell_type": "code",
      "metadata": {
        "id": "Vi1YsgRpngt8"
      },
      "source": [
        "class Cat():\r\n",
        "\r\n",
        "  def __init__(self, name):\r\n",
        "    self.name = name\r\n",
        "\r\n",
        "  def speak(self):\r\n",
        "    return self.name + ' says meow!'"
      ],
      "execution_count": 4,
      "outputs": []
    },
    {
      "cell_type": "code",
      "metadata": {
        "id": "LR5A0b7ObmKb"
      },
      "source": [
        "niko = Dog('niko')\r\n",
        "felix = Cat('felix')"
      ],
      "execution_count": 5,
      "outputs": []
    },
    {
      "cell_type": "code",
      "metadata": {
        "colab": {
          "base_uri": "https://localhost:8080/"
        },
        "id": "05iIi20FbtRV",
        "outputId": "dcab8757-fbec-46e1-cc83-50e2f81cc498"
      },
      "source": [
        "print(niko.speak())\r\n",
        "print(felix.speak())"
      ],
      "execution_count": 6,
      "outputs": [
        {
          "output_type": "stream",
          "text": [
            "niko says woof!\n",
            "felix says meow!\n"
          ],
          "name": "stdout"
        }
      ]
    },
    {
      "cell_type": "code",
      "metadata": {
        "colab": {
          "base_uri": "https://localhost:8080/"
        },
        "id": "NTr7Hn9LbyI4",
        "outputId": "c3c6ea67-e02c-43c5-d377-6b1a41c83774"
      },
      "source": [
        "for pet in [niko,felix]:\r\n",
        "  print(type(pet))\r\n",
        "  print(pet.speak())"
      ],
      "execution_count": 7,
      "outputs": [
        {
          "output_type": "stream",
          "text": [
            "<class '__main__.Dog'>\n",
            "niko says woof!\n",
            "<class '__main__.Cat'>\n",
            "felix says meow!\n"
          ],
          "name": "stdout"
        }
      ]
    },
    {
      "cell_type": "code",
      "metadata": {
        "id": "-fZ_33BocLZh"
      },
      "source": [
        "def pet_speak(pet):\r\n",
        "  print(pet.speak())"
      ],
      "execution_count": 8,
      "outputs": []
    },
    {
      "cell_type": "code",
      "metadata": {
        "colab": {
          "base_uri": "https://localhost:8080/"
        },
        "id": "0Ul-zxZscSc5",
        "outputId": "f9e566b8-f8cc-4053-96b1-8c0c07b87604"
      },
      "source": [
        "pet_speak(niko)\r\n",
        "pet_speak(felix)"
      ],
      "execution_count": 9,
      "outputs": [
        {
          "output_type": "stream",
          "text": [
            "niko says woof!\n",
            "felix says meow!\n"
          ],
          "name": "stdout"
        }
      ]
    },
    {
      "cell_type": "markdown",
      "metadata": {
        "id": "CPjQBa4ddJj4"
      },
      "source": [
        "### Abstract Class"
      ]
    },
    {
      "cell_type": "code",
      "metadata": {
        "id": "aQV7aKSucWo-"
      },
      "source": [
        "class Animal():\r\n",
        "\r\n",
        "  def __init__(self, name):\r\n",
        "    self.name = name\r\n",
        "\r\n",
        "  def speak(self):\r\n",
        "    raise NotImplementedError('Subclass must implement this abstract method')"
      ],
      "execution_count": 10,
      "outputs": []
    },
    {
      "cell_type": "code",
      "metadata": {
        "id": "dP43vj_mcrfU"
      },
      "source": [
        "class Dog(Animal):\r\n",
        "\r\n",
        "  def speak(self):\r\n",
        "    return self.name + ' says woof!'"
      ],
      "execution_count": 11,
      "outputs": []
    },
    {
      "cell_type": "code",
      "metadata": {
        "id": "W5mAVHlnc6Xp"
      },
      "source": [
        "class Cat(Animal):\r\n",
        "\r\n",
        "  def speak(self):\r\n",
        "    return self.name + ' says meow!'"
      ],
      "execution_count": 12,
      "outputs": []
    },
    {
      "cell_type": "code",
      "metadata": {
        "id": "cBu-t4iBc9Ea"
      },
      "source": [
        "fido = Dog('fido')\r\n",
        "isis = Cat('isis')"
      ],
      "execution_count": 13,
      "outputs": []
    },
    {
      "cell_type": "code",
      "metadata": {
        "colab": {
          "base_uri": "https://localhost:8080/"
        },
        "id": "Yu6VQqVYdCGD",
        "outputId": "1390e1ed-39cf-4bfa-820d-8c8e5fd590a5"
      },
      "source": [
        "print(fido.speak())\r\n",
        "print(isis.speak())"
      ],
      "execution_count": 14,
      "outputs": [
        {
          "output_type": "stream",
          "text": [
            "fido says woof!\n",
            "isis says meow!\n"
          ],
          "name": "stdout"
        }
      ]
    },
    {
      "cell_type": "markdown",
      "metadata": {
        "id": "INitMO04dU7g"
      },
      "source": [
        "# Special Methods"
      ]
    },
    {
      "cell_type": "code",
      "metadata": {
        "id": "sgvwWW2SdHbf"
      },
      "source": [
        "class Book():\r\n",
        "\r\n",
        "  def __init__(self, title, author, pages):\r\n",
        "    self.title = title\r\n",
        "    self.author = author\r\n",
        "    self.pages = pages\r\n",
        "\r\n",
        "  def __str__(self):\r\n",
        "    return f'{self.title} by {self.author}'\r\n",
        "\r\n",
        "  def __len__(self):\r\n",
        "    return self.pages\r\n",
        "\r\n",
        "  def __del__(self):\r\n",
        "    print('A book object has been deleted')"
      ],
      "execution_count": 23,
      "outputs": []
    },
    {
      "cell_type": "code",
      "metadata": {
        "colab": {
          "base_uri": "https://localhost:8080/"
        },
        "id": "pNJM55jGd5iS",
        "outputId": "8acb7d5c-f9f7-46ec-8d30-7e66b93e3dd7"
      },
      "source": [
        "b = Book('Python rocks', 'Jose', 200)\r\n",
        "print(b)"
      ],
      "execution_count": 24,
      "outputs": [
        {
          "output_type": "stream",
          "text": [
            "Python rocks by Jose\n"
          ],
          "name": "stdout"
        }
      ]
    },
    {
      "cell_type": "code",
      "metadata": {
        "colab": {
          "base_uri": "https://localhost:8080/"
        },
        "id": "caL5SIhMeOfZ",
        "outputId": "4fa161cd-42ec-42cf-a582-00e1109de2e9"
      },
      "source": [
        "len(b)"
      ],
      "execution_count": 25,
      "outputs": [
        {
          "output_type": "execute_result",
          "data": {
            "text/plain": [
              "200"
            ]
          },
          "metadata": {
            "tags": []
          },
          "execution_count": 25
        }
      ]
    },
    {
      "cell_type": "code",
      "metadata": {
        "colab": {
          "base_uri": "https://localhost:8080/"
        },
        "id": "FaQ47NZueege",
        "outputId": "5d872b41-824a-4d0b-870d-e2c993eab025"
      },
      "source": [
        "del b"
      ],
      "execution_count": 26,
      "outputs": [
        {
          "output_type": "stream",
          "text": [
            "A book object has been deleted\n"
          ],
          "name": "stdout"
        }
      ]
    },
    {
      "cell_type": "code",
      "metadata": {
        "colab": {
          "base_uri": "https://localhost:8080/",
          "height": 177
        },
        "id": "mOwyUDgre1AM",
        "outputId": "63be8800-fc79-4671-bd3f-d204c06b9428"
      },
      "source": [
        "b"
      ],
      "execution_count": 27,
      "outputs": [
        {
          "output_type": "error",
          "ename": "NameError",
          "evalue": "ignored",
          "traceback": [
            "\u001b[0;31m---------------------------------------------------------------------------\u001b[0m",
            "\u001b[0;31mNameError\u001b[0m                                 Traceback (most recent call last)",
            "\u001b[0;32m<ipython-input-27-89e6c98d9288>\u001b[0m in \u001b[0;36m<module>\u001b[0;34m()\u001b[0m\n\u001b[0;32m----> 1\u001b[0;31m \u001b[0mb\u001b[0m\u001b[0;34m\u001b[0m\u001b[0;34m\u001b[0m\u001b[0m\n\u001b[0m",
            "\u001b[0;31mNameError\u001b[0m: name 'b' is not defined"
          ]
        }
      ]
    }
  ]
}