{
  "nbformat": 4,
  "nbformat_minor": 0,
  "metadata": {
    "colab": {
      "name": "Methods and Functions.ipynb",
      "provenance": [],
      "collapsed_sections": [],
      "authorship_tag": "ABX9TyP0EnqCpXNg/asO2AetApfN",
      "include_colab_link": true
    },
    "kernelspec": {
      "name": "python3",
      "display_name": "Python 3"
    }
  },
  "cells": [
    {
      "cell_type": "markdown",
      "metadata": {
        "id": "view-in-github",
        "colab_type": "text"
      },
      "source": [
        "<a href=\"https://colab.research.google.com/github/LeonardoMorales/Python-Learning-Path/blob/master/Methods_and_Functions.ipynb\" target=\"_parent\"><img src=\"https://colab.research.google.com/assets/colab-badge.svg\" alt=\"Open In Colab\"/></a>"
      ]
    },
    {
      "cell_type": "markdown",
      "metadata": {
        "id": "936HV2BS-tZw"
      },
      "source": [
        "# Methods\r\n",
        "Built-in objects in Python have a variety of methods you can use!"
      ]
    },
    {
      "cell_type": "code",
      "metadata": {
        "colab": {
          "base_uri": "https://localhost:8080/"
        },
        "id": "vNgE8O2l--l8",
        "outputId": "ecd81570-c18a-468d-9177-cc9dc6bcb748"
      },
      "source": [
        "myList = [1,2,3]\r\n",
        "myList.append(4)\r\n",
        "myList"
      ],
      "execution_count": 1,
      "outputs": [
        {
          "output_type": "execute_result",
          "data": {
            "text/plain": [
              "[1, 2, 3, 4]"
            ]
          },
          "metadata": {
            "tags": []
          },
          "execution_count": 1
        }
      ]
    },
    {
      "cell_type": "code",
      "metadata": {
        "colab": {
          "base_uri": "https://localhost:8080/"
        },
        "id": "U4DoL3Ha-z13",
        "outputId": "be62af4e-91c4-4adb-fd40-49f5eed65080"
      },
      "source": [
        "myList.pop()\r\n",
        "myList"
      ],
      "execution_count": 2,
      "outputs": [
        {
          "output_type": "execute_result",
          "data": {
            "text/plain": [
              "[1, 2, 3]"
            ]
          },
          "metadata": {
            "tags": []
          },
          "execution_count": 2
        }
      ]
    },
    {
      "cell_type": "code",
      "metadata": {
        "colab": {
          "base_uri": "https://localhost:8080/"
        },
        "id": "FDdRAk6e_HGW",
        "outputId": "98564e4a-92eb-4c10-82b5-d4695e460aef"
      },
      "source": [
        "help(myList.insert)"
      ],
      "execution_count": 3,
      "outputs": [
        {
          "output_type": "stream",
          "text": [
            "Help on built-in function insert:\n",
            "\n",
            "insert(...) method of builtins.list instance\n",
            "    L.insert(index, object) -- insert object before index\n",
            "\n"
          ],
          "name": "stdout"
        }
      ]
    },
    {
      "cell_type": "markdown",
      "metadata": {
        "id": "hwONMKpI_t4n"
      },
      "source": [
        "# Functions\r\n",
        "* Creating clean repeatable code is a key port of becoming an effective programmer.\r\n",
        "\r\n",
        "* Functions allow us to create blocks of code that can be easily executed many times, without needing to constantly rewrite the entire block of code.\r\n",
        "\r\n",
        "* Creating a function requires a very specific syntax, including the **def** keyword, correct indentation, and proper structure.\r\n",
        "\r\n",
        "* Tipically we use the **return** keyword to send back the result of the function, instead of just printin it out. The return allow us to assign the output of the function to a new variable."
      ]
    },
    {
      "cell_type": "code",
      "metadata": {
        "id": "9MmI4v3-AMU4"
      },
      "source": [
        "def say_hello():\r\n",
        "  print(\"Hello\")"
      ],
      "execution_count": 4,
      "outputs": []
    },
    {
      "cell_type": "code",
      "metadata": {
        "colab": {
          "base_uri": "https://localhost:8080/"
        },
        "id": "dJVb_gjfGw0O",
        "outputId": "21d406e5-8b68-43d3-d64e-137b16e95c88"
      },
      "source": [
        "say_hello()"
      ],
      "execution_count": 5,
      "outputs": [
        {
          "output_type": "stream",
          "text": [
            "Hello\n"
          ],
          "name": "stdout"
        }
      ]
    },
    {
      "cell_type": "code",
      "metadata": {
        "id": "rpKYCICaGyE1"
      },
      "source": [
        "def say_hello(name):\r\n",
        "  print(f'Hello {name}')"
      ],
      "execution_count": 6,
      "outputs": []
    },
    {
      "cell_type": "code",
      "metadata": {
        "colab": {
          "base_uri": "https://localhost:8080/"
        },
        "id": "FQkJI8tBHIMP",
        "outputId": "f2ac73a2-9ca1-44fc-f880-5ca60eb18037"
      },
      "source": [
        "say_hello(\"Leo\")"
      ],
      "execution_count": 7,
      "outputs": [
        {
          "output_type": "stream",
          "text": [
            "Hello Leo\n"
          ],
          "name": "stdout"
        }
      ]
    },
    {
      "cell_type": "code",
      "metadata": {
        "id": "uSdGosSbHJw2"
      },
      "source": [
        "def say_hello(name='Default'):\r\n",
        "  print(f'Hello {name}')"
      ],
      "execution_count": 8,
      "outputs": []
    },
    {
      "cell_type": "code",
      "metadata": {
        "colab": {
          "base_uri": "https://localhost:8080/"
        },
        "id": "M8-pJInaHZhi",
        "outputId": "a76c2a5a-c457-4812-e9cf-583c47f81088"
      },
      "source": [
        "say_hello()"
      ],
      "execution_count": 9,
      "outputs": [
        {
          "output_type": "stream",
          "text": [
            "Hello Default\n"
          ],
          "name": "stdout"
        }
      ]
    },
    {
      "cell_type": "code",
      "metadata": {
        "id": "ihP7ImsxHaZq"
      },
      "source": [
        "def add_num(num1, num2):\r\n",
        "  return num1 + num2"
      ],
      "execution_count": 10,
      "outputs": []
    },
    {
      "cell_type": "code",
      "metadata": {
        "colab": {
          "base_uri": "https://localhost:8080/"
        },
        "id": "Bfk1TiN6HhDk",
        "outputId": "12356bcb-072e-4869-e04d-d449810fce1a"
      },
      "source": [
        "result = add_num(2,3)\r\n",
        "result"
      ],
      "execution_count": 11,
      "outputs": [
        {
          "output_type": "execute_result",
          "data": {
            "text/plain": [
              "5"
            ]
          },
          "metadata": {
            "tags": []
          },
          "execution_count": 11
        }
      ]
    },
    {
      "cell_type": "code",
      "metadata": {
        "id": "2sPc4cwKHnFe"
      },
      "source": [
        "def even_check(num):\r\n",
        "  return num % 2 == 0"
      ],
      "execution_count": 12,
      "outputs": []
    },
    {
      "cell_type": "code",
      "metadata": {
        "colab": {
          "base_uri": "https://localhost:8080/"
        },
        "id": "fzrqx_M6IstR",
        "outputId": "8c03c179-6371-4c0d-fca4-db36eef208e3"
      },
      "source": [
        "even_check(20)"
      ],
      "execution_count": 13,
      "outputs": [
        {
          "output_type": "execute_result",
          "data": {
            "text/plain": [
              "True"
            ]
          },
          "metadata": {
            "tags": []
          },
          "execution_count": 13
        }
      ]
    },
    {
      "cell_type": "code",
      "metadata": {
        "colab": {
          "base_uri": "https://localhost:8080/"
        },
        "id": "IlfJcnbVIyty",
        "outputId": "9f68e1bd-f5ff-433e-e9dd-20a47bbb5c23"
      },
      "source": [
        "even_check(21)"
      ],
      "execution_count": 14,
      "outputs": [
        {
          "output_type": "execute_result",
          "data": {
            "text/plain": [
              "False"
            ]
          },
          "metadata": {
            "tags": []
          },
          "execution_count": 14
        }
      ]
    },
    {
      "cell_type": "code",
      "metadata": {
        "id": "UdcYyuZNI481"
      },
      "source": [
        "def check_even_list(num_list):\r\n",
        "  for number in num_list:\r\n",
        "    if number % 2 == 0:\r\n",
        "      return True\r\n",
        "    else:\r\n",
        "      pass"
      ],
      "execution_count": 15,
      "outputs": []
    },
    {
      "cell_type": "code",
      "metadata": {
        "id": "kwHAhJxeJTix"
      },
      "source": [
        "check_even_list([1,3,5])"
      ],
      "execution_count": 16,
      "outputs": []
    },
    {
      "cell_type": "code",
      "metadata": {
        "colab": {
          "base_uri": "https://localhost:8080/"
        },
        "id": "X6k37f-vJZmS",
        "outputId": "7abd50fa-b965-41c5-bb2f-ee1ba9159078"
      },
      "source": [
        "check_even_list([2,4,5])"
      ],
      "execution_count": 17,
      "outputs": [
        {
          "output_type": "execute_result",
          "data": {
            "text/plain": [
              "True"
            ]
          },
          "metadata": {
            "tags": []
          },
          "execution_count": 17
        }
      ]
    },
    {
      "cell_type": "code",
      "metadata": {
        "id": "9C--V2pgJbap"
      },
      "source": [
        "def check_even_list(num_list):\r\n",
        "  for number in num_list:\r\n",
        "    if number % 2 == 0:\r\n",
        "      return True\r\n",
        "    else:\r\n",
        "      pass\r\n",
        "\r\n",
        "  return False"
      ],
      "execution_count": 18,
      "outputs": []
    },
    {
      "cell_type": "code",
      "metadata": {
        "colab": {
          "base_uri": "https://localhost:8080/"
        },
        "id": "x-XWnzxaKAlO",
        "outputId": "156d18b2-db87-453d-bc6b-7a7e756d625b"
      },
      "source": [
        "check_even_list([1,2,5])"
      ],
      "execution_count": 19,
      "outputs": [
        {
          "output_type": "execute_result",
          "data": {
            "text/plain": [
              "True"
            ]
          },
          "metadata": {
            "tags": []
          },
          "execution_count": 19
        }
      ]
    },
    {
      "cell_type": "code",
      "metadata": {
        "id": "D_2cI2SoKI2K",
        "colab": {
          "base_uri": "https://localhost:8080/"
        },
        "outputId": "3fd9e450-f7da-4611-e67e-ef9a12806098"
      },
      "source": [
        "check_even_list([1,3,5])"
      ],
      "execution_count": 20,
      "outputs": [
        {
          "output_type": "execute_result",
          "data": {
            "text/plain": [
              "False"
            ]
          },
          "metadata": {
            "tags": []
          },
          "execution_count": 20
        }
      ]
    },
    {
      "cell_type": "code",
      "metadata": {
        "id": "l66VwVKrKjJI"
      },
      "source": [
        "def check_even_list(num_list):\r\n",
        "  even_numbers = []\r\n",
        "  for number in num_list:\r\n",
        "    if number % 2 == 0:\r\n",
        "      even_numbers.append(number)\r\n",
        "    else:\r\n",
        "      pass\r\n",
        "\r\n",
        "  return even_numbers"
      ],
      "execution_count": 21,
      "outputs": []
    },
    {
      "cell_type": "code",
      "metadata": {
        "colab": {
          "base_uri": "https://localhost:8080/"
        },
        "id": "FE0rG6NiKs9A",
        "outputId": "f137899e-c013-4d1d-bd06-85aabc828ae4"
      },
      "source": [
        "check_even_list([1,3,5])"
      ],
      "execution_count": 22,
      "outputs": [
        {
          "output_type": "execute_result",
          "data": {
            "text/plain": [
              "[]"
            ]
          },
          "metadata": {
            "tags": []
          },
          "execution_count": 22
        }
      ]
    },
    {
      "cell_type": "code",
      "metadata": {
        "colab": {
          "base_uri": "https://localhost:8080/"
        },
        "id": "DCxwCsJGKupj",
        "outputId": "98e9685f-13e5-4d2d-a620-ef8cbb62ef6f"
      },
      "source": [
        "check_even_list([1,2,3,4,5,6,7,8])"
      ],
      "execution_count": 23,
      "outputs": [
        {
          "output_type": "execute_result",
          "data": {
            "text/plain": [
              "[2, 4, 6, 8]"
            ]
          },
          "metadata": {
            "tags": []
          },
          "execution_count": 23
        }
      ]
    },
    {
      "cell_type": "markdown",
      "metadata": {
        "id": "1OUX3SMv6Ani"
      },
      "source": [
        "## Tupple Unpacking with Python Functions"
      ]
    },
    {
      "cell_type": "code",
      "metadata": {
        "id": "87h2JaTP6EL9"
      },
      "source": [
        "stock_prices = [('AAPL', 200), ('GOOGL', 400), ('MSFT', 100)]"
      ],
      "execution_count": 24,
      "outputs": []
    },
    {
      "cell_type": "code",
      "metadata": {
        "colab": {
          "base_uri": "https://localhost:8080/"
        },
        "id": "J60pgH1v6OAW",
        "outputId": "bc125440-abcc-4391-9637-231fb6cde528"
      },
      "source": [
        "for item in stock_prices:\r\n",
        "  print(item)"
      ],
      "execution_count": 25,
      "outputs": [
        {
          "output_type": "stream",
          "text": [
            "('AAPL', 200)\n",
            "('GOOGL', 400)\n",
            "('MSFT', 100)\n"
          ],
          "name": "stdout"
        }
      ]
    },
    {
      "cell_type": "code",
      "metadata": {
        "colab": {
          "base_uri": "https://localhost:8080/"
        },
        "id": "ENx9CBfr6Taa",
        "outputId": "3d85199c-548d-4b8f-d510-eee72096380c"
      },
      "source": [
        "for ticker, price in stock_prices:\r\n",
        "  print(ticker)"
      ],
      "execution_count": 26,
      "outputs": [
        {
          "output_type": "stream",
          "text": [
            "AAPL\n",
            "GOOGL\n",
            "MSFT\n"
          ],
          "name": "stdout"
        }
      ]
    },
    {
      "cell_type": "code",
      "metadata": {
        "id": "R4dm1nZx6Yu5"
      },
      "source": [
        "work_hours = [('Abby', 100), ('Billy', 400), ('Cassie', 800)]"
      ],
      "execution_count": 27,
      "outputs": []
    },
    {
      "cell_type": "code",
      "metadata": {
        "id": "U93Na6A-6kWk"
      },
      "source": [
        "def employee_check(work_hours):\r\n",
        "  current_max = 0\r\n",
        "  employee_of_month = ''\r\n",
        "\r\n",
        "  for employee,hours in work_hours:\r\n",
        "    if hours > current_max:\r\n",
        "      current_max = hours\r\n",
        "      employee_of_month = employee\r\n",
        "    else:\r\n",
        "      pass\r\n",
        "\r\n",
        "  #Return\r\n",
        "  return (employee_of_month, current_max)"
      ],
      "execution_count": 28,
      "outputs": []
    },
    {
      "cell_type": "code",
      "metadata": {
        "colab": {
          "base_uri": "https://localhost:8080/",
          "height": 36
        },
        "id": "PXWHXLrz7m4G",
        "outputId": "8951439c-ef2b-49ff-c471-4f700f959258"
      },
      "source": [
        "name,hours = employee_check(work_hours)\r\n",
        "name"
      ],
      "execution_count": 29,
      "outputs": [
        {
          "output_type": "execute_result",
          "data": {
            "application/vnd.google.colaboratory.intrinsic+json": {
              "type": "string"
            },
            "text/plain": [
              "'Cassie'"
            ]
          },
          "metadata": {
            "tags": []
          },
          "execution_count": 29
        }
      ]
    },
    {
      "cell_type": "markdown",
      "metadata": {
        "id": "xuF23a_Z9sCS"
      },
      "source": [
        "## Interactions between Python Functions"
      ]
    },
    {
      "cell_type": "code",
      "metadata": {
        "id": "xxO_rker-eIj"
      },
      "source": [
        "from random import shuffle"
      ],
      "execution_count": 30,
      "outputs": []
    },
    {
      "cell_type": "code",
      "metadata": {
        "id": "EKNBSc6A9wEw"
      },
      "source": [
        "def shuffle_list(lista):\r\n",
        "  shuffle(lista)\r\n",
        "  return lista"
      ],
      "execution_count": 31,
      "outputs": []
    },
    {
      "cell_type": "code",
      "metadata": {
        "colab": {
          "base_uri": "https://localhost:8080/"
        },
        "id": "GPS8FNiP-j7p",
        "outputId": "bdc0545b-d677-4310-a631-8393c40ba49a"
      },
      "source": [
        "result = shuffle_list([1,2,3,4,5,6,7])\r\n",
        "result"
      ],
      "execution_count": 32,
      "outputs": [
        {
          "output_type": "execute_result",
          "data": {
            "text/plain": [
              "[3, 6, 7, 5, 4, 1, 2]"
            ]
          },
          "metadata": {
            "tags": []
          },
          "execution_count": 32
        }
      ]
    },
    {
      "cell_type": "code",
      "metadata": {
        "id": "yRKvsEwP-sgp"
      },
      "source": [
        "lista = [' ', 'O', ' ']"
      ],
      "execution_count": 33,
      "outputs": []
    },
    {
      "cell_type": "code",
      "metadata": {
        "id": "SAdcMCb0_AyR"
      },
      "source": [
        "def player_guess():\r\n",
        "  guess = ''\r\n",
        "\r\n",
        "  while guess not in ['0','1','2']:\r\n",
        "    guess = input(\"Pick a number: 0, 1 or 2: \")\r\n",
        "  \r\n",
        "  return int(guess)"
      ],
      "execution_count": 34,
      "outputs": []
    },
    {
      "cell_type": "code",
      "metadata": {
        "colab": {
          "base_uri": "https://localhost:8080/"
        },
        "id": "wsDnBLfG_xmb",
        "outputId": "5bb10c72-64ec-4974-8234-f1e692d3f748"
      },
      "source": [
        "index = player_guess()"
      ],
      "execution_count": 35,
      "outputs": [
        {
          "output_type": "stream",
          "text": [
            "Pick a number: 0, 1 or 2: 1\n"
          ],
          "name": "stdout"
        }
      ]
    },
    {
      "cell_type": "code",
      "metadata": {
        "colab": {
          "base_uri": "https://localhost:8080/"
        },
        "id": "_9MseNb0__tQ",
        "outputId": "12825fa8-096b-4307-98d7-fd972a17d714"
      },
      "source": [
        "index"
      ],
      "execution_count": 36,
      "outputs": [
        {
          "output_type": "execute_result",
          "data": {
            "text/plain": [
              "1"
            ]
          },
          "metadata": {
            "tags": []
          },
          "execution_count": 36
        }
      ]
    },
    {
      "cell_type": "code",
      "metadata": {
        "id": "bU_BdZyBACdn"
      },
      "source": [
        "def check_guess(lista, guess):\r\n",
        "  if lista[guess] == 'O':\r\n",
        "    print('Correct!')\r\n",
        "  else:\r\n",
        "    print('Wrong guess!')\r\n",
        "    print(lista)"
      ],
      "execution_count": 37,
      "outputs": []
    },
    {
      "cell_type": "code",
      "metadata": {
        "colab": {
          "base_uri": "https://localhost:8080/"
        },
        "id": "k3rGqNX_Aha6",
        "outputId": "2918e918-0575-44c6-d722-1be7670139a3"
      },
      "source": [
        "# Initial List\r\n",
        "lista = [' ', 'O', ' ']\r\n",
        "\r\n",
        "# Shuffle List\r\n",
        "mixedup_list = shuffle_list(lista)\r\n",
        "\r\n",
        "# User Guess\r\n",
        "guess = player_guess()\r\n",
        "\r\n",
        "# Check Guess\r\n",
        "check_guess(mixedup_list, guess)"
      ],
      "execution_count": 39,
      "outputs": [
        {
          "output_type": "stream",
          "text": [
            "Pick a number: 0, 1 or 2: 1\n",
            "Wrong guess!\n",
            "[' ', ' ', 'O']\n"
          ],
          "name": "stdout"
        }
      ]
    },
    {
      "cell_type": "markdown",
      "metadata": {
        "id": "X4pOkDf8DYpI"
      },
      "source": [
        "## args and kwargs"
      ]
    },
    {
      "cell_type": "code",
      "metadata": {
        "id": "Q2dGOVSKE5P4"
      },
      "source": [
        "def func(*args):\r\n",
        "  return sum(args) * 0.05"
      ],
      "execution_count": 40,
      "outputs": []
    },
    {
      "cell_type": "code",
      "metadata": {
        "colab": {
          "base_uri": "https://localhost:8080/"
        },
        "id": "fcLdFmn7GAOy",
        "outputId": "4274c0e3-2658-4214-89cb-c14fdf308ef8"
      },
      "source": [
        "func(40,60)"
      ],
      "execution_count": 41,
      "outputs": [
        {
          "output_type": "execute_result",
          "data": {
            "text/plain": [
              "5.0"
            ]
          },
          "metadata": {
            "tags": []
          },
          "execution_count": 41
        }
      ]
    },
    {
      "cell_type": "code",
      "metadata": {
        "id": "g0PwAKeMGB58"
      },
      "source": [
        "def func(**kwargs):\r\n",
        "  if 'fruit' in kwargs:\r\n",
        "    print('My fruit of choice is {}'.format(kwargs['fruit']))\r\n",
        "  else:\r\n",
        "    print(\"I didnt' find any fruit here\")"
      ],
      "execution_count": 42,
      "outputs": []
    },
    {
      "cell_type": "code",
      "metadata": {
        "colab": {
          "base_uri": "https://localhost:8080/"
        },
        "id": "AKLqVtPwHLX_",
        "outputId": "715c1371-7ee2-414f-ed75-0543f16b21b3"
      },
      "source": [
        "func(fruit='apple')"
      ],
      "execution_count": 43,
      "outputs": [
        {
          "output_type": "stream",
          "text": [
            "My fruit of choice is apple\n"
          ],
          "name": "stdout"
        }
      ]
    },
    {
      "cell_type": "code",
      "metadata": {
        "id": "m-hBa3VEHRK4"
      },
      "source": [
        "def func(*args, **kwargs):\r\n",
        "  print('I would like {} {}'.format(args[0], kwargs['food']))"
      ],
      "execution_count": 44,
      "outputs": []
    },
    {
      "cell_type": "code",
      "metadata": {
        "colab": {
          "base_uri": "https://localhost:8080/"
        },
        "id": "IICvQjboI2Vg",
        "outputId": "d07d09a2-9dbd-4107-97fd-5cdba1e9dc0f"
      },
      "source": [
        "func(10,20,30,fruit='orange',food='eggs',animal='dog')"
      ],
      "execution_count": 45,
      "outputs": [
        {
          "output_type": "stream",
          "text": [
            "I would like 10 eggs\n"
          ],
          "name": "stdout"
        }
      ]
    },
    {
      "cell_type": "markdown",
      "metadata": {
        "id": "gGtXW63eRqP8"
      },
      "source": [
        "## Lambda Expressions, Map and Filter Functions"
      ]
    },
    {
      "cell_type": "code",
      "metadata": {
        "id": "HmCOeIvvRuIr"
      },
      "source": [
        "def square(num):\r\n",
        "  return num**2"
      ],
      "execution_count": 46,
      "outputs": []
    },
    {
      "cell_type": "code",
      "metadata": {
        "id": "P3WCu8XCSvjn"
      },
      "source": [
        "nums = [1,2,3,4,5]"
      ],
      "execution_count": 47,
      "outputs": []
    },
    {
      "cell_type": "code",
      "metadata": {
        "colab": {
          "base_uri": "https://localhost:8080/"
        },
        "id": "l3I9G-e_SySQ",
        "outputId": "1d6b2003-953c-4fea-f303-0ee3cb43d7ec"
      },
      "source": [
        "for item in map(square, nums):\r\n",
        "  print(item)"
      ],
      "execution_count": 48,
      "outputs": [
        {
          "output_type": "stream",
          "text": [
            "1\n",
            "4\n",
            "9\n",
            "16\n",
            "25\n"
          ],
          "name": "stdout"
        }
      ]
    },
    {
      "cell_type": "code",
      "metadata": {
        "colab": {
          "base_uri": "https://localhost:8080/"
        },
        "id": "l087iY7aZpVE",
        "outputId": "c391213c-8ce0-4081-c9d3-780b8ccca415"
      },
      "source": [
        "list(map(square, nums))"
      ],
      "execution_count": 52,
      "outputs": [
        {
          "output_type": "execute_result",
          "data": {
            "text/plain": [
              "[1, 4, 9, 16, 25, 36]"
            ]
          },
          "metadata": {
            "tags": []
          },
          "execution_count": 52
        }
      ]
    },
    {
      "cell_type": "code",
      "metadata": {
        "id": "Vin4Q9gcS2HA"
      },
      "source": [
        "def check_even(num):\r\n",
        "  return num % 2 == 0"
      ],
      "execution_count": 49,
      "outputs": []
    },
    {
      "cell_type": "code",
      "metadata": {
        "id": "VpTOsZzyWV3o"
      },
      "source": [
        "nums = [1,2,3,4,5,6]"
      ],
      "execution_count": 50,
      "outputs": []
    },
    {
      "cell_type": "code",
      "metadata": {
        "colab": {
          "base_uri": "https://localhost:8080/"
        },
        "id": "-5CCiTxwXUqL",
        "outputId": "ece5a290-59d8-4e54-c794-4788306a2ade"
      },
      "source": [
        "list(filter(check_even, nums))"
      ],
      "execution_count": 51,
      "outputs": [
        {
          "output_type": "execute_result",
          "data": {
            "text/plain": [
              "[2, 4, 6]"
            ]
          },
          "metadata": {
            "tags": []
          },
          "execution_count": 51
        }
      ]
    },
    {
      "cell_type": "code",
      "metadata": {
        "id": "4gX_hVGjZkyK"
      },
      "source": [
        "squareFunc = lambda num: num**2"
      ],
      "execution_count": 55,
      "outputs": []
    },
    {
      "cell_type": "code",
      "metadata": {
        "colab": {
          "base_uri": "https://localhost:8080/"
        },
        "id": "5K5wN0-SasMr",
        "outputId": "425b0294-ee97-4542-ca47-637b688186cf"
      },
      "source": [
        "squareFunc(5)"
      ],
      "execution_count": 56,
      "outputs": [
        {
          "output_type": "execute_result",
          "data": {
            "text/plain": [
              "25"
            ]
          },
          "metadata": {
            "tags": []
          },
          "execution_count": 56
        }
      ]
    },
    {
      "cell_type": "code",
      "metadata": {
        "colab": {
          "base_uri": "https://localhost:8080/"
        },
        "id": "4JdPES8la1sP",
        "outputId": "d5022ab5-0a31-48fa-ae9b-54ba7fefe50e"
      },
      "source": [
        "list(map(lambda num: num**2, nums))"
      ],
      "execution_count": 58,
      "outputs": [
        {
          "output_type": "execute_result",
          "data": {
            "text/plain": [
              "[1, 4, 9, 16, 25, 36]"
            ]
          },
          "metadata": {
            "tags": []
          },
          "execution_count": 58
        }
      ]
    },
    {
      "cell_type": "code",
      "metadata": {
        "colab": {
          "base_uri": "https://localhost:8080/"
        },
        "id": "b6tbD2E6a6wW",
        "outputId": "031c76ce-418d-4a9b-ab22-ee26a831b10a"
      },
      "source": [
        "list(filter(lambda n: n%2 == 0, nums))"
      ],
      "execution_count": 60,
      "outputs": [
        {
          "output_type": "execute_result",
          "data": {
            "text/plain": [
              "[2, 4, 6]"
            ]
          },
          "metadata": {
            "tags": []
          },
          "execution_count": 60
        }
      ]
    },
    {
      "cell_type": "markdown",
      "metadata": {
        "id": "R-AVs3SQb0p5"
      },
      "source": [
        "## Nested Statements and Scope\r\n",
        "\r\n",
        "**LEGB Rule**\r\n",
        "* L: Local - Names assigned in any way within a function (def or lambda), and not declared global in that function.\r\n",
        "* E: Enclosing function locals - Names in the local scope of any and all enclosing functions (def or lambda), from inner to outer.\r\n",
        "* G: Global(module) - Names assignes at the top-level of a module file, or declared global in a def within the file.\r\n",
        "* B: Built-in(Python) - Names preassigned in the built.in names module: open, range, SyntaxError,...."
      ]
    },
    {
      "cell_type": "code",
      "metadata": {
        "colab": {
          "base_uri": "https://localhost:8080/"
        },
        "id": "02vMiJorb2zd",
        "outputId": "ca4a0d44-bc61-437b-88dd-0ee2aff66e7b"
      },
      "source": [
        "# Local\r\n",
        "lambda num: num**2"
      ],
      "execution_count": 61,
      "outputs": [
        {
          "output_type": "execute_result",
          "data": {
            "text/plain": [
              "<function __main__.<lambda>>"
            ]
          },
          "metadata": {
            "tags": []
          },
          "execution_count": 61
        }
      ]
    },
    {
      "cell_type": "code",
      "metadata": {
        "id": "ozVQmgkvelBI"
      },
      "source": [
        "# GLOBAL\r\n",
        "name = 'THIS IS A GLOBAL STRING'\r\n",
        "\r\n",
        "def greet():\r\n",
        "  # ENCLOSING\r\n",
        "  name = 'Sammy'\r\n",
        "\r\n",
        "  def hello():\r\n",
        "    # LOCAL\r\n",
        "    name = 'IM A LOCAL'\r\n",
        "    print('Hello ' + name)\r\n",
        "\r\n",
        "  hello()"
      ],
      "execution_count": 65,
      "outputs": []
    },
    {
      "cell_type": "code",
      "metadata": {
        "colab": {
          "base_uri": "https://localhost:8080/"
        },
        "id": "_YVku_BZe1CV",
        "outputId": "078ee202-8265-4af0-c404-ed151ff943f9"
      },
      "source": [
        "greet()"
      ],
      "execution_count": 66,
      "outputs": [
        {
          "output_type": "stream",
          "text": [
            "Hello IM A LOCAL\n"
          ],
          "name": "stdout"
        }
      ]
    },
    {
      "cell_type": "code",
      "metadata": {
        "colab": {
          "base_uri": "https://localhost:8080/"
        },
        "id": "WlRBBvF-e2lf",
        "outputId": "26343e73-a102-4b0f-f850-bcc7706ccac8"
      },
      "source": [
        "x = 50\r\n",
        "\r\n",
        "def func(x):\r\n",
        "  print(f'X is {x}')\r\n",
        "\r\n",
        "  # LOCAL Reassignment\r\n",
        "  x = 200\r\n",
        "  print(f'I JUST LOCALLY CHANGED X TO {x}')\r\n",
        "\r\n",
        "func(x)\r\n",
        "print(x)  "
      ],
      "execution_count": 74,
      "outputs": [
        {
          "output_type": "stream",
          "text": [
            "X is 50\n",
            "I JUST LOCALLY CHANGED X TO 200\n",
            "50\n"
          ],
          "name": "stdout"
        }
      ]
    },
    {
      "cell_type": "code",
      "metadata": {
        "colab": {
          "base_uri": "https://localhost:8080/"
        },
        "id": "ixid-7_Of2cC",
        "outputId": "1fc44bb6-fab1-4974-dbce-6f37f4612f3c"
      },
      "source": [
        "x = 50\r\n",
        "\r\n",
        "def func():\r\n",
        "  global x\r\n",
        "  print(f'X is {x}')\r\n",
        "\r\n",
        "  # LOCAL Reassignment\r\n",
        "  x = 200\r\n",
        "  print(f'I JUST LOCALLY CHANGED X TO {x}')\r\n",
        "\r\n",
        "func()\r\n",
        "print(x)  "
      ],
      "execution_count": 76,
      "outputs": [
        {
          "output_type": "stream",
          "text": [
            "X is 50\n",
            "I JUST LOCALLY CHANGED X TO 200\n",
            "200\n"
          ],
          "name": "stdout"
        }
      ]
    }
  ]
}