{
  "nbformat": 4,
  "nbformat_minor": 0,
  "metadata": {
    "colab": {
      "name": "Errors and Exception Handling.ipynb",
      "provenance": [],
      "authorship_tag": "ABX9TyMCZlciBEeV+CyxjFJCnq7+",
      "include_colab_link": true
    },
    "kernelspec": {
      "name": "python3",
      "display_name": "Python 3"
    }
  },
  "cells": [
    {
      "cell_type": "markdown",
      "metadata": {
        "id": "view-in-github",
        "colab_type": "text"
      },
      "source": [
        "<a href=\"https://colab.research.google.com/github/LeonardoMorales/Python-Learning-Path/blob/master/Errors_and_Exception_Handling.ipynb\" target=\"_parent\"><img src=\"https://colab.research.google.com/assets/colab-badge.svg\" alt=\"Open In Colab\"/></a>"
      ]
    },
    {
      "cell_type": "markdown",
      "metadata": {
        "id": "RPdJYMGgNmBx"
      },
      "source": [
        "We can use error handling to attempt to plan for possible errors.\r\n",
        "\r\n",
        "We use three keywords for this:  \r\n",
        "* **try:** This is the block of code to be attempted (may lead to an error).\r\n",
        "* **except:** Block of code will execute in case there is an error in try block.\r\n",
        "* **finally:** A final clock of code to be executed, regardless of an error."
      ]
    },
    {
      "cell_type": "code",
      "metadata": {
        "id": "Y8g3e_zUNlQi"
      },
      "source": [
        "def add(n1,n2):\r\n",
        "  print(n1+n2)"
      ],
      "execution_count": 5,
      "outputs": []
    },
    {
      "cell_type": "code",
      "metadata": {
        "colab": {
          "base_uri": "https://localhost:8080/",
          "height": 253
        },
        "id": "Sm7-4YJ8OyFK",
        "outputId": "bb39e721-2ce1-4232-cc87-f47f1e6f9cd9"
      },
      "source": [
        "add(10,'20')"
      ],
      "execution_count": 6,
      "outputs": [
        {
          "output_type": "error",
          "ename": "TypeError",
          "evalue": "ignored",
          "traceback": [
            "\u001b[0;31m---------------------------------------------------------------------------\u001b[0m",
            "\u001b[0;31mTypeError\u001b[0m                                 Traceback (most recent call last)",
            "\u001b[0;32m<ipython-input-6-7a62ae198939>\u001b[0m in \u001b[0;36m<module>\u001b[0;34m()\u001b[0m\n\u001b[0;32m----> 1\u001b[0;31m \u001b[0madd\u001b[0m\u001b[0;34m(\u001b[0m\u001b[0;36m10\u001b[0m\u001b[0;34m,\u001b[0m\u001b[0;34m'20'\u001b[0m\u001b[0;34m)\u001b[0m\u001b[0;34m\u001b[0m\u001b[0;34m\u001b[0m\u001b[0m\n\u001b[0m",
            "\u001b[0;32m<ipython-input-5-a1646ea78e7e>\u001b[0m in \u001b[0;36madd\u001b[0;34m(n1, n2)\u001b[0m\n\u001b[1;32m      1\u001b[0m \u001b[0;32mdef\u001b[0m \u001b[0madd\u001b[0m\u001b[0;34m(\u001b[0m\u001b[0mn1\u001b[0m\u001b[0;34m,\u001b[0m\u001b[0mn2\u001b[0m\u001b[0;34m)\u001b[0m\u001b[0;34m:\u001b[0m\u001b[0;34m\u001b[0m\u001b[0;34m\u001b[0m\u001b[0m\n\u001b[0;32m----> 2\u001b[0;31m   \u001b[0mprint\u001b[0m\u001b[0;34m(\u001b[0m\u001b[0mn1\u001b[0m\u001b[0;34m+\u001b[0m\u001b[0mn2\u001b[0m\u001b[0;34m)\u001b[0m\u001b[0;34m\u001b[0m\u001b[0;34m\u001b[0m\u001b[0m\n\u001b[0m",
            "\u001b[0;31mTypeError\u001b[0m: unsupported operand type(s) for +: 'int' and 'str'"
          ]
        }
      ]
    },
    {
      "cell_type": "code",
      "metadata": {
        "id": "yOD_apfqO1zI"
      },
      "source": [
        "def add(n1,n2):\r\n",
        "  try:\r\n",
        "    print(n1+n2)\r\n",
        "  except:\r\n",
        "    print('Hey something went wrong!')"
      ],
      "execution_count": 7,
      "outputs": []
    },
    {
      "cell_type": "code",
      "metadata": {
        "colab": {
          "base_uri": "https://localhost:8080/"
        },
        "id": "bAZgsRmoPrFo",
        "outputId": "095af9d2-be16-486b-ecc0-0a355a3190cf"
      },
      "source": [
        "add(10,'20')"
      ],
      "execution_count": 10,
      "outputs": [
        {
          "output_type": "stream",
          "text": [
            "Hey something went wrong!\n"
          ],
          "name": "stdout"
        }
      ]
    },
    {
      "cell_type": "code",
      "metadata": {
        "id": "hNZN8DF-PtQ6"
      },
      "source": [
        "def add(n1,n2):\r\n",
        "  try:\r\n",
        "    result = n1+n2\r\n",
        "  except:\r\n",
        "    print('Hey something went wrong!')\r\n",
        "  else:\r\n",
        "    print('Add went well!')\r\n",
        "    print(result)"
      ],
      "execution_count": 13,
      "outputs": []
    },
    {
      "cell_type": "code",
      "metadata": {
        "colab": {
          "base_uri": "https://localhost:8080/"
        },
        "id": "LGvoLRSZQJn5",
        "outputId": "72e42822-3920-42fc-905d-bc2ba1702248"
      },
      "source": [
        "add(1,3)"
      ],
      "execution_count": 15,
      "outputs": [
        {
          "output_type": "stream",
          "text": [
            "Add went well!\n",
            "4\n"
          ],
          "name": "stdout"
        }
      ]
    },
    {
      "cell_type": "code",
      "metadata": {
        "colab": {
          "base_uri": "https://localhost:8080/"
        },
        "id": "KblIEdzNQTmz",
        "outputId": "dd84de55-d87b-4586-9c50-d9228f2f9450"
      },
      "source": [
        "try:\r\n",
        "  f = open('testfile', 'r') # Try changing 'r' and 'w'\r\n",
        "  f.write('Write a test line')\r\n",
        "except TypeError:\r\n",
        "  print('There was a type error')\r\n",
        "except OSError:\r\n",
        "  print('Hey you have an OS Error')\r\n",
        "finally:\r\n",
        "  print('I always run')"
      ],
      "execution_count": 18,
      "outputs": [
        {
          "output_type": "stream",
          "text": [
            "Hey you have an OS Error\n",
            "I always run\n"
          ],
          "name": "stdout"
        }
      ]
    },
    {
      "cell_type": "code",
      "metadata": {
        "id": "toP6zk-uRXaT"
      },
      "source": [
        "def ask_for_int():\r\n",
        "  while True:\r\n",
        "    try:\r\n",
        "      result = int(input('Please provide a number: '))\r\n",
        "    except:\r\n",
        "      print('Whoops! That is not a number')\r\n",
        "      continue\r\n",
        "    else:\r\n",
        "      print('Thank you')\r\n",
        "      break\r\n",
        "    finally:\r\n",
        "      print('End of try/except/finally')\r\n",
        "      print()"
      ],
      "execution_count": 21,
      "outputs": []
    },
    {
      "cell_type": "code",
      "metadata": {
        "colab": {
          "base_uri": "https://localhost:8080/"
        },
        "id": "IuPyV6v2ZO6F",
        "outputId": "d04f584e-a0e7-4d5a-dc6c-d6628db66865"
      },
      "source": [
        "ask_for_int()"
      ],
      "execution_count": 22,
      "outputs": [
        {
          "output_type": "stream",
          "text": [
            "Please provide a number: hola\n",
            "Whoops! That is not a number\n",
            "End of try/except/finally\n",
            "\n",
            "Please provide a number: hi\n",
            "Whoops! That is not a number\n",
            "End of try/except/finally\n",
            "\n",
            "Please provide a number: 10\n",
            "Thank you\n",
            "End of try/except/finally\n",
            "\n"
          ],
          "name": "stdout"
        }
      ]
    }
  ]
}