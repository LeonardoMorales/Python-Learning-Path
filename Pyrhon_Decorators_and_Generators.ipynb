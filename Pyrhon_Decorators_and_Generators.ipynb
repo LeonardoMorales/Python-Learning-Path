{
  "nbformat": 4,
  "nbformat_minor": 0,
  "metadata": {
    "colab": {
      "name": "Pyrhon Decorators and Generators.ipynb",
      "provenance": [],
      "authorship_tag": "ABX9TyO8jYWUk+5aUMRtOZ+c10fo",
      "include_colab_link": true
    },
    "kernelspec": {
      "name": "python3",
      "display_name": "Python 3"
    }
  },
  "cells": [
    {
      "cell_type": "markdown",
      "metadata": {
        "id": "view-in-github",
        "colab_type": "text"
      },
      "source": [
        "<a href=\"https://colab.research.google.com/github/LeonardoMorales/Python-Learning-Path/blob/master/Pyrhon_Decorators_and_Generators.ipynb\" target=\"_parent\"><img src=\"https://colab.research.google.com/assets/colab-badge.svg\" alt=\"Open In Colab\"/></a>"
      ]
    },
    {
      "cell_type": "markdown",
      "metadata": {
        "id": "CCN3s3ckmk4Q"
      },
      "source": [
        "# Decorators\r\n",
        "\r\n",
        "* Decorators allow you to 'decorate' a function.\r\n",
        "* Python has decorators that allow you to tack on extra functionality to an already existing function.\r\n",
        "* They use the @ operator and are then places on top of the original function.\r\n",
        "\r\n",
        "<pre>\r\n",
        "@some_decorator\r\n",
        "def simple_func():\r\n",
        "  #Do simple stuff\r\n",
        "  return something\r\n",
        "</pre>"
      ]
    },
    {
      "cell_type": "markdown",
      "metadata": {
        "id": "uPd6jNGsrEqg"
      },
      "source": [
        "## How it works?"
      ]
    },
    {
      "cell_type": "code",
      "metadata": {
        "id": "nB8BfeW_mfIC"
      },
      "source": [
        "def hello():\r\n",
        "  return 'Hi Leo!'"
      ],
      "execution_count": 1,
      "outputs": []
    },
    {
      "cell_type": "code",
      "metadata": {
        "id": "qo_jMJooqtum"
      },
      "source": [
        "def other(some_def_func):\r\n",
        "  print('Other code runs here')\r\n",
        "  print(some_def_func())"
      ],
      "execution_count": 2,
      "outputs": []
    },
    {
      "cell_type": "code",
      "metadata": {
        "colab": {
          "base_uri": "https://localhost:8080/"
        },
        "id": "9c7nDS0Eq1zI",
        "outputId": "df18c08f-68a3-4b2e-eee8-035eff06c073"
      },
      "source": [
        "other(hello)"
      ],
      "execution_count": 3,
      "outputs": [
        {
          "output_type": "stream",
          "text": [
            "Other code runs here\n",
            "Hi Leo!\n"
          ],
          "name": "stdout"
        }
      ]
    },
    {
      "cell_type": "markdown",
      "metadata": {
        "id": "H54D1QMlrJXU"
      },
      "source": [
        "## Example"
      ]
    },
    {
      "cell_type": "code",
      "metadata": {
        "id": "ooL4Qs3-q3-M"
      },
      "source": [
        "def new_decorator(original_func):\r\n",
        "  def wrap_func():\r\n",
        "    print('Some extra code before original function')\r\n",
        "    original_func()\r\n",
        "    print('Some extra code after original function')\r\n",
        "\r\n",
        "  return wrap_func"
      ],
      "execution_count": 4,
      "outputs": []
    },
    {
      "cell_type": "code",
      "metadata": {
        "id": "Nk_Wm0cOrpsr"
      },
      "source": [
        "def func_needs_decorator():\r\n",
        "  print('I want to be decorated!!')"
      ],
      "execution_count": 5,
      "outputs": []
    },
    {
      "cell_type": "code",
      "metadata": {
        "colab": {
          "base_uri": "https://localhost:8080/"
        },
        "id": "zcWbKNp6rvcH",
        "outputId": "5c88229b-d592-4672-beb8-2f9794a67da1"
      },
      "source": [
        "func_needs_decorator()"
      ],
      "execution_count": 6,
      "outputs": [
        {
          "output_type": "stream",
          "text": [
            "I want to be decorated!!\n"
          ],
          "name": "stdout"
        }
      ]
    },
    {
      "cell_type": "code",
      "metadata": {
        "id": "xwU5K-Fhrxeo"
      },
      "source": [
        "decorator_func = new_decorator(func_needs_decorator)"
      ],
      "execution_count": 8,
      "outputs": []
    },
    {
      "cell_type": "code",
      "metadata": {
        "colab": {
          "base_uri": "https://localhost:8080/"
        },
        "id": "J1E6rlC-r4BY",
        "outputId": "e0c7d38f-a254-49d4-f148-121e1a986001"
      },
      "source": [
        "decorator_func()"
      ],
      "execution_count": 9,
      "outputs": [
        {
          "output_type": "stream",
          "text": [
            "Some extra code before original function\n",
            "I want to be decorated!!\n",
            "Some extra code after original function\n"
          ],
          "name": "stdout"
        }
      ]
    },
    {
      "cell_type": "markdown",
      "metadata": {
        "id": "2XHw0xROsLS6"
      },
      "source": [
        "### How to apply the same but with **decorator syntax**"
      ]
    },
    {
      "cell_type": "code",
      "metadata": {
        "id": "yOZYpdaysASe"
      },
      "source": [
        "@new_decorator\r\n",
        "def func_needs_decorator():\r\n",
        "  print('I want to be decorated!!')"
      ],
      "execution_count": 10,
      "outputs": []
    },
    {
      "cell_type": "code",
      "metadata": {
        "colab": {
          "base_uri": "https://localhost:8080/"
        },
        "id": "n_xY_mWoslYt",
        "outputId": "d9836e39-8c85-4898-d8ed-f285d9c69199"
      },
      "source": [
        "func_needs_decorator()"
      ],
      "execution_count": 11,
      "outputs": [
        {
          "output_type": "stream",
          "text": [
            "Some extra code before original function\n",
            "I want to be decorated!!\n",
            "Some extra code after original function\n"
          ],
          "name": "stdout"
        }
      ]
    },
    {
      "cell_type": "markdown",
      "metadata": {
        "id": "QQoDReCivaQf"
      },
      "source": [
        "# Generators\r\n",
        "\r\n",
        "* Generator functions allow us to write a function that can send back a value and then later resume to pick up where it left off.\r\n",
        "* This type of function is a generator in Python, allowing us to generate a sequence of values over time\r\n",
        "* Genearator functions will automatically suspend and resume their execution and state around the last point of value generation.\r\n",
        "* The advantage is that instead of having to compute an entire series of values up front, the generator computes one value waits until the next value is called for."
      ]
    },
    {
      "cell_type": "code",
      "metadata": {
        "id": "dhXUFjJVvcH_"
      },
      "source": [
        "# WRONG WAY\r\n",
        "def create_cubes(n):\r\n",
        "  result = []\r\n",
        "  for x in range(n):\r\n",
        "    result.append(x**3)\r\n",
        "  return result"
      ],
      "execution_count": 12,
      "outputs": []
    },
    {
      "cell_type": "code",
      "metadata": {
        "colab": {
          "base_uri": "https://localhost:8080/"
        },
        "id": "s879xtf6yqY2",
        "outputId": "ba505a3a-88e0-4578-ab0a-6162487de4df"
      },
      "source": [
        "for x in create_cubes(10):\r\n",
        "  print(x)"
      ],
      "execution_count": 13,
      "outputs": [
        {
          "output_type": "stream",
          "text": [
            "0\n",
            "1\n",
            "8\n",
            "27\n",
            "64\n",
            "125\n",
            "216\n",
            "343\n",
            "512\n",
            "729\n"
          ],
          "name": "stdout"
        }
      ]
    },
    {
      "cell_type": "code",
      "metadata": {
        "id": "FBK8ZCRKyuRN"
      },
      "source": [
        "# CORRECT WAY\r\n",
        "def create_cubes(n):\r\n",
        "  for x in range(n):\r\n",
        "    yield x**3"
      ],
      "execution_count": 14,
      "outputs": []
    },
    {
      "cell_type": "code",
      "metadata": {
        "colab": {
          "base_uri": "https://localhost:8080/"
        },
        "id": "fHhuUx2Py8LF",
        "outputId": "95b881b8-bf67-4d0a-a65a-7e3d34266717"
      },
      "source": [
        "for x in create_cubes(10):\r\n",
        "  print(x)"
      ],
      "execution_count": 16,
      "outputs": [
        {
          "output_type": "stream",
          "text": [
            "0\n",
            "1\n",
            "8\n",
            "27\n",
            "64\n",
            "125\n",
            "216\n",
            "343\n",
            "512\n",
            "729\n"
          ],
          "name": "stdout"
        }
      ]
    },
    {
      "cell_type": "code",
      "metadata": {
        "colab": {
          "base_uri": "https://localhost:8080/"
        },
        "id": "HDcJ4CpTy_f4",
        "outputId": "b05f4616-46bb-43ff-c05c-e7ecb52ca3a0"
      },
      "source": [
        "create_cubes(10)"
      ],
      "execution_count": 17,
      "outputs": [
        {
          "output_type": "execute_result",
          "data": {
            "text/plain": [
              "<generator object create_cubes at 0x7f07a5032468>"
            ]
          },
          "metadata": {
            "tags": []
          },
          "execution_count": 17
        }
      ]
    },
    {
      "cell_type": "code",
      "metadata": {
        "colab": {
          "base_uri": "https://localhost:8080/"
        },
        "id": "XGbvKCLzzOx5",
        "outputId": "ad1f28ce-6512-4bff-d044-967b8b84cd39"
      },
      "source": [
        "list(create_cubes(10))"
      ],
      "execution_count": 18,
      "outputs": [
        {
          "output_type": "execute_result",
          "data": {
            "text/plain": [
              "[0, 1, 8, 27, 64, 125, 216, 343, 512, 729]"
            ]
          },
          "metadata": {
            "tags": []
          },
          "execution_count": 18
        }
      ]
    },
    {
      "cell_type": "markdown",
      "metadata": {
        "id": "O4GW_Qp3zW-j"
      },
      "source": [
        "## Second Example"
      ]
    },
    {
      "cell_type": "code",
      "metadata": {
        "id": "TFyoX4bSzUc1"
      },
      "source": [
        "def gen_fibon(n):\r\n",
        "  a = 1\r\n",
        "  b = 1\r\n",
        "  for i in range(n):\r\n",
        "    yield a\r\n",
        "    a,b = b,a+b"
      ],
      "execution_count": 19,
      "outputs": []
    },
    {
      "cell_type": "code",
      "metadata": {
        "colab": {
          "base_uri": "https://localhost:8080/"
        },
        "id": "7IFiXScdzrHP",
        "outputId": "7246a914-6c8d-45d2-f18c-1f71f468b4e3"
      },
      "source": [
        "for number in gen_fibon(10):\r\n",
        "  print(number)"
      ],
      "execution_count": 20,
      "outputs": [
        {
          "output_type": "stream",
          "text": [
            "1\n",
            "1\n",
            "2\n",
            "3\n",
            "5\n",
            "8\n",
            "13\n",
            "21\n",
            "34\n",
            "55\n"
          ],
          "name": "stdout"
        }
      ]
    },
    {
      "cell_type": "markdown",
      "metadata": {
        "id": "092oXzrhz_Ys"
      },
      "source": [
        "## Next function and Iter function"
      ]
    },
    {
      "cell_type": "code",
      "metadata": {
        "id": "YF551eHQzuZ0"
      },
      "source": [
        "def simple_gen():\r\n",
        "  for x in range(3):\r\n",
        "    yield x"
      ],
      "execution_count": 21,
      "outputs": []
    },
    {
      "cell_type": "code",
      "metadata": {
        "colab": {
          "base_uri": "https://localhost:8080/"
        },
        "id": "iCYMgKwD0Mkh",
        "outputId": "cd5b47a0-2ad4-47ea-bc1a-cef18b9ac3d5"
      },
      "source": [
        "for num in simple_gen():\r\n",
        "  print(num)"
      ],
      "execution_count": 22,
      "outputs": [
        {
          "output_type": "stream",
          "text": [
            "0\n",
            "1\n",
            "2\n"
          ],
          "name": "stdout"
        }
      ]
    },
    {
      "cell_type": "code",
      "metadata": {
        "colab": {
          "base_uri": "https://localhost:8080/"
        },
        "id": "lZpFuLl00QhJ",
        "outputId": "08c96e29-61c8-4553-fe5e-88a670e78466"
      },
      "source": [
        "g = simple_gen()\r\n",
        "g"
      ],
      "execution_count": 24,
      "outputs": [
        {
          "output_type": "execute_result",
          "data": {
            "text/plain": [
              "<generator object simple_gen at 0x7f07a5086f10>"
            ]
          },
          "metadata": {
            "tags": []
          },
          "execution_count": 24
        }
      ]
    },
    {
      "cell_type": "code",
      "metadata": {
        "colab": {
          "base_uri": "https://localhost:8080/"
        },
        "id": "ISl0G5Fp0TW1",
        "outputId": "24ff9209-ee78-4079-86a1-4e27035ad064"
      },
      "source": [
        "print(next(g))"
      ],
      "execution_count": 25,
      "outputs": [
        {
          "output_type": "stream",
          "text": [
            "0\n"
          ],
          "name": "stdout"
        }
      ]
    },
    {
      "cell_type": "code",
      "metadata": {
        "colab": {
          "base_uri": "https://localhost:8080/"
        },
        "id": "CYB974c70XM0",
        "outputId": "ef417359-689b-42fa-963e-abb4f75efd00"
      },
      "source": [
        "print(next(g))"
      ],
      "execution_count": 26,
      "outputs": [
        {
          "output_type": "stream",
          "text": [
            "1\n"
          ],
          "name": "stdout"
        }
      ]
    },
    {
      "cell_type": "code",
      "metadata": {
        "colab": {
          "base_uri": "https://localhost:8080/"
        },
        "id": "Yjljsvr00Z_H",
        "outputId": "b43fc7ea-255c-4a95-fab1-d4c8971709cb"
      },
      "source": [
        "print(next(g))"
      ],
      "execution_count": 27,
      "outputs": [
        {
          "output_type": "stream",
          "text": [
            "2\n"
          ],
          "name": "stdout"
        }
      ]
    },
    {
      "cell_type": "code",
      "metadata": {
        "colab": {
          "base_uri": "https://localhost:8080/",
          "height": 177
        },
        "id": "W0GTxg5T0c7R",
        "outputId": "52bc4c52-68c6-407b-cb9e-01e2b10a97d8"
      },
      "source": [
        "print(next(g))"
      ],
      "execution_count": 28,
      "outputs": [
        {
          "output_type": "error",
          "ename": "StopIteration",
          "evalue": "ignored",
          "traceback": [
            "\u001b[0;31m---------------------------------------------------------------------------\u001b[0m",
            "\u001b[0;31mStopIteration\u001b[0m                             Traceback (most recent call last)",
            "\u001b[0;32m<ipython-input-28-1dfb29d6357e>\u001b[0m in \u001b[0;36m<module>\u001b[0;34m()\u001b[0m\n\u001b[0;32m----> 1\u001b[0;31m \u001b[0mprint\u001b[0m\u001b[0;34m(\u001b[0m\u001b[0mnext\u001b[0m\u001b[0;34m(\u001b[0m\u001b[0mg\u001b[0m\u001b[0;34m)\u001b[0m\u001b[0;34m)\u001b[0m\u001b[0;34m\u001b[0m\u001b[0;34m\u001b[0m\u001b[0m\n\u001b[0m",
            "\u001b[0;31mStopIteration\u001b[0m: "
          ]
        }
      ]
    },
    {
      "cell_type": "code",
      "metadata": {
        "id": "Ki1z6R_D0eH3"
      },
      "source": [
        "s = 'hello'"
      ],
      "execution_count": 29,
      "outputs": []
    },
    {
      "cell_type": "code",
      "metadata": {
        "colab": {
          "base_uri": "https://localhost:8080/"
        },
        "id": "AErzfpBG0sPu",
        "outputId": "359e9655-48cc-40ce-c2c9-007cb403fe05"
      },
      "source": [
        "for letter in s:\r\n",
        "  print(letter)"
      ],
      "execution_count": 30,
      "outputs": [
        {
          "output_type": "stream",
          "text": [
            "h\n",
            "e\n",
            "l\n",
            "l\n",
            "o\n"
          ],
          "name": "stdout"
        }
      ]
    },
    {
      "cell_type": "code",
      "metadata": {
        "colab": {
          "base_uri": "https://localhost:8080/",
          "height": 177
        },
        "id": "JwEjdMwz0uKp",
        "outputId": "07824546-8ce4-4783-f434-de16cb535344"
      },
      "source": [
        "next(s)"
      ],
      "execution_count": 33,
      "outputs": [
        {
          "output_type": "error",
          "ename": "TypeError",
          "evalue": "ignored",
          "traceback": [
            "\u001b[0;31m---------------------------------------------------------------------------\u001b[0m",
            "\u001b[0;31mTypeError\u001b[0m                                 Traceback (most recent call last)",
            "\u001b[0;32m<ipython-input-33-61c30b5fe1d5>\u001b[0m in \u001b[0;36m<module>\u001b[0;34m()\u001b[0m\n\u001b[0;32m----> 1\u001b[0;31m \u001b[0mnext\u001b[0m\u001b[0;34m(\u001b[0m\u001b[0ms\u001b[0m\u001b[0;34m)\u001b[0m\u001b[0;34m\u001b[0m\u001b[0;34m\u001b[0m\u001b[0m\n\u001b[0m",
            "\u001b[0;31mTypeError\u001b[0m: 'str' object is not an iterator"
          ]
        }
      ]
    },
    {
      "cell_type": "code",
      "metadata": {
        "id": "yM0KGoa30wIv"
      },
      "source": [
        "s_iter = iter(s)"
      ],
      "execution_count": 34,
      "outputs": []
    },
    {
      "cell_type": "code",
      "metadata": {
        "colab": {
          "base_uri": "https://localhost:8080/",
          "height": 36
        },
        "id": "cEoNe8ct058Q",
        "outputId": "8bf08dbc-b0bb-4cd2-9ec3-beb520c546ba"
      },
      "source": [
        "next(s_iter)"
      ],
      "execution_count": 35,
      "outputs": [
        {
          "output_type": "execute_result",
          "data": {
            "application/vnd.google.colaboratory.intrinsic+json": {
              "type": "string"
            },
            "text/plain": [
              "'h'"
            ]
          },
          "metadata": {
            "tags": []
          },
          "execution_count": 35
        }
      ]
    },
    {
      "cell_type": "code",
      "metadata": {
        "colab": {
          "base_uri": "https://localhost:8080/",
          "height": 36
        },
        "id": "rK_ep3Bw06_B",
        "outputId": "538f80d6-890c-4ce3-8793-6380b4f31c53"
      },
      "source": [
        "next(s_iter)"
      ],
      "execution_count": 37,
      "outputs": [
        {
          "output_type": "execute_result",
          "data": {
            "application/vnd.google.colaboratory.intrinsic+json": {
              "type": "string"
            },
            "text/plain": [
              "'l'"
            ]
          },
          "metadata": {
            "tags": []
          },
          "execution_count": 37
        }
      ]
    },
    {
      "cell_type": "code",
      "metadata": {
        "colab": {
          "base_uri": "https://localhost:8080/",
          "height": 36
        },
        "id": "BNUaNfQT09eH",
        "outputId": "6f8e5d2f-3ca1-40be-a907-ffd20347fa5e"
      },
      "source": [
        "next(s_iter)"
      ],
      "execution_count": 38,
      "outputs": [
        {
          "output_type": "execute_result",
          "data": {
            "application/vnd.google.colaboratory.intrinsic+json": {
              "type": "string"
            },
            "text/plain": [
              "'l'"
            ]
          },
          "metadata": {
            "tags": []
          },
          "execution_count": 38
        }
      ]
    }
  ]
}