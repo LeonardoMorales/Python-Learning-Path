{
  "nbformat": 4,
  "nbformat_minor": 0,
  "metadata": {
    "colab": {
      "name": "Python Fundamentals.ipynb",
      "provenance": [],
      "authorship_tag": "ABX9TyOSgfCuwPB0buuQOR4tHvUR",
      "include_colab_link": true
    },
    "kernelspec": {
      "name": "python3",
      "display_name": "Python 3"
    }
  },
  "cells": [
    {
      "cell_type": "markdown",
      "metadata": {
        "id": "view-in-github",
        "colab_type": "text"
      },
      "source": [
        "<a href=\"https://colab.research.google.com/github/LeonardoMorales/Python-Learning-Path/blob/master/Python_Fundamentals.ipynb\" target=\"_parent\"><img src=\"https://colab.research.google.com/assets/colab-badge.svg\" alt=\"Open In Colab\"/></a>"
      ]
    },
    {
      "cell_type": "markdown",
      "metadata": {
        "id": "5r1U6eDjquod"
      },
      "source": [
        "#Lists\r\n",
        "* **Ordered** sequences thath can hold a **variety of object types**\r\n",
        "* They use [] brackets and commas to separate objects in the list\r\n",
        "  * [1,2,3,4,5]\r\n",
        "* Lists support indexing and slicing"
      ]
    },
    {
      "cell_type": "code",
      "metadata": {
        "id": "i9hf7U5-rbFP"
      },
      "source": [
        "my_num_list = [1,2,3]\r\n",
        "my_variety_list = ['STRING', 100, 12.3]"
      ],
      "execution_count": null,
      "outputs": []
    },
    {
      "cell_type": "code",
      "metadata": {
        "colab": {
          "base_uri": "https://localhost:8080/"
        },
        "id": "HZ9YodoOrn8x",
        "outputId": "7085eafb-a804-44ac-97bb-6549b395fb4c"
      },
      "source": [
        "len(my_variety_list)"
      ],
      "execution_count": null,
      "outputs": [
        {
          "output_type": "execute_result",
          "data": {
            "text/plain": [
              "3"
            ]
          },
          "metadata": {
            "tags": []
          },
          "execution_count": 3
        }
      ]
    },
    {
      "cell_type": "code",
      "metadata": {
        "id": "9t3tiKaUrqg_"
      },
      "source": [
        "myList = ['one', 'two', 'three']"
      ],
      "execution_count": null,
      "outputs": []
    },
    {
      "cell_type": "code",
      "metadata": {
        "colab": {
          "base_uri": "https://localhost:8080/",
          "height": 36
        },
        "id": "0mVQA4iUsGco",
        "outputId": "5df086d9-6721-49d1-f291-28475e64c7d4"
      },
      "source": [
        "myList[0]"
      ],
      "execution_count": null,
      "outputs": [
        {
          "output_type": "execute_result",
          "data": {
            "application/vnd.google.colaboratory.intrinsic+json": {
              "type": "string"
            },
            "text/plain": [
              "'one'"
            ]
          },
          "metadata": {
            "tags": []
          },
          "execution_count": 8
        }
      ]
    },
    {
      "cell_type": "code",
      "metadata": {
        "colab": {
          "base_uri": "https://localhost:8080/"
        },
        "id": "937NvTClsDdr",
        "outputId": "bdcf48b8-1a45-45fb-ddb0-9c813cb8bd0d"
      },
      "source": [
        "myList[1:]"
      ],
      "execution_count": null,
      "outputs": [
        {
          "output_type": "execute_result",
          "data": {
            "text/plain": [
              "['two', 'three']"
            ]
          },
          "metadata": {
            "tags": []
          },
          "execution_count": 9
        }
      ]
    },
    {
      "cell_type": "code",
      "metadata": {
        "id": "Dqu1s1kxrfSw"
      },
      "source": [
        "anotherList = ['Four', 'Five']"
      ],
      "execution_count": null,
      "outputs": []
    },
    {
      "cell_type": "code",
      "metadata": {
        "id": "wEjNidHZsVcu"
      },
      "source": [
        "newList = myList + anotherList"
      ],
      "execution_count": null,
      "outputs": []
    },
    {
      "cell_type": "code",
      "metadata": {
        "colab": {
          "base_uri": "https://localhost:8080/"
        },
        "id": "NmHL8MQ8sXS2",
        "outputId": "0c31b71e-ffe7-4a81-e6e5-5564d5288248"
      },
      "source": [
        "print(myList)\r\n",
        "print(anotherList)\r\n",
        "print(newList)"
      ],
      "execution_count": null,
      "outputs": [
        {
          "output_type": "stream",
          "text": [
            "['one', 'two', 'three']\n",
            "['Four', 'Five']\n",
            "['one', 'two', 'three', 'Four', 'Five']\n"
          ],
          "name": "stdout"
        }
      ]
    },
    {
      "cell_type": "code",
      "metadata": {
        "colab": {
          "base_uri": "https://localhost:8080/"
        },
        "id": "XR7S4GGhsmDS",
        "outputId": "c566e733-7242-456d-c2ff-cafef333326a"
      },
      "source": [
        "newList[0] = \"ONE ALL CAPS\"\r\n",
        "newList"
      ],
      "execution_count": null,
      "outputs": [
        {
          "output_type": "execute_result",
          "data": {
            "text/plain": [
              "['ONE ALL CAPS', 'two', 'three', 'Four', 'Five']"
            ]
          },
          "metadata": {
            "tags": []
          },
          "execution_count": 16
        }
      ]
    },
    {
      "cell_type": "code",
      "metadata": {
        "colab": {
          "base_uri": "https://localhost:8080/"
        },
        "id": "QngK-Atns-Fd",
        "outputId": "8dce443f-172d-4637-a85a-322945ce82e4"
      },
      "source": [
        "newList.append(\"Six\")\r\n",
        "newList"
      ],
      "execution_count": null,
      "outputs": [
        {
          "output_type": "execute_result",
          "data": {
            "text/plain": [
              "['ONE ALL CAPS', 'two', 'three', 'Four', 'Five', 'Six']"
            ]
          },
          "metadata": {
            "tags": []
          },
          "execution_count": 17
        }
      ]
    },
    {
      "cell_type": "code",
      "metadata": {
        "colab": {
          "base_uri": "https://localhost:8080/",
          "height": 36
        },
        "id": "mO2QfPoXtJtn",
        "outputId": "1a08ee4b-886a-4c6b-f5de-e5c4be5fdb06"
      },
      "source": [
        "newList.pop()"
      ],
      "execution_count": null,
      "outputs": [
        {
          "output_type": "execute_result",
          "data": {
            "application/vnd.google.colaboratory.intrinsic+json": {
              "type": "string"
            },
            "text/plain": [
              "'Six'"
            ]
          },
          "metadata": {
            "tags": []
          },
          "execution_count": 18
        }
      ]
    },
    {
      "cell_type": "code",
      "metadata": {
        "colab": {
          "base_uri": "https://localhost:8080/"
        },
        "id": "ngzUbakLtdde",
        "outputId": "b31c9cac-96a4-4dd0-e170-4922a7941447"
      },
      "source": [
        "newList"
      ],
      "execution_count": null,
      "outputs": [
        {
          "output_type": "execute_result",
          "data": {
            "text/plain": [
              "['ONE ALL CAPS', 'two', 'three', 'Four', 'Five']"
            ]
          },
          "metadata": {
            "tags": []
          },
          "execution_count": 19
        }
      ]
    },
    {
      "cell_type": "code",
      "metadata": {
        "colab": {
          "base_uri": "https://localhost:8080/",
          "height": 36
        },
        "id": "-6yxZfaCtfpy",
        "outputId": "d1858e0c-6e53-48ec-b0ab-a27299fa685b"
      },
      "source": [
        "newList.pop(3)"
      ],
      "execution_count": null,
      "outputs": [
        {
          "output_type": "execute_result",
          "data": {
            "application/vnd.google.colaboratory.intrinsic+json": {
              "type": "string"
            },
            "text/plain": [
              "'Four'"
            ]
          },
          "metadata": {
            "tags": []
          },
          "execution_count": 20
        }
      ]
    },
    {
      "cell_type": "code",
      "metadata": {
        "id": "Kc5gU5IOtswe"
      },
      "source": [
        "newList = ['a', 'y', 'c', 'r', 'l']\r\n",
        "numList = [4,1,8,3]"
      ],
      "execution_count": null,
      "outputs": []
    },
    {
      "cell_type": "code",
      "metadata": {
        "colab": {
          "base_uri": "https://localhost:8080/"
        },
        "id": "uysmEfjwuDpR",
        "outputId": "ad76a327-f9ed-4bb6-dbcf-83975a83911e"
      },
      "source": [
        "newList.sort()\r\n",
        "newList"
      ],
      "execution_count": null,
      "outputs": [
        {
          "output_type": "execute_result",
          "data": {
            "text/plain": [
              "['a', 'b', 'c', 'd', 'e']"
            ]
          },
          "metadata": {
            "tags": []
          },
          "execution_count": 24
        }
      ]
    },
    {
      "cell_type": "code",
      "metadata": {
        "colab": {
          "base_uri": "https://localhost:8080/"
        },
        "id": "qAnisbFQubp9",
        "outputId": "242a0a64-ddab-4e8c-db49-c74d5318ce98"
      },
      "source": [
        "numList.sort()\r\n",
        "numList"
      ],
      "execution_count": null,
      "outputs": [
        {
          "output_type": "execute_result",
          "data": {
            "text/plain": [
              "[1, 3, 4, 8]"
            ]
          },
          "metadata": {
            "tags": []
          },
          "execution_count": 25
        }
      ]
    },
    {
      "cell_type": "code",
      "metadata": {
        "colab": {
          "base_uri": "https://localhost:8080/"
        },
        "id": "Krytrz08uqwV",
        "outputId": "9facd7f3-3dcd-4d6d-e166-83bcd1d9601f"
      },
      "source": [
        "numList.reverse()\r\n",
        "numList"
      ],
      "execution_count": null,
      "outputs": [
        {
          "output_type": "execute_result",
          "data": {
            "text/plain": [
              "[8, 4, 3, 1]"
            ]
          },
          "metadata": {
            "tags": []
          },
          "execution_count": 26
        }
      ]
    },
    {
      "cell_type": "markdown",
      "metadata": {
        "id": "UEoTQ04VwRFe"
      },
      "source": [
        "# Dictionaries\r\n",
        "* Dictionaries are **unordered** mappings for storing objects\r\n",
        "* They use a **key-value** pairing\r\n",
        "* Here we use curly braces and colons to signify the keys and their associated values\r\n",
        "  * {'key1':'value1', 'key2':'value2'}"
      ]
    },
    {
      "cell_type": "code",
      "metadata": {
        "colab": {
          "base_uri": "https://localhost:8080/"
        },
        "id": "M6W3X8HZ5fvS",
        "outputId": "a237f8f5-474c-4311-859c-eb9db3ed19a4"
      },
      "source": [
        "myDict = {'key1':'value1', 'key2':'value2'}\r\n",
        "myDict"
      ],
      "execution_count": null,
      "outputs": [
        {
          "output_type": "execute_result",
          "data": {
            "text/plain": [
              "{'key1': 'value1', 'key2': 'value2'}"
            ]
          },
          "metadata": {
            "tags": []
          },
          "execution_count": 28
        }
      ]
    },
    {
      "cell_type": "code",
      "metadata": {
        "colab": {
          "base_uri": "https://localhost:8080/",
          "height": 36
        },
        "id": "9jioHkdH5lip",
        "outputId": "39c0937b-11d8-4b56-d7c9-4b539bd81032"
      },
      "source": [
        "myDict['key1']"
      ],
      "execution_count": null,
      "outputs": [
        {
          "output_type": "execute_result",
          "data": {
            "application/vnd.google.colaboratory.intrinsic+json": {
              "type": "string"
            },
            "text/plain": [
              "'value1'"
            ]
          },
          "metadata": {
            "tags": []
          },
          "execution_count": 29
        }
      ]
    },
    {
      "cell_type": "code",
      "metadata": {
        "id": "EDlv2IU15sGV"
      },
      "source": [
        "prices_lookup = {'apple':2.99,'oranges':1.99,'milk':5.80}"
      ],
      "execution_count": null,
      "outputs": []
    },
    {
      "cell_type": "code",
      "metadata": {
        "colab": {
          "base_uri": "https://localhost:8080/"
        },
        "id": "9UH_CpbP52m6",
        "outputId": "3d6d49ca-5baf-46b9-cc12-fb22ef4e72ed"
      },
      "source": [
        "prices_lookup['apple']"
      ],
      "execution_count": null,
      "outputs": [
        {
          "output_type": "execute_result",
          "data": {
            "text/plain": [
              "2.99"
            ]
          },
          "metadata": {
            "tags": []
          },
          "execution_count": 31
        }
      ]
    },
    {
      "cell_type": "code",
      "metadata": {
        "id": "nWm7IeyN546F"
      },
      "source": [
        "d = {'k1':123,'k2':[0,1,2],'k3':{'insideKey':100}}"
      ],
      "execution_count": 2,
      "outputs": []
    },
    {
      "cell_type": "code",
      "metadata": {
        "colab": {
          "base_uri": "https://localhost:8080/"
        },
        "id": "3Jne8I106Jcy",
        "outputId": "999a2ac7-d897-49bf-b8de-b765f09fcc81"
      },
      "source": [
        "d['k2'][2]"
      ],
      "execution_count": 3,
      "outputs": [
        {
          "output_type": "execute_result",
          "data": {
            "text/plain": [
              "2"
            ]
          },
          "metadata": {
            "tags": []
          },
          "execution_count": 3
        }
      ]
    },
    {
      "cell_type": "code",
      "metadata": {
        "colab": {
          "base_uri": "https://localhost:8080/"
        },
        "id": "oYY-OOU26LtZ",
        "outputId": "439ccb7c-1583-4a2f-f427-23c425d33a65"
      },
      "source": [
        "d['k3']"
      ],
      "execution_count": 4,
      "outputs": [
        {
          "output_type": "execute_result",
          "data": {
            "text/plain": [
              "{'insideKey': 100}"
            ]
          },
          "metadata": {
            "tags": []
          },
          "execution_count": 4
        }
      ]
    },
    {
      "cell_type": "code",
      "metadata": {
        "colab": {
          "base_uri": "https://localhost:8080/"
        },
        "id": "fwHKxNoa6PCk",
        "outputId": "1340b379-9475-40c7-fc8a-caedce20a75a"
      },
      "source": [
        "d['k3']['insideKey']"
      ],
      "execution_count": 5,
      "outputs": [
        {
          "output_type": "execute_result",
          "data": {
            "text/plain": [
              "100"
            ]
          },
          "metadata": {
            "tags": []
          },
          "execution_count": 5
        }
      ]
    },
    {
      "cell_type": "code",
      "metadata": {
        "colab": {
          "base_uri": "https://localhost:8080/"
        },
        "id": "2lQE2B2A6eId",
        "outputId": "b811a223-4f7d-4f23-a72e-5d246713da28"
      },
      "source": [
        "d = {'key1':['a','b','c','d']}\r\n",
        "d"
      ],
      "execution_count": 6,
      "outputs": [
        {
          "output_type": "execute_result",
          "data": {
            "text/plain": [
              "{'key1': ['a', 'b', 'c', 'd']}"
            ]
          },
          "metadata": {
            "tags": []
          },
          "execution_count": 6
        }
      ]
    },
    {
      "cell_type": "code",
      "metadata": {
        "id": "3l7RjXUr64EB",
        "colab": {
          "base_uri": "https://localhost:8080/"
        },
        "outputId": "78cf4077-bf3f-4fdd-e7b8-53fa29606d88"
      },
      "source": [
        "myList = d['key1']\r\n",
        "myList"
      ],
      "execution_count": 8,
      "outputs": [
        {
          "output_type": "execute_result",
          "data": {
            "text/plain": [
              "['a', 'b', 'c', 'd']"
            ]
          },
          "metadata": {
            "tags": []
          },
          "execution_count": 8
        }
      ]
    },
    {
      "cell_type": "code",
      "metadata": {
        "colab": {
          "base_uri": "https://localhost:8080/",
          "height": 36
        },
        "id": "9oDGIL4AzzdG",
        "outputId": "188e8bf0-493a-4341-b5db-cf51813ba2c0"
      },
      "source": [
        "letter = myList[2]\r\n",
        "letter"
      ],
      "execution_count": 11,
      "outputs": [
        {
          "output_type": "execute_result",
          "data": {
            "application/vnd.google.colaboratory.intrinsic+json": {
              "type": "string"
            },
            "text/plain": [
              "'c'"
            ]
          },
          "metadata": {
            "tags": []
          },
          "execution_count": 11
        }
      ]
    },
    {
      "cell_type": "code",
      "metadata": {
        "colab": {
          "base_uri": "https://localhost:8080/",
          "height": 36
        },
        "id": "M-boeOq4zia0",
        "outputId": "b40d943b-f962-4a34-aaf6-229297aa05b9"
      },
      "source": [
        "letter.upper()"
      ],
      "execution_count": 12,
      "outputs": [
        {
          "output_type": "execute_result",
          "data": {
            "application/vnd.google.colaboratory.intrinsic+json": {
              "type": "string"
            },
            "text/plain": [
              "'C'"
            ]
          },
          "metadata": {
            "tags": []
          },
          "execution_count": 12
        }
      ]
    },
    {
      "cell_type": "code",
      "metadata": {
        "colab": {
          "base_uri": "https://localhost:8080/"
        },
        "id": "JTnatek5z_M3",
        "outputId": "fc6adce1-704d-4088-c4a6-e48e5aaf419c"
      },
      "source": [
        "d"
      ],
      "execution_count": 13,
      "outputs": [
        {
          "output_type": "execute_result",
          "data": {
            "text/plain": [
              "{'key1': ['a', 'b', 'c', 'd']}"
            ]
          },
          "metadata": {
            "tags": []
          },
          "execution_count": 13
        }
      ]
    },
    {
      "cell_type": "code",
      "metadata": {
        "colab": {
          "base_uri": "https://localhost:8080/",
          "height": 36
        },
        "id": "nXAmW6nL0DSe",
        "outputId": "02eee680-6699-4630-d009-2dab5190efed"
      },
      "source": [
        "d['key1'][2].upper()"
      ],
      "execution_count": 14,
      "outputs": [
        {
          "output_type": "execute_result",
          "data": {
            "application/vnd.google.colaboratory.intrinsic+json": {
              "type": "string"
            },
            "text/plain": [
              "'C'"
            ]
          },
          "metadata": {
            "tags": []
          },
          "execution_count": 14
        }
      ]
    },
    {
      "cell_type": "code",
      "metadata": {
        "colab": {
          "base_uri": "https://localhost:8080/"
        },
        "id": "GpDSFQr60QMB",
        "outputId": "01815350-2d42-4a0e-f821-4fbe556a081e"
      },
      "source": [
        "d = {'k1':100,'k2':200}\r\n",
        "d"
      ],
      "execution_count": 16,
      "outputs": [
        {
          "output_type": "execute_result",
          "data": {
            "text/plain": [
              "{'k1': 100, 'k2': 200}"
            ]
          },
          "metadata": {
            "tags": []
          },
          "execution_count": 16
        }
      ]
    },
    {
      "cell_type": "code",
      "metadata": {
        "colab": {
          "base_uri": "https://localhost:8080/"
        },
        "id": "_CjQBxd40omp",
        "outputId": "229462f1-0db6-4818-d7f7-ba22e1293439"
      },
      "source": [
        "d['k3'] = 300\r\n",
        "d"
      ],
      "execution_count": 18,
      "outputs": [
        {
          "output_type": "execute_result",
          "data": {
            "text/plain": [
              "{'k1': 100, 'k2': 200, 'k3': 300}"
            ]
          },
          "metadata": {
            "tags": []
          },
          "execution_count": 18
        }
      ]
    },
    {
      "cell_type": "code",
      "metadata": {
        "colab": {
          "base_uri": "https://localhost:8080/"
        },
        "id": "yYC0MQE-0vbD",
        "outputId": "a66e54e8-21c9-4cf3-b5bf-d4fdaafa893c"
      },
      "source": [
        "d['k1'] = 'New Value'\r\n",
        "d"
      ],
      "execution_count": 19,
      "outputs": [
        {
          "output_type": "execute_result",
          "data": {
            "text/plain": [
              "{'k1': 'New Value', 'k2': 200, 'k3': 300}"
            ]
          },
          "metadata": {
            "tags": []
          },
          "execution_count": 19
        }
      ]
    },
    {
      "cell_type": "code",
      "metadata": {
        "colab": {
          "base_uri": "https://localhost:8080/"
        },
        "id": "CBOaAPRa0y7G",
        "outputId": "d585d409-e3ff-4806-bbe4-0a3440291f6d"
      },
      "source": [
        "d = {'k1': 100, 'k2': 200, 'k3': 300}\r\n",
        "d"
      ],
      "execution_count": 20,
      "outputs": [
        {
          "output_type": "execute_result",
          "data": {
            "text/plain": [
              "{'k1': 100, 'k2': 200, 'k3': 300}"
            ]
          },
          "metadata": {
            "tags": []
          },
          "execution_count": 20
        }
      ]
    },
    {
      "cell_type": "code",
      "metadata": {
        "colab": {
          "base_uri": "https://localhost:8080/"
        },
        "id": "breJHEHr05u3",
        "outputId": "8befe552-85ac-41d5-a223-7aa86021a5d0"
      },
      "source": [
        "d.keys()"
      ],
      "execution_count": 22,
      "outputs": [
        {
          "output_type": "execute_result",
          "data": {
            "text/plain": [
              "dict_keys(['k1', 'k2', 'k3'])"
            ]
          },
          "metadata": {
            "tags": []
          },
          "execution_count": 22
        }
      ]
    },
    {
      "cell_type": "code",
      "metadata": {
        "colab": {
          "base_uri": "https://localhost:8080/"
        },
        "id": "YEzerUew08cK",
        "outputId": "e2443c4c-5968-4873-dd60-b39c2c7e11be"
      },
      "source": [
        "d.values()"
      ],
      "execution_count": 23,
      "outputs": [
        {
          "output_type": "execute_result",
          "data": {
            "text/plain": [
              "dict_values([100, 200, 300])"
            ]
          },
          "metadata": {
            "tags": []
          },
          "execution_count": 23
        }
      ]
    },
    {
      "cell_type": "code",
      "metadata": {
        "colab": {
          "base_uri": "https://localhost:8080/"
        },
        "id": "Xyc_RA7T1A20",
        "outputId": "f55c4276-887c-4e68-e39f-c91e56180b93"
      },
      "source": [
        "d.items()"
      ],
      "execution_count": 24,
      "outputs": [
        {
          "output_type": "execute_result",
          "data": {
            "text/plain": [
              "dict_items([('k1', 100), ('k2', 200), ('k3', 300)])"
            ]
          },
          "metadata": {
            "tags": []
          },
          "execution_count": 24
        }
      ]
    },
    {
      "cell_type": "markdown",
      "metadata": {
        "id": "JfgQfno-1jsz"
      },
      "source": [
        "#Tuples\r\n",
        "* They are very similar to lists. However they have one key difference - **immutability**. Once an element is inside a tuple, it can not be reassigned.\r\n",
        "* Tuples use parenthesis: **(1,2,3)**"
      ]
    },
    {
      "cell_type": "code",
      "metadata": {
        "id": "PxvnY8qr2M2D"
      },
      "source": [
        "t = (1,2,3)\r\n",
        "myList = [1,2,3]"
      ],
      "execution_count": 35,
      "outputs": []
    },
    {
      "cell_type": "code",
      "metadata": {
        "colab": {
          "base_uri": "https://localhost:8080/"
        },
        "id": "YN3f7aC02UC4",
        "outputId": "fb7e8dc5-15dc-4830-e0e9-61410f6a445e"
      },
      "source": [
        "t = ('one', 2)\r\n",
        "t"
      ],
      "execution_count": 26,
      "outputs": [
        {
          "output_type": "execute_result",
          "data": {
            "text/plain": [
              "('one', 2)"
            ]
          },
          "metadata": {
            "tags": []
          },
          "execution_count": 26
        }
      ]
    },
    {
      "cell_type": "code",
      "metadata": {
        "colab": {
          "base_uri": "https://localhost:8080/",
          "height": 36
        },
        "id": "cApcVbQi2d9M",
        "outputId": "c43122fe-6727-4928-d3a7-d3eadbded655"
      },
      "source": [
        "t[0]"
      ],
      "execution_count": 27,
      "outputs": [
        {
          "output_type": "execute_result",
          "data": {
            "application/vnd.google.colaboratory.intrinsic+json": {
              "type": "string"
            },
            "text/plain": [
              "'one'"
            ]
          },
          "metadata": {
            "tags": []
          },
          "execution_count": 27
        }
      ]
    },
    {
      "cell_type": "code",
      "metadata": {
        "colab": {
          "base_uri": "https://localhost:8080/"
        },
        "id": "fUrtTAEO2gWn",
        "outputId": "335017d8-b427-44b7-857a-dba1cb34037d"
      },
      "source": [
        "t[-1]"
      ],
      "execution_count": 28,
      "outputs": [
        {
          "output_type": "execute_result",
          "data": {
            "text/plain": [
              "2"
            ]
          },
          "metadata": {
            "tags": []
          },
          "execution_count": 28
        }
      ]
    },
    {
      "cell_type": "code",
      "metadata": {
        "id": "pVrPUNt11DiI"
      },
      "source": [
        "t = ('a', 'a', 'b')"
      ],
      "execution_count": 29,
      "outputs": []
    },
    {
      "cell_type": "code",
      "metadata": {
        "colab": {
          "base_uri": "https://localhost:8080/"
        },
        "id": "vJvXgwld2nek",
        "outputId": "590f16dc-9838-48e4-8e46-16d1ba279720"
      },
      "source": [
        "t.count('a')"
      ],
      "execution_count": 30,
      "outputs": [
        {
          "output_type": "execute_result",
          "data": {
            "text/plain": [
              "2"
            ]
          },
          "metadata": {
            "tags": []
          },
          "execution_count": 30
        }
      ]
    },
    {
      "cell_type": "code",
      "metadata": {
        "colab": {
          "base_uri": "https://localhost:8080/"
        },
        "id": "-AOyIdhX2q7X",
        "outputId": "bbb98b40-9424-4151-e53a-dbca82ed78a6"
      },
      "source": [
        "t.index('a')"
      ],
      "execution_count": 31,
      "outputs": [
        {
          "output_type": "execute_result",
          "data": {
            "text/plain": [
              "0"
            ]
          },
          "metadata": {
            "tags": []
          },
          "execution_count": 31
        }
      ]
    },
    {
      "cell_type": "code",
      "metadata": {
        "colab": {
          "base_uri": "https://localhost:8080/"
        },
        "id": "g7u_FguK2tsY",
        "outputId": "72c78c39-35d2-41ee-f9d8-09d802f558a5"
      },
      "source": [
        "t.index('b')"
      ],
      "execution_count": 32,
      "outputs": [
        {
          "output_type": "execute_result",
          "data": {
            "text/plain": [
              "2"
            ]
          },
          "metadata": {
            "tags": []
          },
          "execution_count": 32
        }
      ]
    },
    {
      "cell_type": "code",
      "metadata": {
        "colab": {
          "base_uri": "https://localhost:8080/"
        },
        "id": "y1jzr37q21pS",
        "outputId": "86683a5e-8792-4c58-e353-eeb2087ac06b"
      },
      "source": [
        "myList[0] = \"NEW\"\r\n",
        "myList"
      ],
      "execution_count": 36,
      "outputs": [
        {
          "output_type": "execute_result",
          "data": {
            "text/plain": [
              "['NEW', 2, 3]"
            ]
          },
          "metadata": {
            "tags": []
          },
          "execution_count": 36
        }
      ]
    },
    {
      "cell_type": "code",
      "metadata": {
        "colab": {
          "base_uri": "https://localhost:8080/",
          "height": 177
        },
        "id": "F8k5zw4m282D",
        "outputId": "38ac267d-a623-4c84-f260-8fbaa7c6c4a9"
      },
      "source": [
        "t[0] = 'NEW'"
      ],
      "execution_count": 38,
      "outputs": [
        {
          "output_type": "error",
          "ename": "TypeError",
          "evalue": "ignored",
          "traceback": [
            "\u001b[0;31m---------------------------------------------------------------------------\u001b[0m",
            "\u001b[0;31mTypeError\u001b[0m                                 Traceback (most recent call last)",
            "\u001b[0;32m<ipython-input-38-93bfe9be1549>\u001b[0m in \u001b[0;36m<module>\u001b[0;34m()\u001b[0m\n\u001b[0;32m----> 1\u001b[0;31m \u001b[0mt\u001b[0m\u001b[0;34m[\u001b[0m\u001b[0;36m0\u001b[0m\u001b[0;34m]\u001b[0m \u001b[0;34m=\u001b[0m \u001b[0;34m'NEW'\u001b[0m\u001b[0;34m\u001b[0m\u001b[0;34m\u001b[0m\u001b[0m\n\u001b[0m",
            "\u001b[0;31mTypeError\u001b[0m: 'tuple' object does not support item assignment"
          ]
        }
      ]
    },
    {
      "cell_type": "markdown",
      "metadata": {
        "id": "EzkNLCgc3aQO"
      },
      "source": [
        "#Sets\r\n",
        "* Sets are **unordered** collections of **unique** elements. Meaning there can only be one representative of the same object."
      ]
    },
    {
      "cell_type": "code",
      "metadata": {
        "id": "k2_d9bVi35YP"
      },
      "source": [
        ""
      ],
      "execution_count": null,
      "outputs": []
    },
    {
      "cell_type": "code",
      "metadata": {
        "colab": {
          "base_uri": "https://localhost:8080/"
        },
        "id": "L9tKX0uX3GPr",
        "outputId": "4997444e-5cdd-4bea-8018-274c93d2310a"
      },
      "source": [
        "mySet = set()\r\n",
        "mySet"
      ],
      "execution_count": 40,
      "outputs": [
        {
          "output_type": "execute_result",
          "data": {
            "text/plain": [
              "set()"
            ]
          },
          "metadata": {
            "tags": []
          },
          "execution_count": 40
        }
      ]
    },
    {
      "cell_type": "code",
      "metadata": {
        "colab": {
          "base_uri": "https://localhost:8080/"
        },
        "id": "90T-LPM33vGA",
        "outputId": "cb7ac400-510e-423f-9d1b-949aa24818c7"
      },
      "source": [
        "mySet.add(1)\r\n",
        "mySet"
      ],
      "execution_count": 41,
      "outputs": [
        {
          "output_type": "execute_result",
          "data": {
            "text/plain": [
              "{1}"
            ]
          },
          "metadata": {
            "tags": []
          },
          "execution_count": 41
        }
      ]
    },
    {
      "cell_type": "code",
      "metadata": {
        "colab": {
          "base_uri": "https://localhost:8080/"
        },
        "id": "QdvscVEB3ta9",
        "outputId": "ccbba3f0-aceb-4ce7-de2d-30a6c4ac7657"
      },
      "source": [
        "mySet.add(2)\r\n",
        "mySet"
      ],
      "execution_count": 42,
      "outputs": [
        {
          "output_type": "execute_result",
          "data": {
            "text/plain": [
              "{1, 2}"
            ]
          },
          "metadata": {
            "tags": []
          },
          "execution_count": 42
        }
      ]
    },
    {
      "cell_type": "code",
      "metadata": {
        "colab": {
          "base_uri": "https://localhost:8080/"
        },
        "id": "ZKgjReSs39XV",
        "outputId": "5c8b54ab-f110-4a43-d230-0d282eadad9d"
      },
      "source": [
        "mySet.add(2)\r\n",
        "mySet"
      ],
      "execution_count": 43,
      "outputs": [
        {
          "output_type": "execute_result",
          "data": {
            "text/plain": [
              "{1, 2}"
            ]
          },
          "metadata": {
            "tags": []
          },
          "execution_count": 43
        }
      ]
    },
    {
      "cell_type": "code",
      "metadata": {
        "id": "20liIb5O3_w9"
      },
      "source": [
        "myList = [1,1,2,2,1,2,3,1,3,2,1,3,4]"
      ],
      "execution_count": 44,
      "outputs": []
    },
    {
      "cell_type": "code",
      "metadata": {
        "colab": {
          "base_uri": "https://localhost:8080/"
        },
        "id": "nxrJuArF4Mbu",
        "outputId": "de715c4e-e3a3-44e6-b64c-226b57efc4d0"
      },
      "source": [
        "set(myList)"
      ],
      "execution_count": 45,
      "outputs": [
        {
          "output_type": "execute_result",
          "data": {
            "text/plain": [
              "{1, 2, 3, 4}"
            ]
          },
          "metadata": {
            "tags": []
          },
          "execution_count": 45
        }
      ]
    },
    {
      "cell_type": "markdown",
      "metadata": {
        "id": "qEfihgj341Iu"
      },
      "source": [
        "# I/O with Basic Files in Python"
      ]
    },
    {
      "cell_type": "code",
      "metadata": {
        "colab": {
          "base_uri": "https://localhost:8080/"
        },
        "id": "5VXgXkDf5GTb",
        "outputId": "78f568dd-2835-4a7a-9ec7-b3dcba6d325c"
      },
      "source": [
        "%%writefile myfile.txt\r\n",
        "Hello this is a text file\r\n",
        "this is the second line\r\n",
        "this is the third line"
      ],
      "execution_count": 48,
      "outputs": [
        {
          "output_type": "stream",
          "text": [
            "Writing myfile.txt\n"
          ],
          "name": "stdout"
        }
      ]
    },
    {
      "cell_type": "code",
      "metadata": {
        "id": "IXKj5Aq35Z5D"
      },
      "source": [
        "myfile = open('myfile.txt')"
      ],
      "execution_count": 49,
      "outputs": []
    },
    {
      "cell_type": "code",
      "metadata": {
        "colab": {
          "base_uri": "https://localhost:8080/",
          "height": 36
        },
        "id": "XxrynLld5jRv",
        "outputId": "8bd33cbe-320b-42b1-af50-fb4e3367a918"
      },
      "source": [
        "pwd"
      ],
      "execution_count": 50,
      "outputs": [
        {
          "output_type": "execute_result",
          "data": {
            "application/vnd.google.colaboratory.intrinsic+json": {
              "type": "string"
            },
            "text/plain": [
              "'/content'"
            ]
          },
          "metadata": {
            "tags": []
          },
          "execution_count": 50
        }
      ]
    },
    {
      "cell_type": "code",
      "metadata": {
        "colab": {
          "base_uri": "https://localhost:8080/",
          "height": 36
        },
        "id": "dHo9uq3y54pj",
        "outputId": "7b07b368-d990-464f-fd16-6d17734cc545"
      },
      "source": [
        "myfile.read()"
      ],
      "execution_count": 51,
      "outputs": [
        {
          "output_type": "execute_result",
          "data": {
            "application/vnd.google.colaboratory.intrinsic+json": {
              "type": "string"
            },
            "text/plain": [
              "'Hello this is a text file\\nthis is the second line\\nthis is the third line'"
            ]
          },
          "metadata": {
            "tags": []
          },
          "execution_count": 51
        }
      ]
    },
    {
      "cell_type": "code",
      "metadata": {
        "colab": {
          "base_uri": "https://localhost:8080/",
          "height": 36
        },
        "id": "KMjo8da86G-r",
        "outputId": "a3160df2-9f2c-4717-9b25-78f0820d5123"
      },
      "source": [
        "myfile.read()"
      ],
      "execution_count": 52,
      "outputs": [
        {
          "output_type": "execute_result",
          "data": {
            "application/vnd.google.colaboratory.intrinsic+json": {
              "type": "string"
            },
            "text/plain": [
              "''"
            ]
          },
          "metadata": {
            "tags": []
          },
          "execution_count": 52
        }
      ]
    },
    {
      "cell_type": "code",
      "metadata": {
        "colab": {
          "base_uri": "https://localhost:8080/",
          "height": 36
        },
        "id": "3C6EroJI6Sof",
        "outputId": "0ff34394-ebd6-42dd-ee57-0b86cf2837b0"
      },
      "source": [
        "myfile.seek(0)\r\n",
        "contents = myfile.read()\r\n",
        "contents"
      ],
      "execution_count": 55,
      "outputs": [
        {
          "output_type": "execute_result",
          "data": {
            "application/vnd.google.colaboratory.intrinsic+json": {
              "type": "string"
            },
            "text/plain": [
              "'Hello this is a text file\\nthis is the second line\\nthis is the third line'"
            ]
          },
          "metadata": {
            "tags": []
          },
          "execution_count": 55
        }
      ]
    },
    {
      "cell_type": "code",
      "metadata": {
        "colab": {
          "base_uri": "https://localhost:8080/"
        },
        "id": "wRtkhiBc6aTI",
        "outputId": "4efc4621-cdf8-4264-a662-806a407da1ca"
      },
      "source": [
        "myfile.seek(0)\r\n",
        "myfile.readlines()"
      ],
      "execution_count": 56,
      "outputs": [
        {
          "output_type": "execute_result",
          "data": {
            "text/plain": [
              "['Hello this is a text file\\n',\n",
              " 'this is the second line\\n',\n",
              " 'this is the third line']"
            ]
          },
          "metadata": {
            "tags": []
          },
          "execution_count": 56
        }
      ]
    },
    {
      "cell_type": "markdown",
      "metadata": {
        "id": "grDjqrVA7BZj"
      },
      "source": [
        "## File Locations\r\n",
        "* For Windows you need to use double **\\**\r\n",
        "* For MacOS and Linux you user slashes **/**"
      ]
    },
    {
      "cell_type": "code",
      "metadata": {
        "colab": {
          "base_uri": "https://localhost:8080/",
          "height": 36
        },
        "id": "_bIU5A-C6u_Q",
        "outputId": "a57d3449-e10c-4e93-f33f-961a77220be5"
      },
      "source": [
        "pwd"
      ],
      "execution_count": 57,
      "outputs": [
        {
          "output_type": "execute_result",
          "data": {
            "application/vnd.google.colaboratory.intrinsic+json": {
              "type": "string"
            },
            "text/plain": [
              "'/content'"
            ]
          },
          "metadata": {
            "tags": []
          },
          "execution_count": 57
        }
      ]
    },
    {
      "cell_type": "code",
      "metadata": {
        "id": "f8FEGiZr7dSI"
      },
      "source": [
        "myfile.close()"
      ],
      "execution_count": 58,
      "outputs": []
    },
    {
      "cell_type": "code",
      "metadata": {
        "id": "scHu8mRz7uns"
      },
      "source": [
        "# This is the best practices way to open a file to avoid forget to close it\r\n",
        "with open('myfile.txt') as myNewFile:\r\n",
        "  contents = myNewFile.read()"
      ],
      "execution_count": 59,
      "outputs": []
    },
    {
      "cell_type": "code",
      "metadata": {
        "colab": {
          "base_uri": "https://localhost:8080/",
          "height": 36
        },
        "id": "BF8yhYVP8Aks",
        "outputId": "b5841bfe-c166-4ef6-d9f4-e06a85b69f59"
      },
      "source": [
        "contents"
      ],
      "execution_count": 60,
      "outputs": [
        {
          "output_type": "execute_result",
          "data": {
            "application/vnd.google.colaboratory.intrinsic+json": {
              "type": "string"
            },
            "text/plain": [
              "'Hello this is a text file\\nthis is the second line\\nthis is the third line'"
            ]
          },
          "metadata": {
            "tags": []
          },
          "execution_count": 60
        }
      ]
    },
    {
      "cell_type": "code",
      "metadata": {
        "id": "6IlVfCRL8ClD"
      },
      "source": [
        "with open('myfile.txt', mode='r') as myFile:\r\n",
        "  contents = myFile.read()"
      ],
      "execution_count": 61,
      "outputs": []
    },
    {
      "cell_type": "code",
      "metadata": {
        "colab": {
          "base_uri": "https://localhost:8080/",
          "height": 36
        },
        "id": "9v73F4f087Q_",
        "outputId": "5e910a33-1d72-43c7-b2c7-32acdaf793c6"
      },
      "source": [
        "contents"
      ],
      "execution_count": 62,
      "outputs": [
        {
          "output_type": "execute_result",
          "data": {
            "application/vnd.google.colaboratory.intrinsic+json": {
              "type": "string"
            },
            "text/plain": [
              "'Hello this is a text file\\nthis is the second line\\nthis is the third line'"
            ]
          },
          "metadata": {
            "tags": []
          },
          "execution_count": 62
        }
      ]
    },
    {
      "cell_type": "markdown",
      "metadata": {
        "id": "JsVTPh169M3m"
      },
      "source": [
        "## Reading, Writing, Appending Modes\r\n",
        "* mode='r' is read only\r\n",
        "* mode='w' is write only (will overwrite files or create new!)\r\n",
        "* mode='a' is append only (will add on to files)\r\n",
        "* mode='r+' is reading and writing\r\n",
        "* mode='w+' is writing and reading (Overwrite existing files or creates a new file!)"
      ]
    },
    {
      "cell_type": "code",
      "metadata": {
        "colab": {
          "base_uri": "https://localhost:8080/"
        },
        "id": "-0jS5mlN9zqu",
        "outputId": "da52687b-77ca-4f1c-a275-e94b508727a5"
      },
      "source": [
        "%%writefile myNewFile.txt\r\n",
        "ONE ON FIRST\r\n",
        "TWO ON SECOND\r\n",
        "THREE ON THIRD"
      ],
      "execution_count": 63,
      "outputs": [
        {
          "output_type": "stream",
          "text": [
            "Writing myNewFile.txt\n"
          ],
          "name": "stdout"
        }
      ]
    },
    {
      "cell_type": "code",
      "metadata": {
        "colab": {
          "base_uri": "https://localhost:8080/"
        },
        "id": "bPtuR01m871m",
        "outputId": "9f939cf6-e3ff-4507-dc79-1bbd572ab91c"
      },
      "source": [
        "with open('myNewFile.txt', mode='r') as f:\r\n",
        "  print(f.read())"
      ],
      "execution_count": 64,
      "outputs": [
        {
          "output_type": "stream",
          "text": [
            "ONE ON FIRST\n",
            "TWO ON SECOND\n",
            "THREE ON THIRD\n"
          ],
          "name": "stdout"
        }
      ]
    },
    {
      "cell_type": "code",
      "metadata": {
        "id": "stAAFElb-T7j"
      },
      "source": [
        "with open('myNewFile.txt', mode='a') as f:\r\n",
        "  f.write(\"\\nFOUR ON FOURTH\")"
      ],
      "execution_count": 65,
      "outputs": []
    },
    {
      "cell_type": "code",
      "metadata": {
        "colab": {
          "base_uri": "https://localhost:8080/"
        },
        "id": "mV2jl8Zw-5L1",
        "outputId": "b72d810b-55d0-4469-d63e-2fdccc1cedd0"
      },
      "source": [
        "with open('myNewFile.txt', mode='r') as f:\r\n",
        "  print(f.read())"
      ],
      "execution_count": 66,
      "outputs": [
        {
          "output_type": "stream",
          "text": [
            "ONE ON FIRST\n",
            "TWO ON SECOND\n",
            "THREE ON THIRD\n",
            "FOUR ON FOURTH\n"
          ],
          "name": "stdout"
        }
      ]
    },
    {
      "cell_type": "code",
      "metadata": {
        "id": "NEppDSN_-6ZA"
      },
      "source": [
        "with open('file.txt', mode='w') as f:\r\n",
        "  f.write('I CREATED THIS FILE!')"
      ],
      "execution_count": 67,
      "outputs": []
    },
    {
      "cell_type": "code",
      "metadata": {
        "colab": {
          "base_uri": "https://localhost:8080/"
        },
        "id": "S5ilwTBv_GGd",
        "outputId": "816141de-78be-4ef1-a063-373f3b426551"
      },
      "source": [
        "with open('file.txt', mode='r') as f:\r\n",
        "  print(f.read())"
      ],
      "execution_count": 68,
      "outputs": [
        {
          "output_type": "stream",
          "text": [
            "I CREATED THIS FILE!\n"
          ],
          "name": "stdout"
        }
      ]
    }
  ]
}