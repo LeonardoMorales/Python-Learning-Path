{
  "nbformat": 4,
  "nbformat_minor": 0,
  "metadata": {
    "colab": {
      "name": "Python Fundamentals.ipynb",
      "provenance": [],
      "collapsed_sections": [
        "5r1U6eDjquod",
        "UEoTQ04VwRFe",
        "JfgQfno-1jsz",
        "EzkNLCgc3aQO",
        "qEfihgj341Iu",
        "grDjqrVA7BZj",
        "JsVTPh169M3m",
        "jYesSzJH8j_a",
        "56uuGMwp9jI2",
        "6gXFpTWnB8WE"
      ],
      "authorship_tag": "ABX9TyN35viEdGUjwRMeK3sQZDuo",
      "include_colab_link": true
    },
    "kernelspec": {
      "name": "python3",
      "display_name": "Python 3"
    }
  },
  "cells": [
    {
      "cell_type": "markdown",
      "metadata": {
        "id": "view-in-github",
        "colab_type": "text"
      },
      "source": [
        "<a href=\"https://colab.research.google.com/github/LeonardoMorales/Python-Learning-Path/blob/master/Python_Fundamentals.ipynb\" target=\"_parent\"><img src=\"https://colab.research.google.com/assets/colab-badge.svg\" alt=\"Open In Colab\"/></a>"
      ]
    },
    {
      "cell_type": "markdown",
      "metadata": {
        "id": "5r1U6eDjquod"
      },
      "source": [
        "#Lists\r\n",
        "* **Ordered** sequences thath can hold a **variety of object types**\r\n",
        "* They use [] brackets and commas to separate objects in the list\r\n",
        "  * [1,2,3,4,5]\r\n",
        "* Lists support indexing and slicing"
      ]
    },
    {
      "cell_type": "code",
      "metadata": {
        "id": "i9hf7U5-rbFP"
      },
      "source": [
        "my_num_list = [1,2,3]\r\n",
        "my_variety_list = ['STRING', 100, 12.3]"
      ],
      "execution_count": null,
      "outputs": []
    },
    {
      "cell_type": "code",
      "metadata": {
        "colab": {
          "base_uri": "https://localhost:8080/"
        },
        "id": "HZ9YodoOrn8x",
        "outputId": "7085eafb-a804-44ac-97bb-6549b395fb4c"
      },
      "source": [
        "len(my_variety_list)"
      ],
      "execution_count": null,
      "outputs": [
        {
          "output_type": "execute_result",
          "data": {
            "text/plain": [
              "3"
            ]
          },
          "metadata": {
            "tags": []
          },
          "execution_count": 3
        }
      ]
    },
    {
      "cell_type": "code",
      "metadata": {
        "id": "9t3tiKaUrqg_"
      },
      "source": [
        "####$#\"$#$sddd#3sdfdsdddddsddmyList = ['one', 'two', 'three']"
      ],
      "execution_count": null,
      "outputs": []
    },
    {
      "cell_type": "code",
      "metadata": {
        "colab": {
          "base_uri": "https://localhost:8080/",
          "height": 36
        },
        "id": "0mVQA4iUsGco",
        "outputId": "5df086d9-6721-49d1-f291-28475e64c7d4"
      },
      "source": [
        "myList[0]"
      ],
      "execution_count": null,
      "outputs": [
        {
          "output_type": "execute_result",
          "data": {
            "application/vnd.google.colaboratory.intrinsic+json": {
              "type": "string"
            },
            "text/plain": [
              "'one'"
            ]
          },
          "metadata": {
            "tags": []
          },
          "execution_count": 8
        }
      ]
    },
    {
      "cell_type": "code",
      "metadata": {
        "colab": {
          "base_uri": "https://localhost:8080/"
        },
        "id": "937NvTClsDdr",
        "outputId": "bdcf48b8-1a45-45fb-ddb0-9c813cb8bd0d"
      },
      "source": [
        "myList[1:]"
      ],
      "execution_count": null,
      "outputs": [
        {
          "output_type": "execute_result",
          "data": {
            "text/plain": [
              "['two', 'three']"
            ]
          },
          "metadata": {
            "tags": []
          },
          "execution_count": 9
        }
      ]
    },
    {
      "cell_type": "code",
      "metadata": {
        "id": "Dqu1s1kxrfSw"
      },
      "source": [
        "anotherList = ['Four', 'Five']"
      ],
      "execution_count": null,
      "outputs": []
    },
    {
      "cell_type": "code",
      "metadata": {
        "id": "wEjNidHZsVcu"
      },
      "source": [
        "newList = myList + anotherList"
      ],
      "execution_count": null,
      "outputs": []
    },
    {
      "cell_type": "code",
      "metadata": {
        "colab": {
          "base_uri": "https://localhost:8080/"
        },
        "id": "NmHL8MQ8sXS2",
        "outputId": "0c31b71e-ffe7-4a81-e6e5-5564d5288248"
      },
      "source": [
        "print(myList)\r\n",
        "print(anotherList)\r\n",
        "print(newList)"
      ],
      "execution_count": null,
      "outputs": [
        {
          "output_type": "stream",
          "text": [
            "['one', 'two', 'three']\n",
            "['Four', 'Five']\n",
            "['one', 'two', 'three', 'Four', 'Five']\n"
          ],
          "name": "stdout"
        }
      ]
    },
    {
      "cell_type": "code",
      "metadata": {
        "colab": {
          "base_uri": "https://localhost:8080/"
        },
        "id": "XR7S4GGhsmDS",
        "outputId": "c566e733-7242-456d-c2ff-cafef333326a"
      },
      "source": [
        "newList[0] = \"ONE ALL CAPS\"\r\n",
        "newList"
      ],
      "execution_count": null,
      "outputs": [
        {
          "output_type": "execute_result",
          "data": {
            "text/plain": [
              "['ONE ALL CAPS', 'two', 'three', 'Four', 'Five']"
            ]
          },
          "metadata": {
            "tags": []
          },
          "execution_count": 16
        }
      ]
    },
    {
      "cell_type": "code",
      "metadata": {
        "colab": {
          "base_uri": "https://localhost:8080/"
        },
        "id": "QngK-Atns-Fd",
        "outputId": "8dce443f-172d-4637-a85a-322945ce82e4"
      },
      "source": [
        "newList.append(\"Six\")\r\n",
        "newList"
      ],
      "execution_count": null,
      "outputs": [
        {
          "output_type": "execute_result",
          "data": {
            "text/plain": [
              "['ONE ALL CAPS', 'two', 'three', 'Four', 'Five', 'Six']"
            ]
          },
          "metadata": {
            "tags": []
          },
          "execution_count": 17
        }
      ]
    },
    {
      "cell_type": "code",
      "metadata": {
        "colab": {
          "base_uri": "https://localhost:8080/",
          "height": 36
        },
        "id": "mO2QfPoXtJtn",
        "outputId": "1a08ee4b-886a-4c6b-f5de-e5c4be5fdb06"
      },
      "source": [
        "newList.pop()"
      ],
      "execution_count": null,
      "outputs": [
        {
          "output_type": "execute_result",
          "data": {
            "application/vnd.google.colaboratory.intrinsic+json": {
              "type": "string"
            },
            "text/plain": [
              "'Six'"
            ]
          },
          "metadata": {
            "tags": []
          },
          "execution_count": 18
        }
      ]
    },
    {
      "cell_type": "code",
      "metadata": {
        "colab": {
          "base_uri": "https://localhost:8080/"
        },
        "id": "ngzUbakLtdde",
        "outputId": "b31c9cac-96a4-4dd0-e170-4922a7941447"
      },
      "source": [
        "newList"
      ],
      "execution_count": null,
      "outputs": [
        {
          "output_type": "execute_result",
          "data": {
            "text/plain": [
              "['ONE ALL CAPS', 'two', 'three', 'Four', 'Five']"
            ]
          },
          "metadata": {
            "tags": []
          },
          "execution_count": 19
        }
      ]
    },
    {
      "cell_type": "code",
      "metadata": {
        "colab": {
          "base_uri": "https://localhost:8080/",
          "height": 36
        },
        "id": "-6yxZfaCtfpy",
        "outputId": "d1858e0c-6e53-48ec-b0ab-a27299fa685b"
      },
      "source": [
        "newList.pop(3)"
      ],
      "execution_count": null,
      "outputs": [
        {
          "output_type": "execute_result",
          "data": {
            "application/vnd.google.colaboratory.intrinsic+json": {
              "type": "string"
            },
            "text/plain": [
              "'Four'"
            ]
          },
          "metadata": {
            "tags": []
          },
          "execution_count": 20
        }
      ]
    },
    {
      "cell_type": "code",
      "metadata": {
        "id": "Kc5gU5IOtswe"
      },
      "source": [
        "newList = ['a', 'y', 'c', 'r', 'l']\r\n",
        "numList = [4,1,8,3]"
      ],
      "execution_count": null,
      "outputs": []
    },
    {
      "cell_type": "code",
      "metadata": {
        "colab": {
          "base_uri": "https://localhost:8080/"
        },
        "id": "uysmEfjwuDpR",
        "outputId": "ad76a327-f9ed-4bb6-dbcf-83975a83911e"
      },
      "source": [
        "newList.sort()\r\n",
        "newList"
      ],
      "execution_count": null,
      "outputs": [
        {
          "output_type": "execute_result",
          "data": {
            "text/plain": [
              "['a', 'b', 'c', 'd', 'e']"
            ]
          },
          "metadata": {
            "tags": []
          },
          "execution_count": 24
        }
      ]
    },
    {
      "cell_type": "code",
      "metadata": {
        "colab": {
          "base_uri": "https://localhost:8080/"
        },
        "id": "qAnisbFQubp9",
        "outputId": "242a0a64-ddab-4e8c-db49-c74d5318ce98"
      },
      "source": [
        "numList.sort()\r\n",
        "numList"
      ],
      "execution_count": null,
      "outputs": [
        {
          "output_type": "execute_result",
          "data": {
            "text/plain": [
              "[1, 3, 4, 8]"
            ]
          },
          "metadata": {
            "tags": []
          },
          "execution_count": 25
        }
      ]
    },
    {
      "cell_type": "code",
      "metadata": {
        "colab": {
          "base_uri": "https://localhost:8080/"
        },
        "id": "Krytrz08uqwV",
        "outputId": "9facd7f3-3dcd-4d6d-e166-83bcd1d9601f"
      },
      "source": [
        "numList.reverse()\r\n",
        "numList"
      ],
      "execution_count": null,
      "outputs": [
        {
          "output_type": "execute_result",
          "data": {
            "text/plain": [
              "[8, 4, 3, 1]"
            ]
          },
          "metadata": {
            "tags": []
          },
          "execution_count": 26
        }
      ]
    },
    {
      "cell_type": "markdown",
      "metadata": {
        "id": "UEoTQ04VwRFe"
      },
      "source": [
        "# Dictionaries\r\n",
        "* Dictionaries are **unordered** mappings for storing objects\r\n",
        "* They use a **key-value** pairing\r\n",
        "* Here we use curly braces and colons to signify the keys and their associated values\r\n",
        "  * {'key1':'value1', 'key2':'value2'}"
      ]
    },
    {
      "cell_type": "code",
      "metadata": {
        "colab": {
          "base_uri": "https://localhost:8080/"
        },
        "id": "M6W3X8HZ5fvS",
        "outputId": "a237f8f5-474c-4311-859c-eb9db3ed19a4"
      },
      "source": [
        "myDict = {'key1':'value1', 'key2':'value2'}\r\n",
        "myDict"
      ],
      "execution_count": null,
      "outputs": [
        {
          "output_type": "execute_result",
          "data": {
            "text/plain": [
              "{'key1': 'value1', 'key2': 'value2'}"
            ]
          },
          "metadata": {
            "tags": []
          },
          "execution_count": 28
        }
      ]
    },
    {
      "cell_type": "code",
      "metadata": {
        "colab": {
          "base_uri": "https://localhost:8080/",
          "height": 36
        },
        "id": "9jioHkdH5lip",
        "outputId": "39c0937b-11d8-4b56-d7c9-4b539bd81032"
      },
      "source": [
        "myDict['key1']"
      ],
      "execution_count": null,
      "outputs": [
        {
          "output_type": "execute_result",
          "data": {
            "application/vnd.google.colaboratory.intrinsic+json": {
              "type": "string"
            },
            "text/plain": [
              "'value1'"
            ]
          },
          "metadata": {
            "tags": []
          },
          "execution_count": 29
        }
      ]
    },
    {
      "cell_type": "code",
      "metadata": {
        "id": "EDlv2IU15sGV"
      },
      "source": [
        "prices_lookup = {'apple':2.99,'oranges':1.99,'milk':5.80}"
      ],
      "execution_count": null,
      "outputs": []
    },
    {
      "cell_type": "code",
      "metadata": {
        "colab": {
          "base_uri": "https://localhost:8080/"
        },
        "id": "9UH_CpbP52m6",
        "outputId": "3d6d49ca-5baf-46b9-cc12-fb22ef4e72ed"
      },
      "source": [
        "prices_lookup['apple']"
      ],
      "execution_count": null,
      "outputs": [
        {
          "output_type": "execute_result",
          "data": {
            "text/plain": [
              "2.99"
            ]
          },
          "metadata": {
            "tags": []
          },
          "execution_count": 31
        }
      ]
    },
    {
      "cell_type": "code",
      "metadata": {
        "id": "nWm7IeyN546F"
      },
      "source": [
        "d = {'k1':123,'k2':[0,1,2],'k3':{'insideKey':100}}"
      ],
      "execution_count": null,
      "outputs": []
    },
    {
      "cell_type": "code",
      "metadata": {
        "colab": {
          "base_uri": "https://localhost:8080/"
        },
        "id": "3Jne8I106Jcy",
        "outputId": "999a2ac7-d897-49bf-b8de-b765f09fcc81"
      },
      "source": [
        "d['k2'][2]"
      ],
      "execution_count": null,
      "outputs": [
        {
          "output_type": "execute_result",
          "data": {
            "text/plain": [
              "2"
            ]
          },
          "metadata": {
            "tags": []
          },
          "execution_count": 3
        }
      ]
    },
    {
      "cell_type": "code",
      "metadata": {
        "colab": {
          "base_uri": "https://localhost:8080/"
        },
        "id": "oYY-OOU26LtZ",
        "outputId": "439ccb7c-1583-4a2f-f427-23c425d33a65"
      },
      "source": [
        "d['k3']"
      ],
      "execution_count": null,
      "outputs": [
        {
          "output_type": "execute_result",
          "data": {
            "text/plain": [
              "{'insideKey': 100}"
            ]
          },
          "metadata": {
            "tags": []
          },
          "execution_count": 4
        }
      ]
    },
    {
      "cell_type": "code",
      "metadata": {
        "colab": {
          "base_uri": "https://localhost:8080/"
        },
        "id": "fwHKxNoa6PCk",
        "outputId": "1340b379-9475-40c7-fc8a-caedce20a75a"
      },
      "source": [
        "d['k3']['insideKey']"
      ],
      "execution_count": null,
      "outputs": [
        {
          "output_type": "execute_result",
          "data": {
            "text/plain": [
              "100"
            ]
          },
          "metadata": {
            "tags": []
          },
          "execution_count": 5
        }
      ]
    },
    {
      "cell_type": "code",
      "metadata": {
        "colab": {
          "base_uri": "https://localhost:8080/"
        },
        "id": "2lQE2B2A6eId",
        "outputId": "b811a223-4f7d-4f23-a72e-5d246713da28"
      },
      "source": [
        "d = {'key1':['a','b','c','d']}\r\n",
        "d"
      ],
      "execution_count": null,
      "outputs": [
        {
          "output_type": "execute_result",
          "data": {
            "text/plain": [
              "{'key1': ['a', 'b', 'c', 'd']}"
            ]
          },
          "metadata": {
            "tags": []
          },
          "execution_count": 6
        }
      ]
    },
    {
      "cell_type": "code",
      "metadata": {
        "id": "3l7RjXUr64EB",
        "colab": {
          "base_uri": "https://localhost:8080/"
        },
        "outputId": "78cf4077-bf3f-4fdd-e7b8-53fa29606d88"
      },
      "source": [
        "myList = d['key1']\r\n",
        "myList"
      ],
      "execution_count": null,
      "outputs": [
        {
          "output_type": "execute_result",
          "data": {
            "text/plain": [
              "['a', 'b', 'c', 'd']"
            ]
          },
          "metadata": {
            "tags": []
          },
          "execution_count": 8
        }
      ]
    },
    {
      "cell_type": "code",
      "metadata": {
        "colab": {
          "base_uri": "https://localhost:8080/",
          "height": 36
        },
        "id": "9oDGIL4AzzdG",
        "outputId": "188e8bf0-493a-4341-b5db-cf51813ba2c0"
      },
      "source": [
        "letter = myList[2]\r\n",
        "letter"
      ],
      "execution_count": null,
      "outputs": [
        {
          "output_type": "execute_result",
          "data": {
            "application/vnd.google.colaboratory.intrinsic+json": {
              "type": "string"
            },
            "text/plain": [
              "'c'"
            ]
          },
          "metadata": {
            "tags": []
          },
          "execution_count": 11
        }
      ]
    },
    {
      "cell_type": "code",
      "metadata": {
        "colab": {
          "base_uri": "https://localhost:8080/",
          "height": 36
        },
        "id": "M-boeOq4zia0",
        "outputId": "b40d943b-f962-4a34-aaf6-229297aa05b9"
      },
      "source": [
        "letter.upper()"
      ],
      "execution_count": null,
      "outputs": [
        {
          "output_type": "execute_result",
          "data": {
            "application/vnd.google.colaboratory.intrinsic+json": {
              "type": "string"
            },
            "text/plain": [
              "'C'"
            ]
          },
          "metadata": {
            "tags": []
          },
          "execution_count": 12
        }
      ]
    },
    {
      "cell_type": "code",
      "metadata": {
        "colab": {
          "base_uri": "https://localhost:8080/"
        },
        "id": "JTnatek5z_M3",
        "outputId": "fc6adce1-704d-4088-c4a6-e48e5aaf419c"
      },
      "source": [
        "d"
      ],
      "execution_count": null,
      "outputs": [
        {
          "output_type": "execute_result",
          "data": {
            "text/plain": [
              "{'key1': ['a', 'b', 'c', 'd']}"
            ]
          },
          "metadata": {
            "tags": []
          },
          "execution_count": 13
        }
      ]
    },
    {
      "cell_type": "code",
      "metadata": {
        "colab": {
          "base_uri": "https://localhost:8080/",
          "height": 36
        },
        "id": "nXAmW6nL0DSe",
        "outputId": "02eee680-6699-4630-d009-2dab5190efed"
      },
      "source": [
        "d['key1'][2].upper()"
      ],
      "execution_count": null,
      "outputs": [
        {
          "output_type": "execute_result",
          "data": {
            "application/vnd.google.colaboratory.intrinsic+json": {
              "type": "string"
            },
            "text/plain": [
              "'C'"
            ]
          },
          "metadata": {
            "tags": []
          },
          "execution_count": 14
        }
      ]
    },
    {
      "cell_type": "code",
      "metadata": {
        "colab": {
          "base_uri": "https://localhost:8080/"
        },
        "id": "GpDSFQr60QMB",
        "outputId": "01815350-2d42-4a0e-f821-4fbe556a081e"
      },
      "source": [
        "d = {'k1':100,'k2':200}\r\n",
        "d"
      ],
      "execution_count": null,
      "outputs": [
        {
          "output_type": "execute_result",
          "data": {
            "text/plain": [
              "{'k1': 100, 'k2': 200}"
            ]
          },
          "metadata": {
            "tags": []
          },
          "execution_count": 16
        }
      ]
    },
    {
      "cell_type": "code",
      "metadata": {
        "colab": {
          "base_uri": "https://localhost:8080/"
        },
        "id": "_CjQBxd40omp",
        "outputId": "229462f1-0db6-4818-d7f7-ba22e1293439"
      },
      "source": [
        "d['k3'] = 300\r\n",
        "d"
      ],
      "execution_count": null,
      "outputs": [
        {
          "output_type": "execute_result",
          "data": {
            "text/plain": [
              "{'k1': 100, 'k2': 200, 'k3': 300}"
            ]
          },
          "metadata": {
            "tags": []
          },
          "execution_count": 18
        }
      ]
    },
    {
      "cell_type": "code",
      "metadata": {
        "colab": {
          "base_uri": "https://localhost:8080/"
        },
        "id": "yYC0MQE-0vbD",
        "outputId": "a66e54e8-21c9-4cf3-b5bf-d4fdaafa893c"
      },
      "source": [
        "d['k1'] = 'New Value'\r\n",
        "d"
      ],
      "execution_count": null,
      "outputs": [
        {
          "output_type": "execute_result",
          "data": {
            "text/plain": [
              "{'k1': 'New Value', 'k2': 200, 'k3': 300}"
            ]
          },
          "metadata": {
            "tags": []
          },
          "execution_count": 19
        }
      ]
    },
    {
      "cell_type": "code",
      "metadata": {
        "colab": {
          "base_uri": "https://localhost:8080/"
        },
        "id": "CBOaAPRa0y7G",
        "outputId": "d585d409-e3ff-4806-bbe4-0a3440291f6d"
      },
      "source": [
        "d = {'k1': 100, 'k2': 200, 'k3': 300}\r\n",
        "d"
      ],
      "execution_count": null,
      "outputs": [
        {
          "output_type": "execute_result",
          "data": {
            "text/plain": [
              "{'k1': 100, 'k2': 200, 'k3': 300}"
            ]
          },
          "metadata": {
            "tags": []
          },
          "execution_count": 20
        }
      ]
    },
    {
      "cell_type": "code",
      "metadata": {
        "colab": {
          "base_uri": "https://localhost:8080/"
        },
        "id": "breJHEHr05u3",
        "outputId": "8befe552-85ac-41d5-a223-7aa86021a5d0"
      },
      "source": [
        "d.keys()"
      ],
      "execution_count": null,
      "outputs": [
        {
          "output_type": "execute_result",
          "data": {
            "text/plain": [
              "dict_keys(['k1', 'k2', 'k3'])"
            ]
          },
          "metadata": {
            "tags": []
          },
          "execution_count": 22
        }
      ]
    },
    {
      "cell_type": "code",
      "metadata": {
        "colab": {
          "base_uri": "https://localhost:8080/"
        },
        "id": "YEzerUew08cK",
        "outputId": "e2443c4c-5968-4873-dd60-b39c2c7e11be"
      },
      "source": [
        "d.values()"
      ],
      "execution_count": null,
      "outputs": [
        {
          "output_type": "execute_result",
          "data": {
            "text/plain": [
              "dict_values([100, 200, 300])"
            ]
          },
          "metadata": {
            "tags": []
          },
          "execution_count": 23
        }
      ]
    },
    {
      "cell_type": "code",
      "metadata": {
        "colab": {
          "base_uri": "https://localhost:8080/"
        },
        "id": "Xyc_RA7T1A20",
        "outputId": "f55c4276-887c-4e68-e39f-c91e56180b93"
      },
      "source": [
        "d.items()"
      ],
      "execution_count": null,
      "outputs": [
        {
          "output_type": "execute_result",
          "data": {
            "text/plain": [
              "dict_items([('k1', 100), ('k2', 200), ('k3', 300)])"
            ]
          },
          "metadata": {
            "tags": []
          },
          "execution_count": 24
        }
      ]
    },
    {
      "cell_type": "markdown",
      "metadata": {
        "id": "JfgQfno-1jsz"
      },
      "source": [
        "#Tuples\r\n",
        "* They are very similar to lists. However they have one key difference - **immutability**. Once an element is inside a tuple, it can not be reassigned.\r\n",
        "* Tuples use parenthesis: **(1,2,3)**"
      ]
    },
    {
      "cell_type": "code",
      "metadata": {
        "id": "PxvnY8qr2M2D"
      },
      "source": [
        "t = (1,2,3)\r\n",
        "myList = [1,2,3]"
      ],
      "execution_count": null,
      "outputs": []
    },
    {
      "cell_type": "code",
      "metadata": {
        "colab": {
          "base_uri": "https://localhost:8080/"
        },
        "id": "YN3f7aC02UC4",
        "outputId": "fb7e8dc5-15dc-4830-e0e9-61410f6a445e"
      },
      "source": [
        "t = ('one', 2)\r\n",
        "t"
      ],
      "execution_count": null,
      "outputs": [
        {
          "output_type": "execute_result",
          "data": {
            "text/plain": [
              "('one', 2)"
            ]
          },
          "metadata": {
            "tags": []
          },
          "execution_count": 26
        }
      ]
    },
    {
      "cell_type": "code",
      "metadata": {
        "colab": {
          "base_uri": "https://localhost:8080/",
          "height": 36
        },
        "id": "cApcVbQi2d9M",
        "outputId": "c43122fe-6727-4928-d3a7-d3eadbded655"
      },
      "source": [
        "t[0]"
      ],
      "execution_count": null,
      "outputs": [
        {
          "output_type": "execute_result",
          "data": {
            "application/vnd.google.colaboratory.intrinsic+json": {
              "type": "string"
            },
            "text/plain": [
              "'one'"
            ]
          },
          "metadata": {
            "tags": []
          },
          "execution_count": 27
        }
      ]
    },
    {
      "cell_type": "code",
      "metadata": {
        "colab": {
          "base_uri": "https://localhost:8080/"
        },
        "id": "fUrtTAEO2gWn",
        "outputId": "335017d8-b427-44b7-857a-dba1cb34037d"
      },
      "source": [
        "t[-1]"
      ],
      "execution_count": null,
      "outputs": [
        {
          "output_type": "execute_result",
          "data": {
            "text/plain": [
              "2"
            ]
          },
          "metadata": {
            "tags": []
          },
          "execution_count": 28
        }
      ]
    },
    {
      "cell_type": "code",
      "metadata": {
        "id": "pVrPUNt11DiI"
      },
      "source": [
        "t = ('a', 'a', 'b')"
      ],
      "execution_count": null,
      "outputs": []
    },
    {
      "cell_type": "code",
      "metadata": {
        "colab": {
          "base_uri": "https://localhost:8080/"
        },
        "id": "vJvXgwld2nek",
        "outputId": "590f16dc-9838-48e4-8e46-16d1ba279720"
      },
      "source": [
        "t.count('a')"
      ],
      "execution_count": null,
      "outputs": [
        {
          "output_type": "execute_result",
          "data": {
            "text/plain": [
              "2"
            ]
          },
          "metadata": {
            "tags": []
          },
          "execution_count": 30
        }
      ]
    },
    {
      "cell_type": "code",
      "metadata": {
        "colab": {
          "base_uri": "https://localhost:8080/"
        },
        "id": "-AOyIdhX2q7X",
        "outputId": "bbb98b40-9424-4151-e53a-dbca82ed78a6"
      },
      "source": [
        "t.index('a')"
      ],
      "execution_count": null,
      "outputs": [
        {
          "output_type": "execute_result",
          "data": {
            "text/plain": [
              "0"
            ]
          },
          "metadata": {
            "tags": []
          },
          "execution_count": 31
        }
      ]
    },
    {
      "cell_type": "code",
      "metadata": {
        "colab": {
          "base_uri": "https://localhost:8080/"
        },
        "id": "g7u_FguK2tsY",
        "outputId": "72c78c39-35d2-41ee-f9d8-09d802f558a5"
      },
      "source": [
        "t.index('b')"
      ],
      "execution_count": null,
      "outputs": [
        {
          "output_type": "execute_result",
          "data": {
            "text/plain": [
              "2"
            ]
          },
          "metadata": {
            "tags": []
          },
          "execution_count": 32
        }
      ]
    },
    {
      "cell_type": "code",
      "metadata": {
        "colab": {
          "base_uri": "https://localhost:8080/"
        },
        "id": "y1jzr37q21pS",
        "outputId": "86683a5e-8792-4c58-e353-eeb2087ac06b"
      },
      "source": [
        "myList[0] = \"NEW\"\r\n",
        "myList"
      ],
      "execution_count": null,
      "outputs": [
        {
          "output_type": "execute_result",
          "data": {
            "text/plain": [
              "['NEW', 2, 3]"
            ]
          },
          "metadata": {
            "tags": []
          },
          "execution_count": 36
        }
      ]
    },
    {
      "cell_type": "code",
      "metadata": {
        "colab": {
          "base_uri": "https://localhost:8080/",
          "height": 177
        },
        "id": "F8k5zw4m282D",
        "outputId": "38ac267d-a623-4c84-f260-8fbaa7c6c4a9"
      },
      "source": [
        "t[0] = 'NEW'"
      ],
      "execution_count": null,
      "outputs": [
        {
          "output_type": "error",
          "ename": "TypeError",
          "evalue": "ignored",
          "traceback": [
            "\u001b[0;31m---------------------------------------------------------------------------\u001b[0m",
            "\u001b[0;31mTypeError\u001b[0m                                 Traceback (most recent call last)",
            "\u001b[0;32m<ipython-input-38-93bfe9be1549>\u001b[0m in \u001b[0;36m<module>\u001b[0;34m()\u001b[0m\n\u001b[0;32m----> 1\u001b[0;31m \u001b[0mt\u001b[0m\u001b[0;34m[\u001b[0m\u001b[0;36m0\u001b[0m\u001b[0;34m]\u001b[0m \u001b[0;34m=\u001b[0m \u001b[0;34m'NEW'\u001b[0m\u001b[0;34m\u001b[0m\u001b[0;34m\u001b[0m\u001b[0m\n\u001b[0m",
            "\u001b[0;31mTypeError\u001b[0m: 'tuple' object does not support item assignment"
          ]
        }
      ]
    },
    {
      "cell_type": "markdown",
      "metadata": {
        "id": "EzkNLCgc3aQO"
      },
      "source": [
        "#Sets\r\n",
        "* Sets are **unordered** collections of **unique** elements. Meaning there can only be one representative of the same object."
      ]
    },
    {
      "cell_type": "code",
      "metadata": {
        "id": "k2_d9bVi35YP"
      },
      "source": [
        ""
      ],
      "execution_count": null,
      "outputs": []
    },
    {
      "cell_type": "code",
      "metadata": {
        "colab": {
          "base_uri": "https://localhost:8080/"
        },
        "id": "L9tKX0uX3GPr",
        "outputId": "4997444e-5cdd-4bea-8018-274c93d2310a"
      },
      "source": [
        "mySet = set()\r\n",
        "mySet"
      ],
      "execution_count": null,
      "outputs": [
        {
          "output_type": "execute_result",
          "data": {
            "text/plain": [
              "set()"
            ]
          },
          "metadata": {
            "tags": []
          },
          "execution_count": 40
        }
      ]
    },
    {
      "cell_type": "code",
      "metadata": {
        "colab": {
          "base_uri": "https://localhost:8080/"
        },
        "id": "90T-LPM33vGA",
        "outputId": "cb7ac400-510e-423f-9d1b-949aa24818c7"
      },
      "source": [
        "mySet.add(1)\r\n",
        "mySet"
      ],
      "execution_count": null,
      "outputs": [
        {
          "output_type": "execute_result",
          "data": {
            "text/plain": [
              "{1}"
            ]
          },
          "metadata": {
            "tags": []
          },
          "execution_count": 41
        }
      ]
    },
    {
      "cell_type": "code",
      "metadata": {
        "colab": {
          "base_uri": "https://localhost:8080/"
        },
        "id": "QdvscVEB3ta9",
        "outputId": "ccbba3f0-aceb-4ce7-de2d-30a6c4ac7657"
      },
      "source": [
        "mySet.add(2)\r\n",
        "mySet"
      ],
      "execution_count": null,
      "outputs": [
        {
          "output_type": "execute_result",
          "data": {
            "text/plain": [
              "{1, 2}"
            ]
          },
          "metadata": {
            "tags": []
          },
          "execution_count": 42
        }
      ]
    },
    {
      "cell_type": "code",
      "metadata": {
        "colab": {
          "base_uri": "https://localhost:8080/"
        },
        "id": "ZKgjReSs39XV",
        "outputId": "5c8b54ab-f110-4a43-d230-0d282eadad9d"
      },
      "source": [
        "mySet.add(2)\r\n",
        "mySet"
      ],
      "execution_count": null,
      "outputs": [
        {
          "output_type": "execute_result",
          "data": {
            "text/plain": [
              "{1, 2}"
            ]
          },
          "metadata": {
            "tags": []
          },
          "execution_count": 43
        }
      ]
    },
    {
      "cell_type": "code",
      "metadata": {
        "id": "20liIb5O3_w9"
      },
      "source": [
        "myList = [1,1,2,2,1,2,3,1,3,2,1,3,4]"
      ],
      "execution_count": null,
      "outputs": []
    },
    {
      "cell_type": "code",
      "metadata": {
        "colab": {
          "base_uri": "https://localhost:8080/"
        },
        "id": "nxrJuArF4Mbu",
        "outputId": "de715c4e-e3a3-44e6-b64c-226b57efc4d0"
      },
      "source": [
        "set(myList)"
      ],
      "execution_count": null,
      "outputs": [
        {
          "output_type": "execute_result",
          "data": {
            "text/plain": [
              "{1, 2, 3, 4}"
            ]
          },
          "metadata": {
            "tags": []
          },
          "execution_count": 45
        }
      ]
    },
    {
      "cell_type": "markdown",
      "metadata": {
        "id": "qEfihgj341Iu"
      },
      "source": [
        "# I/O with Basic Files in Python"
      ]
    },
    {
      "cell_type": "code",
      "metadata": {
        "colab": {
          "base_uri": "https://localhost:8080/"
        },
        "id": "5VXgXkDf5GTb",
        "outputId": "78f568dd-2835-4a7a-9ec7-b3dcba6d325c"
      },
      "source": [
        "%%writefile myfile.txt\r\n",
        "Hello this is a text file\r\n",
        "this is the second line\r\n",
        "this is the third line"
      ],
      "execution_count": null,
      "outputs": [
        {
          "output_type": "stream",
          "text": [
            "Writing myfile.txt\n"
          ],
          "name": "stdout"
        }
      ]
    },
    {
      "cell_type": "code",
      "metadata": {
        "id": "IXKj5Aq35Z5D"
      },
      "source": [
        "myfile = open('myfile.txt')"
      ],
      "execution_count": null,
      "outputs": []
    },
    {
      "cell_type": "code",
      "metadata": {
        "colab": {
          "base_uri": "https://localhost:8080/",
          "height": 36
        },
        "id": "XxrynLld5jRv",
        "outputId": "8bd33cbe-320b-42b1-af50-fb4e3367a918"
      },
      "source": [
        "pwd"
      ],
      "execution_count": null,
      "outputs": [
        {
          "output_type": "execute_result",
          "data": {
            "application/vnd.google.colaboratory.intrinsic+json": {
              "type": "string"
            },
            "text/plain": [
              "'/content'"
            ]
          },
          "metadata": {
            "tags": []
          },
          "execution_count": 50
        }
      ]
    },
    {
      "cell_type": "code",
      "metadata": {
        "colab": {
          "base_uri": "https://localhost:8080/",
          "height": 36
        },
        "id": "dHo9uq3y54pj",
        "outputId": "7b07b368-d990-464f-fd16-6d17734cc545"
      },
      "source": [
        "myfile.read()"
      ],
      "execution_count": null,
      "outputs": [
        {
          "output_type": "execute_result",
          "data": {
            "application/vnd.google.colaboratory.intrinsic+json": {
              "type": "string"
            },
            "text/plain": [
              "'Hello this is a text file\\nthis is the second line\\nthis is the third line'"
            ]
          },
          "metadata": {
            "tags": []
          },
          "execution_count": 51
        }
      ]
    },
    {
      "cell_type": "code",
      "metadata": {
        "colab": {
          "base_uri": "https://localhost:8080/",
          "height": 36
        },
        "id": "KMjo8da86G-r",
        "outputId": "a3160df2-9f2c-4717-9b25-78f0820d5123"
      },
      "source": [
        "myfile.read()"
      ],
      "execution_count": null,
      "outputs": [
        {
          "output_type": "execute_result",
          "data": {
            "application/vnd.google.colaboratory.intrinsic+json": {
              "type": "string"
            },
            "text/plain": [
              "''"
            ]
          },
          "metadata": {
            "tags": []
          },
          "execution_count": 52
        }
      ]
    },
    {
      "cell_type": "code",
      "metadata": {
        "colab": {
          "base_uri": "https://localhost:8080/",
          "height": 36
        },
        "id": "3C6EroJI6Sof",
        "outputId": "0ff34394-ebd6-42dd-ee57-0b86cf2837b0"
      },
      "source": [
        "myfile.seek(0)\r\n",
        "contents = myfile.read()\r\n",
        "contents"
      ],
      "execution_count": null,
      "outputs": [
        {
          "output_type": "execute_result",
          "data": {
            "application/vnd.google.colaboratory.intrinsic+json": {
              "type": "string"
            },
            "text/plain": [
              "'Hello this is a text file\\nthis is the second line\\nthis is the third line'"
            ]
          },
          "metadata": {
            "tags": []
          },
          "execution_count": 55
        }
      ]
    },
    {
      "cell_type": "code",
      "metadata": {
        "colab": {
          "base_uri": "https://localhost:8080/"
        },
        "id": "wRtkhiBc6aTI",
        "outputId": "4efc4621-cdf8-4264-a662-806a407da1ca"
      },
      "source": [
        "myfile.seek(0)\r\n",
        "myfile.readlines()"
      ],
      "execution_count": null,
      "outputs": [
        {
          "output_type": "execute_result",
          "data": {
            "text/plain": [
              "['Hello this is a text file\\n',\n",
              " 'this is the second line\\n',\n",
              " 'this is the third line']"
            ]
          },
          "metadata": {
            "tags": []
          },
          "execution_count": 56
        }
      ]
    },
    {
      "cell_type": "markdown",
      "metadata": {
        "id": "grDjqrVA7BZj"
      },
      "source": [
        "## File Locations\r\n",
        "* For Windows you need to use double **\\**\r\n",
        "* For MacOS and Linux you user slashes **/**"
      ]
    },
    {
      "cell_type": "code",
      "metadata": {
        "colab": {
          "base_uri": "https://localhost:8080/",
          "height": 36
        },
        "id": "_bIU5A-C6u_Q",
        "outputId": "a57d3449-e10c-4e93-f33f-961a77220be5"
      },
      "source": [
        "pwd"
      ],
      "execution_count": null,
      "outputs": [
        {
          "output_type": "execute_result",
          "data": {
            "application/vnd.google.colaboratory.intrinsic+json": {
              "type": "string"
            },
            "text/plain": [
              "'/content'"
            ]
          },
          "metadata": {
            "tags": []
          },
          "execution_count": 57
        }
      ]
    },
    {
      "cell_type": "code",
      "metadata": {
        "id": "f8FEGiZr7dSI"
      },
      "source": [
        "myfile.close()"
      ],
      "execution_count": null,
      "outputs": []
    },
    {
      "cell_type": "code",
      "metadata": {
        "id": "scHu8mRz7uns"
      },
      "source": [
        "# This is the best practices way to open a file to avoid forget to close it\r\n",
        "with open('myfile.txt') as myNewFile:\r\n",
        "  contents = myNewFile.read()"
      ],
      "execution_count": null,
      "outputs": []
    },
    {
      "cell_type": "code",
      "metadata": {
        "colab": {
          "base_uri": "https://localhost:8080/",
          "height": 36
        },
        "id": "BF8yhYVP8Aks",
        "outputId": "b5841bfe-c166-4ef6-d9f4-e06a85b69f59"
      },
      "source": [
        "contents"
      ],
      "execution_count": null,
      "outputs": [
        {
          "output_type": "execute_result",
          "data": {
            "application/vnd.google.colaboratory.intrinsic+json": {
              "type": "string"
            },
            "text/plain": [
              "'Hello this is a text file\\nthis is the second line\\nthis is the third line'"
            ]
          },
          "metadata": {
            "tags": []
          },
          "execution_count": 60
        }
      ]
    },
    {
      "cell_type": "code",
      "metadata": {
        "id": "6IlVfCRL8ClD"
      },
      "source": [
        "with open('myfile.txt', mode='r') as myFile:\r\n",
        "  contents = myFile.read()"
      ],
      "execution_count": null,
      "outputs": []
    },
    {
      "cell_type": "code",
      "metadata": {
        "colab": {
          "base_uri": "https://localhost:8080/",
          "height": 36
        },
        "id": "9v73F4f087Q_",
        "outputId": "5e910a33-1d72-43c7-b2c7-32acdaf793c6"
      },
      "source": [
        "contents"
      ],
      "execution_count": null,
      "outputs": [
        {
          "output_type": "execute_result",
          "data": {
            "application/vnd.google.colaboratory.intrinsic+json": {
              "type": "string"
            },
            "text/plain": [
              "'Hello this is a text file\\nthis is the second line\\nthis is the third line'"
            ]
          },
          "metadata": {
            "tags": []
          },
          "execution_count": 62
        }
      ]
    },
    {
      "cell_type": "markdown",
      "metadata": {
        "id": "JsVTPh169M3m"
      },
      "source": [
        "## Reading, Writing, Appending Modes\r\n",
        "* mode='r' is read only\r\n",
        "* mode='w' is write only (will overwrite files or create new!)\r\n",
        "* mode='a' is append only (will add on to files)\r\n",
        "* mode='r+' is reading and writing\r\n",
        "* mode='w+' is writing and reading (Overwrite existing files or creates a new file!)"
      ]
    },
    {
      "cell_type": "code",
      "metadata": {
        "colab": {
          "base_uri": "https://localhost:8080/"
        },
        "id": "-0jS5mlN9zqu",
        "outputId": "32edd540-9c40-4d64-8c3d-e8754457cb00"
      },
      "source": [
        "%%writefile myNewFile.txt\r\n",
        "ONE ON FIRST\r\n",
        "TWO ON SECOND\r\n",
        "THREE ON THIRD"
      ],
      "execution_count": null,
      "outputs": [
        {
          "output_type": "stream",
          "text": [
            "Writing myNewFile.txt\n"
          ],
          "name": "stdout"
        }
      ]
    },
    {
      "cell_type": "code",
      "metadata": {
        "colab": {
          "base_uri": "https://localhost:8080/"
        },
        "id": "bPtuR01m871m",
        "outputId": "8ee72202-22e8-4aec-c1e7-699360f96d9e"
      },
      "source": [
        "with open('myNewFile.txt', mode='r') as f:\r\n",
        "  print(f.read())"
      ],
      "execution_count": null,
      "outputs": [
        {
          "output_type": "stream",
          "text": [
            "ONE ON FIRST\n",
            "TWO ON SECOND\n",
            "THREE ON THIRD\n"
          ],
          "name": "stdout"
        }
      ]
    },
    {
      "cell_type": "code",
      "metadata": {
        "id": "stAAFElb-T7j"
      },
      "source": [
        "with open('myNewFile.txt', mode='a') as f:\r\n",
        "  f.write(\"\\nFOUR ON FOURTH\")"
      ],
      "execution_count": null,
      "outputs": []
    },
    {
      "cell_type": "code",
      "metadata": {
        "colab": {
          "base_uri": "https://localhost:8080/"
        },
        "id": "mV2jl8Zw-5L1",
        "outputId": "410b6e84-2012-4913-9232-4b977a6f3de5"
      },
      "source": [
        "with open('myNewFile.txt', mode='r') as f:\r\n",
        "  print(f.read())"
      ],
      "execution_count": null,
      "outputs": [
        {
          "output_type": "stream",
          "text": [
            "ONE ON FIRST\n",
            "TWO ON SECOND\n",
            "THREE ON THIRD\n",
            "FOUR ON FOURTH\n"
          ],
          "name": "stdout"
        }
      ]
    },
    {
      "cell_type": "code",
      "metadata": {
        "id": "NEppDSN_-6ZA"
      },
      "source": [
        "with open('file.txt', mode='w') as f:\r\n",
        "  f.write('I CREATED THIS FILE!')"
      ],
      "execution_count": null,
      "outputs": []
    },
    {
      "cell_type": "code",
      "metadata": {
        "colab": {
          "base_uri": "https://localhost:8080/"
        },
        "id": "S5ilwTBv_GGd",
        "outputId": "8f857df5-e267-4a55-c6d9-90728460c6e3"
      },
      "source": [
        "with open('file.txt', mode='r') as f:\r\n",
        "  print(f.read())"
      ],
      "execution_count": null,
      "outputs": [
        {
          "output_type": "stream",
          "text": [
            "I CREATED THIS FILE!\n"
          ],
          "name": "stdout"
        }
      ]
    },
    {
      "cell_type": "markdown",
      "metadata": {
        "id": "jYesSzJH8j_a"
      },
      "source": [
        "#Comparison Operators\r\n",
        "This operators will allow us to compare variables and output a Boolean value (True or False)"
      ]
    },
    {
      "cell_type": "code",
      "metadata": {
        "id": "SRUjEPnd7g2a",
        "colab": {
          "base_uri": "https://localhost:8080/"
        },
        "outputId": "7914b44c-cd9a-416b-a939-941f62867ee8"
      },
      "source": [
        "2 == 2"
      ],
      "execution_count": 8,
      "outputs": [
        {
          "output_type": "execute_result",
          "data": {
            "text/plain": [
              "True"
            ]
          },
          "metadata": {
            "tags": []
          },
          "execution_count": 8
        }
      ]
    },
    {
      "cell_type": "code",
      "metadata": {
        "colab": {
          "base_uri": "https://localhost:8080/"
        },
        "id": "hk8XYcI79Cp-",
        "outputId": "831aa6df-76de-43e4-ff92-1c343e5d6494"
      },
      "source": [
        "2 == 1"
      ],
      "execution_count": 9,
      "outputs": [
        {
          "output_type": "execute_result",
          "data": {
            "text/plain": [
              "False"
            ]
          },
          "metadata": {
            "tags": []
          },
          "execution_count": 9
        }
      ]
    },
    {
      "cell_type": "code",
      "metadata": {
        "colab": {
          "base_uri": "https://localhost:8080/"
        },
        "id": "3HeRB7uD9D_b",
        "outputId": "fa3cdece-b23a-438c-caeb-0a9b20d5d358"
      },
      "source": [
        "'hello' == 'bye'"
      ],
      "execution_count": 10,
      "outputs": [
        {
          "output_type": "execute_result",
          "data": {
            "text/plain": [
              "False"
            ]
          },
          "metadata": {
            "tags": []
          },
          "execution_count": 10
        }
      ]
    },
    {
      "cell_type": "code",
      "metadata": {
        "colab": {
          "base_uri": "https://localhost:8080/"
        },
        "id": "X03KAWnn9IeT",
        "outputId": "4b824c84-821b-474e-e6e2-cecaf6bf6853"
      },
      "source": [
        "'Bye' == 'bye'"
      ],
      "execution_count": 11,
      "outputs": [
        {
          "output_type": "execute_result",
          "data": {
            "text/plain": [
              "False"
            ]
          },
          "metadata": {
            "tags": []
          },
          "execution_count": 11
        }
      ]
    },
    {
      "cell_type": "code",
      "metadata": {
        "colab": {
          "base_uri": "https://localhost:8080/"
        },
        "id": "hu5R0Z9Q9Ljc",
        "outputId": "ac8d8ba9-aa40-4a93-a66f-70239b462ab5"
      },
      "source": [
        "'2' == 2"
      ],
      "execution_count": 12,
      "outputs": [
        {
          "output_type": "execute_result",
          "data": {
            "text/plain": [
              "False"
            ]
          },
          "metadata": {
            "tags": []
          },
          "execution_count": 12
        }
      ]
    },
    {
      "cell_type": "code",
      "metadata": {
        "colab": {
          "base_uri": "https://localhost:8080/"
        },
        "id": "xM-WGSHg9NYy",
        "outputId": "64a74d38-9435-4050-b1ba-eba4a343d52b"
      },
      "source": [
        "2.0 == 2"
      ],
      "execution_count": 13,
      "outputs": [
        {
          "output_type": "execute_result",
          "data": {
            "text/plain": [
              "True"
            ]
          },
          "metadata": {
            "tags": []
          },
          "execution_count": 13
        }
      ]
    },
    {
      "cell_type": "code",
      "metadata": {
        "colab": {
          "base_uri": "https://localhost:8080/"
        },
        "id": "rNk0XpDo9PYH",
        "outputId": "64797483-1186-4e28-9da4-9abd33259109"
      },
      "source": [
        "3 != 3"
      ],
      "execution_count": 14,
      "outputs": [
        {
          "output_type": "execute_result",
          "data": {
            "text/plain": [
              "False"
            ]
          },
          "metadata": {
            "tags": []
          },
          "execution_count": 14
        }
      ]
    },
    {
      "cell_type": "code",
      "metadata": {
        "colab": {
          "base_uri": "https://localhost:8080/"
        },
        "id": "1TlKwKQR9SBU",
        "outputId": "5f59314f-0a4a-43c1-a15c-4f4aca06e617"
      },
      "source": [
        "4 != 5"
      ],
      "execution_count": 15,
      "outputs": [
        {
          "output_type": "execute_result",
          "data": {
            "text/plain": [
              "True"
            ]
          },
          "metadata": {
            "tags": []
          },
          "execution_count": 15
        }
      ]
    },
    {
      "cell_type": "code",
      "metadata": {
        "colab": {
          "base_uri": "https://localhost:8080/"
        },
        "id": "x2Ev_RU-9TwM",
        "outputId": "5c786f35-2a33-4474-d2b5-c3b779ff8639"
      },
      "source": [
        "2 > 1"
      ],
      "execution_count": 16,
      "outputs": [
        {
          "output_type": "execute_result",
          "data": {
            "text/plain": [
              "True"
            ]
          },
          "metadata": {
            "tags": []
          },
          "execution_count": 16
        }
      ]
    },
    {
      "cell_type": "code",
      "metadata": {
        "colab": {
          "base_uri": "https://localhost:8080/"
        },
        "id": "R4d37sse9XFX",
        "outputId": "a57f4bd9-c5b6-48ae-88e6-9281600c2325"
      },
      "source": [
        "1 > 2"
      ],
      "execution_count": 17,
      "outputs": [
        {
          "output_type": "execute_result",
          "data": {
            "text/plain": [
              "False"
            ]
          },
          "metadata": {
            "tags": []
          },
          "execution_count": 17
        }
      ]
    },
    {
      "cell_type": "code",
      "metadata": {
        "colab": {
          "base_uri": "https://localhost:8080/"
        },
        "id": "o-zei0gP9Yfi",
        "outputId": "15013449-3573-4eb2-fd2f-45232012ca63"
      },
      "source": [
        "1 < 2"
      ],
      "execution_count": 18,
      "outputs": [
        {
          "output_type": "execute_result",
          "data": {
            "text/plain": [
              "True"
            ]
          },
          "metadata": {
            "tags": []
          },
          "execution_count": 18
        }
      ]
    },
    {
      "cell_type": "code",
      "metadata": {
        "colab": {
          "base_uri": "https://localhost:8080/"
        },
        "id": "ZFs8WU1t9Zu6",
        "outputId": "e5edeee9-1fa4-480b-ccb6-31a20f902706"
      },
      "source": [
        "2 < 1"
      ],
      "execution_count": 19,
      "outputs": [
        {
          "output_type": "execute_result",
          "data": {
            "text/plain": [
              "False"
            ]
          },
          "metadata": {
            "tags": []
          },
          "execution_count": 19
        }
      ]
    },
    {
      "cell_type": "code",
      "metadata": {
        "colab": {
          "base_uri": "https://localhost:8080/"
        },
        "id": "RVrZwibc9aqY",
        "outputId": "31d87612-de5b-4862-e649-bf2de35cc01e"
      },
      "source": [
        "2 >= 2"
      ],
      "execution_count": 20,
      "outputs": [
        {
          "output_type": "execute_result",
          "data": {
            "text/plain": [
              "True"
            ]
          },
          "metadata": {
            "tags": []
          },
          "execution_count": 20
        }
      ]
    },
    {
      "cell_type": "code",
      "metadata": {
        "colab": {
          "base_uri": "https://localhost:8080/"
        },
        "id": "V29lvbIq9dCX",
        "outputId": "965e178c-7b8b-4393-ae99-af24c6abc042"
      },
      "source": [
        "4 <= 1"
      ],
      "execution_count": 21,
      "outputs": [
        {
          "output_type": "execute_result",
          "data": {
            "text/plain": [
              "False"
            ]
          },
          "metadata": {
            "tags": []
          },
          "execution_count": 21
        }
      ]
    },
    {
      "cell_type": "code",
      "metadata": {
        "id": "nmyZwDez9fpd"
      },
      "source": [
        ""
      ],
      "execution_count": null,
      "outputs": []
    },
    {
      "cell_type": "markdown",
      "metadata": {
        "id": "56uuGMwp9jI2"
      },
      "source": [
        "# Python Statements (if, elif, else)\r\n",
        "\r\n",
        "To control the flow of login we use some keywords:\r\n",
        "* if\r\n",
        "* elif\r\n",
        "*else\r\n",
        "\r\n",
        "Control Flow syntax makes use of colons and indentation (whitespace)\r\n",
        "\r\n",
        "<pre>\r\n",
        "if some_condition:\r\n",
        "  # execute some code\r\n",
        "elif some_other_condition:\r\n",
        "  # do something different\r\n",
        "else:\r\n",
        "  # do something else\r\n",
        "</pre>"
      ]
    },
    {
      "cell_type": "code",
      "metadata": {
        "colab": {
          "base_uri": "https://localhost:8080/"
        },
        "id": "HARcnwt_9zGK",
        "outputId": "e0edb44e-4787-451a-9231-46c9544418b4"
      },
      "source": [
        "if True:\r\n",
        "  print('ITS TRUE!')"
      ],
      "execution_count": 22,
      "outputs": [
        {
          "output_type": "stream",
          "text": [
            "ITS TRUE!\n"
          ],
          "name": "stdout"
        }
      ]
    },
    {
      "cell_type": "code",
      "metadata": {
        "colab": {
          "base_uri": "https://localhost:8080/"
        },
        "id": "50TCOhYOATsR",
        "outputId": "0cbeeebe-8c50-4cff-c755-e667bd3c15fd"
      },
      "source": [
        "if 3 > 2:\r\n",
        "  print('ITS TRUE')"
      ],
      "execution_count": 23,
      "outputs": [
        {
          "output_type": "stream",
          "text": [
            "ITS TRUE\n"
          ],
          "name": "stdout"
        }
      ]
    },
    {
      "cell_type": "code",
      "metadata": {
        "colab": {
          "base_uri": "https://localhost:8080/"
        },
        "id": "stkNFxQ_AZgv",
        "outputId": "aa357512-9458-42a5-ccee-16a37ed36ac2"
      },
      "source": [
        "hungry = True\r\n",
        "\r\n",
        "if hungry:\r\n",
        "  print('FEED ME!')"
      ],
      "execution_count": 28,
      "outputs": [
        {
          "output_type": "stream",
          "text": [
            "FEED ME!\n"
          ],
          "name": "stdout"
        }
      ]
    },
    {
      "cell_type": "code",
      "metadata": {
        "colab": {
          "base_uri": "https://localhost:8080/"
        },
        "id": "nWaN9mxkAjM5",
        "outputId": "052447e6-f14a-41e8-d472-23db0ce03f58"
      },
      "source": [
        "hungry = False\r\n",
        "\r\n",
        "if hungry:\r\n",
        "  print('FEED ME!')\r\n",
        "else:\r\n",
        "  print('IM NOT HUNGRY')"
      ],
      "execution_count": 30,
      "outputs": [
        {
          "output_type": "stream",
          "text": [
            "IM NOT HUNGRY\n"
          ],
          "name": "stdout"
        }
      ]
    },
    {
      "cell_type": "code",
      "metadata": {
        "colab": {
          "base_uri": "https://localhost:8080/"
        },
        "id": "V28z6A4PA34V",
        "outputId": "b18db104-57fb-4a97-96f6-415e3fe9285e"
      },
      "source": [
        "loc = 'Bank' #Bank, Store, Auto Shop, Game\r\n",
        "\r\n",
        "if loc == 'Auto Shop':\r\n",
        "  print('Cars are cool!')\r\n",
        "elif loc == 'Bank':\r\n",
        "  print('Money is cool!')\r\n",
        "elif loc == 'Store':\r\n",
        "  print('Welcome to the store!')\r\n",
        "else:\r\n",
        "  print(\"I do not know much.\")"
      ],
      "execution_count": 36,
      "outputs": [
        {
          "output_type": "stream",
          "text": [
            "Money is cool!\n"
          ],
          "name": "stdout"
        }
      ]
    },
    {
      "cell_type": "markdown",
      "metadata": {
        "id": "6gXFpTWnB8WE"
      },
      "source": [
        "# For Loops\r\n",
        "Many objects in Python are \"iterable\", meaning we can iterate over every element in the object.  \r\n",
        "Such as every element in a list or every character in a string.  \r\n",
        "We van use for loops to execute a block of code for every iteration."
      ]
    },
    {
      "cell_type": "code",
      "metadata": {
        "id": "pImBTuOlCbLS"
      },
      "source": [
        "myList = [1,2,3,4,5,6,7,8,9,10]"
      ],
      "execution_count": 37,
      "outputs": []
    },
    {
      "cell_type": "code",
      "metadata": {
        "colab": {
          "base_uri": "https://localhost:8080/"
        },
        "id": "Fk-cO3emCgEr",
        "outputId": "9e0f5741-841c-4aa4-b875-5e573b9b3cb9"
      },
      "source": [
        "for num in myList:\r\n",
        "  print(num)"
      ],
      "execution_count": 38,
      "outputs": [
        {
          "output_type": "stream",
          "text": [
            "1\n",
            "2\n",
            "3\n",
            "4\n",
            "5\n",
            "6\n",
            "7\n",
            "8\n",
            "9\n",
            "10\n"
          ],
          "name": "stdout"
        }
      ]
    },
    {
      "cell_type": "code",
      "metadata": {
        "colab": {
          "base_uri": "https://localhost:8080/"
        },
        "id": "plYJ2yKzCi6z",
        "outputId": "fb06bd95-9653-45d8-a7e2-b93685ff9d39"
      },
      "source": [
        "for num in myList:\r\n",
        "  if num %2 == 0:\r\n",
        "    print(num)\r\n",
        "  else:\r\n",
        "    print(f'Odd Number: {num}')"
      ],
      "execution_count": 39,
      "outputs": [
        {
          "output_type": "stream",
          "text": [
            "Odd Number: 1\n",
            "2\n",
            "Odd Number: 3\n",
            "4\n",
            "Odd Number: 5\n",
            "6\n",
            "Odd Number: 7\n",
            "8\n",
            "Odd Number: 9\n",
            "10\n"
          ],
          "name": "stdout"
        }
      ]
    },
    {
      "cell_type": "code",
      "metadata": {
        "colab": {
          "base_uri": "https://localhost:8080/"
        },
        "id": "F3uMDkclC0KK",
        "outputId": "b4d6ed8b-3b17-4283-8262-c5e41c54a037"
      },
      "source": [
        "list_sum = 0\r\n",
        "\r\n",
        "for num in myList:\r\n",
        "  list_sum = list_sum + num\r\n",
        "\r\n",
        "list_sum"
      ],
      "execution_count": 41,
      "outputs": [
        {
          "output_type": "execute_result",
          "data": {
            "text/plain": [
              "55"
            ]
          },
          "metadata": {
            "tags": []
          },
          "execution_count": 41
        }
      ]
    },
    {
      "cell_type": "code",
      "metadata": {
        "colab": {
          "base_uri": "https://localhost:8080/"
        },
        "id": "3GuQ_MJwC_wK",
        "outputId": "70e3826c-ce04-4768-97d7-2492f9f6fdfc"
      },
      "source": [
        "myStr = 'Hello World'\r\n",
        "\r\n",
        "for letter in myStr:\r\n",
        "  print(letter)"
      ],
      "execution_count": 42,
      "outputs": [
        {
          "output_type": "stream",
          "text": [
            "H\n",
            "e\n",
            "l\n",
            "l\n",
            "o\n",
            " \n",
            "W\n",
            "o\n",
            "r\n",
            "l\n",
            "d\n"
          ],
          "name": "stdout"
        }
      ]
    },
    {
      "cell_type": "code",
      "metadata": {
        "colab": {
          "base_uri": "https://localhost:8080/"
        },
        "id": "s4BZc1XcDKdH",
        "outputId": "f726264d-5005-4ee0-bc7c-7d7f210f63f8"
      },
      "source": [
        "tup = (1,2,3)\r\n",
        "\r\n",
        "for item in tup:\r\n",
        "  print(item)"
      ],
      "execution_count": 43,
      "outputs": [
        {
          "output_type": "stream",
          "text": [
            "1\n",
            "2\n",
            "3\n"
          ],
          "name": "stdout"
        }
      ]
    },
    {
      "cell_type": "code",
      "metadata": {
        "colab": {
          "base_uri": "https://localhost:8080/"
        },
        "id": "Rqfdr8sgDWfx",
        "outputId": "660d8215-1578-4fe4-dbf9-c8abb4056732"
      },
      "source": [
        "myList = [(1,2,3), (4,5,6), (8,9,10)]\r\n",
        "\r\n",
        "for tup in myList:\r\n",
        "  print(tup)\r\n",
        "  for num in tup:\r\n",
        "    print(num)"
      ],
      "execution_count": 45,
      "outputs": [
        {
          "output_type": "stream",
          "text": [
            "(1, 2, 3)\n",
            "1\n",
            "2\n",
            "3\n",
            "(4, 5, 6)\n",
            "4\n",
            "5\n",
            "6\n",
            "(8, 9, 10)\n",
            "8\n",
            "9\n",
            "10\n"
          ],
          "name": "stdout"
        }
      ]
    },
    {
      "cell_type": "code",
      "metadata": {
        "colab": {
          "base_uri": "https://localhost:8080/"
        },
        "id": "R_TTK-RODphg",
        "outputId": "0e89c8d8-7875-4b05-9775-b9fd86eca9ac"
      },
      "source": [
        "myList = [(1,2,3), (4,5,6), (8,9,10)]\r\n",
        "\r\n",
        "for (a,b,c) in myList:\r\n",
        "  print(a)"
      ],
      "execution_count": 46,
      "outputs": [
        {
          "output_type": "stream",
          "text": [
            "1\n",
            "4\n",
            "8\n"
          ],
          "name": "stdout"
        }
      ]
    },
    {
      "cell_type": "code",
      "metadata": {
        "colab": {
          "base_uri": "https://localhost:8080/"
        },
        "id": "YYICbcM2Dh48",
        "outputId": "88a6f377-4a07-4c5e-d779-00f6194cb226"
      },
      "source": [
        "d = {'k1':1,'k2':2,'k3':3}\r\n",
        "\r\n",
        "for item in d:\r\n",
        "  print(item)"
      ],
      "execution_count": 47,
      "outputs": [
        {
          "output_type": "stream",
          "text": [
            "k1\n",
            "k2\n",
            "k3\n"
          ],
          "name": "stdout"
        }
      ]
    },
    {
      "cell_type": "code",
      "metadata": {
        "colab": {
          "base_uri": "https://localhost:8080/"
        },
        "id": "nEhjtUchEM8T",
        "outputId": "96824bc0-625d-441b-873b-d342df743229"
      },
      "source": [
        "d = {'k1':1,'k2':2,'k3':3}\r\n",
        "\r\n",
        "for item in d.items():\r\n",
        "  print(item)"
      ],
      "execution_count": 49,
      "outputs": [
        {
          "output_type": "stream",
          "text": [
            "('k1', 1)\n",
            "('k2', 2)\n",
            "('k3', 3)\n"
          ],
          "name": "stdout"
        }
      ]
    },
    {
      "cell_type": "code",
      "metadata": {
        "colab": {
          "base_uri": "https://localhost:8080/"
        },
        "id": "73Vx65TiERIf",
        "outputId": "8a6bc416-bbca-47f8-d90a-7e8822a3c487"
      },
      "source": [
        "d = {'k1':1,'k2':2,'k3':3}\r\n",
        "\r\n",
        "for key,value in d.items():\r\n",
        "  print(f'Key: {key}, Value: {value}')"
      ],
      "execution_count": 51,
      "outputs": [
        {
          "output_type": "stream",
          "text": [
            "Key: k1, Value: 1\n",
            "Key: k2, Value: 2\n",
            "Key: k3, Value: 3\n"
          ],
          "name": "stdout"
        }
      ]
    },
    {
      "cell_type": "code",
      "metadata": {
        "id": "Nc1BvmmbEpPj"
      },
      "source": [
        ""
      ],
      "execution_count": null,
      "outputs": []
    }
  ]
}