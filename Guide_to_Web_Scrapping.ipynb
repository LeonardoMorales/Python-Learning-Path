{
  "nbformat": 4,
  "nbformat_minor": 0,
  "metadata": {
    "colab": {
      "name": "Guide to Web Scrapping.ipynb",
      "provenance": [],
      "authorship_tag": "ABX9TyPxvCGj/Eo/zt/tchrM8BLm",
      "include_colab_link": true
    },
    "kernelspec": {
      "name": "python3",
      "display_name": "Python 3"
    }
  },
  "cells": [
    {
      "cell_type": "markdown",
      "metadata": {
        "id": "view-in-github",
        "colab_type": "text"
      },
      "source": [
        "<a href=\"https://colab.research.google.com/github/LeonardoMorales/Python-Learning-Path/blob/master/Guide_to_Web_Scrapping.ipynb\" target=\"_parent\"><img src=\"https://colab.research.google.com/assets/colab-badge.svg\" alt=\"Open In Colab\"/></a>"
      ]
    },
    {
      "cell_type": "code",
      "metadata": {
        "id": "-buHVmvh6UIg"
      },
      "source": [
        "import requests"
      ],
      "execution_count": 2,
      "outputs": []
    },
    {
      "cell_type": "code",
      "metadata": {
        "id": "lTkpVoZG6XAG"
      },
      "source": [
        "result = requests.get('https://www.example.com')"
      ],
      "execution_count": 3,
      "outputs": []
    },
    {
      "cell_type": "code",
      "metadata": {
        "colab": {
          "base_uri": "https://localhost:8080/"
        },
        "id": "7zKi5n638Ftm",
        "outputId": "8ac4ebd9-3409-404a-da95-b93b658c87de"
      },
      "source": [
        "type(result)"
      ],
      "execution_count": 4,
      "outputs": [
        {
          "output_type": "execute_result",
          "data": {
            "text/plain": [
              "requests.models.Response"
            ]
          },
          "metadata": {
            "tags": []
          },
          "execution_count": 4
        }
      ]
    },
    {
      "cell_type": "code",
      "metadata": {
        "colab": {
          "base_uri": "https://localhost:8080/",
          "height": 169
        },
        "id": "XPXtwPT28JYF",
        "outputId": "9cf141ab-11ba-45a9-fb4b-ec569d17479e"
      },
      "source": [
        "result.text"
      ],
      "execution_count": 5,
      "outputs": [
        {
          "output_type": "execute_result",
          "data": {
            "application/vnd.google.colaboratory.intrinsic+json": {
              "type": "string"
            },
            "text/plain": [
              "'<!doctype html>\\n<html>\\n<head>\\n    <title>Example Domain</title>\\n\\n    <meta charset=\"utf-8\" />\\n    <meta http-equiv=\"Content-type\" content=\"text/html; charset=utf-8\" />\\n    <meta name=\"viewport\" content=\"width=device-width, initial-scale=1\" />\\n    <style type=\"text/css\">\\n    body {\\n        background-color: #f0f0f2;\\n        margin: 0;\\n        padding: 0;\\n        font-family: -apple-system, system-ui, BlinkMacSystemFont, \"Segoe UI\", \"Open Sans\", \"Helvetica Neue\", Helvetica, Arial, sans-serif;\\n        \\n    }\\n    div {\\n        width: 600px;\\n        margin: 5em auto;\\n        padding: 2em;\\n        background-color: #fdfdff;\\n        border-radius: 0.5em;\\n        box-shadow: 2px 3px 7px 2px rgba(0,0,0,0.02);\\n    }\\n    a:link, a:visited {\\n        color: #38488f;\\n        text-decoration: none;\\n    }\\n    @media (max-width: 700px) {\\n        div {\\n            margin: 0 auto;\\n            width: auto;\\n        }\\n    }\\n    </style>    \\n</head>\\n\\n<body>\\n<div>\\n    <h1>Example Domain</h1>\\n    <p>This domain is for use in illustrative examples in documents. You may use this\\n    domain in literature without prior coordination or asking for permission.</p>\\n    <p><a href=\"https://www.iana.org/domains/example\">More information...</a></p>\\n</div>\\n</body>\\n</html>\\n'"
            ]
          },
          "metadata": {
            "tags": []
          },
          "execution_count": 5
        }
      ]
    },
    {
      "cell_type": "code",
      "metadata": {
        "id": "EpttuFWG8NKh"
      },
      "source": [
        "import bs4"
      ],
      "execution_count": 6,
      "outputs": []
    },
    {
      "cell_type": "code",
      "metadata": {
        "id": "Acz6nVFN8ffU"
      },
      "source": [
        "soup = bs4.BeautifulSoup(result.text, 'lxml')"
      ],
      "execution_count": 7,
      "outputs": []
    },
    {
      "cell_type": "code",
      "metadata": {
        "colab": {
          "base_uri": "https://localhost:8080/"
        },
        "id": "orSZqXsF8sw6",
        "outputId": "c7bf43c9-526d-4ddb-f923-20372f94f73b"
      },
      "source": [
        "soup"
      ],
      "execution_count": 8,
      "outputs": [
        {
          "output_type": "execute_result",
          "data": {
            "text/plain": [
              "<!DOCTYPE html>\n",
              "<html>\n",
              "<head>\n",
              "<title>Example Domain</title>\n",
              "<meta charset=\"utf-8\"/>\n",
              "<meta content=\"text/html; charset=utf-8\" http-equiv=\"Content-type\"/>\n",
              "<meta content=\"width=device-width, initial-scale=1\" name=\"viewport\"/>\n",
              "<style type=\"text/css\">\n",
              "    body {\n",
              "        background-color: #f0f0f2;\n",
              "        margin: 0;\n",
              "        padding: 0;\n",
              "        font-family: -apple-system, system-ui, BlinkMacSystemFont, \"Segoe UI\", \"Open Sans\", \"Helvetica Neue\", Helvetica, Arial, sans-serif;\n",
              "        \n",
              "    }\n",
              "    div {\n",
              "        width: 600px;\n",
              "        margin: 5em auto;\n",
              "        padding: 2em;\n",
              "        background-color: #fdfdff;\n",
              "        border-radius: 0.5em;\n",
              "        box-shadow: 2px 3px 7px 2px rgba(0,0,0,0.02);\n",
              "    }\n",
              "    a:link, a:visited {\n",
              "        color: #38488f;\n",
              "        text-decoration: none;\n",
              "    }\n",
              "    @media (max-width: 700px) {\n",
              "        div {\n",
              "            margin: 0 auto;\n",
              "            width: auto;\n",
              "        }\n",
              "    }\n",
              "    </style>\n",
              "</head>\n",
              "<body>\n",
              "<div>\n",
              "<h1>Example Domain</h1>\n",
              "<p>This domain is for use in illustrative examples in documents. You may use this\n",
              "    domain in literature without prior coordination or asking for permission.</p>\n",
              "<p><a href=\"https://www.iana.org/domains/example\">More information...</a></p>\n",
              "</div>\n",
              "</body>\n",
              "</html>"
            ]
          },
          "metadata": {
            "tags": []
          },
          "execution_count": 8
        }
      ]
    },
    {
      "cell_type": "code",
      "metadata": {
        "id": "vrXiHUo-8uEL"
      },
      "source": [
        "title = soup.select('title')[0]"
      ],
      "execution_count": 15,
      "outputs": []
    },
    {
      "cell_type": "code",
      "metadata": {
        "colab": {
          "base_uri": "https://localhost:8080/"
        },
        "id": "ys_9Cdsu9CyR",
        "outputId": "ec3e769a-13c9-4cca-91f2-99c1b5c2dd45"
      },
      "source": [
        "type(title)"
      ],
      "execution_count": 16,
      "outputs": [
        {
          "output_type": "execute_result",
          "data": {
            "text/plain": [
              "bs4.element.Tag"
            ]
          },
          "metadata": {
            "tags": []
          },
          "execution_count": 16
        }
      ]
    },
    {
      "cell_type": "code",
      "metadata": {
        "colab": {
          "base_uri": "https://localhost:8080/",
          "height": 36
        },
        "id": "5Cl1D2DU9ttW",
        "outputId": "ded0056e-8af8-4da1-a4c8-335ab779e514"
      },
      "source": [
        "title.getText()"
      ],
      "execution_count": 17,
      "outputs": [
        {
          "output_type": "execute_result",
          "data": {
            "application/vnd.google.colaboratory.intrinsic+json": {
              "type": "string"
            },
            "text/plain": [
              "'Example Domain'"
            ]
          },
          "metadata": {
            "tags": []
          },
          "execution_count": 17
        }
      ]
    },
    {
      "cell_type": "markdown",
      "metadata": {
        "id": "vSuVGYf4-YiH"
      },
      "source": [
        "| Syntax                   | Match Results                         |\r\n",
        "| -----------------------  | ----------------------------------    |\r\n",
        "| soup.select('div')       | All elements with 'div' tag           |\r\n",
        "| soup.select('#some_id')  | Elements containing id='some_id'      |\r\n",
        "| soup.slect('.some_class')| Elements containing class='some_class'|\r\n",
        "| soup.select('div span')  | Any elements named span within a div element |\r\n",
        "| soup.select('div > span')| Any elements named span **directly** within a div element, with nothing in between |\r\n"
      ]
    },
    {
      "cell_type": "code",
      "metadata": {
        "id": "b5wsKFL-9vn6"
      },
      "source": [
        "res = requests.get('https://es.wikipedia.org/wiki/Jonas_Salk')"
      ],
      "execution_count": 18,
      "outputs": []
    },
    {
      "cell_type": "code",
      "metadata": {
        "id": "lPYQM3w2DxHP"
      },
      "source": [
        "soup = bs4.BeautifulSoup(res.text, 'lxml')"
      ],
      "execution_count": 19,
      "outputs": []
    },
    {
      "cell_type": "code",
      "metadata": {
        "colab": {
          "base_uri": "https://localhost:8080/"
        },
        "id": "CKb8xFYZD2QZ",
        "outputId": "0fd0e48a-4ffd-4e35-a846-8d19f82cabb1"
      },
      "source": [
        "soup"
      ],
      "execution_count": 20,
      "outputs": [
        {
          "output_type": "execute_result",
          "data": {
            "text/plain": [
              "<!DOCTYPE html>\n",
              "<html class=\"client-nojs\" dir=\"ltr\" lang=\"es\">\n",
              "<head>\n",
              "<meta charset=\"utf-8\"/>\n",
              "<title>Jonas Salk - Wikipedia, la enciclopedia libre</title>\n",
              "<script>document.documentElement.className=\"client-js\";RLCONF={\"wgBreakFrames\":!1,\"wgSeparatorTransformTable\":[\",\\t.\",\" \\t,\"],\"wgDigitTransformTable\":[\"\",\"\"],\"wgDefaultDateFormat\":\"dmy\",\"wgMonthNames\":[\"\",\"enero\",\"febrero\",\"marzo\",\"abril\",\"mayo\",\"junio\",\"julio\",\"agosto\",\"septiembre\",\"octubre\",\"noviembre\",\"diciembre\"],\"wgRequestId\":\"YA6OzQpAICEAAIX3cIAAAABN\",\"wgCSPNonce\":!1,\"wgCanonicalNamespace\":\"\",\"wgCanonicalSpecialPageName\":!1,\"wgNamespaceNumber\":0,\"wgPageName\":\"Jonas_Salk\",\"wgTitle\":\"Jonas Salk\",\"wgCurRevisionId\":131855283,\"wgRevisionId\":131855283,\"wgArticleId\":52957,\"wgIsArticle\":!0,\"wgIsRedirect\":!1,\"wgAction\":\"view\",\"wgUserName\":null,\"wgUserGroups\":[\"*\"],\"wgCategories\":[\"Wikipedia:Artículos grabados\",\"Wikipedia:Artículos con identificadores VIAF\",\"Wikipedia:Artículos con identificadores ISNI\",\"Wikipedia:Artículos con identificadores BNF\",\"Wikipedia:Artículos con identificadores GND\",\"Wikipedia:Artículos con identificadores LCCN\",\n",
              "\"Wikipedia:Artículos con identificadores SNAC\",\"Wikipedia:Artículos con identificadores ULAN\",\"Wikipedia:Artículos con identificadores Open Library\",\"Wikipedia:Control de autoridades con 14 elementos\",\"Hombres\",\"Nacidos en 1914\",\"Fallecidos en 1995\",\"Médicos de Estados Unidos\",\"Virólogos de Estados Unidos\",\"Epidemiólogos de Estados Unidos\",\"Inmunólogos de Estados Unidos\",\"Científicos de Estados Unidos\",\"Inventores de Estados Unidos\",\"Humanistas de Estados Unidos\",\"Alumnado de la Universidad de Nueva York\",\"Alumnado de la Universidad de Míchigan\",\"Profesores de la Universidad de Pittsburgh\",\"Poliomielitis\",\"Doctores honorarios de la Universidad Hebrea de Jerusalén\",\"Graduados honorarios de la Universidad de Leeds\",\"Medalla de oro del Congreso\",\"Medalla Presidencial de la Libertad\",\"Premio Lasker\",\"Judíos de Estados Unidos\",\"Neoyorquinos\",\"Sandieguinos\"],\"wgPageContentLanguage\":\"es\",\"wgPageContentModel\":\"wikitext\",\"wgRelevantPageName\":\"Jonas_Salk\",\"wgRelevantArticleId\":52957,\n",
              "\"wgIsProbablyEditable\":!0,\"wgRelevantPageIsProbablyEditable\":!0,\"wgRestrictionEdit\":[],\"wgRestrictionMove\":[],\"wgMediaViewerOnClick\":!0,\"wgMediaViewerEnabledByDefault\":!0,\"wgPopupsReferencePreviews\":!1,\"wgPopupsConflictsWithNavPopupGadget\":!1,\"wgPopupsConflictsWithRefTooltipsGadget\":!0,\"wgVisualEditor\":{\"pageLanguageCode\":\"es\",\"pageLanguageDir\":\"ltr\",\"pageVariantFallbacks\":\"es\"},\"wgMFDisplayWikibaseDescriptions\":{\"search\":!0,\"nearby\":!0,\"watchlist\":!0,\"tagline\":!0},\"wgWMESchemaEditAttemptStepOversample\":!1,\"wgULSCurrentAutonym\":\"español\",\"wgNoticeProject\":\"wikipedia\",\"wgCentralAuthMobileDomain\":!1,\"wgEditSubmitButtonLabelPublish\":!0,\"wgULSPosition\":\"interlanguage\",\"wgWikibaseItemId\":\"Q200101\"};RLSTATE={\"ext.gadget.imagenesinfobox\":\"ready\",\"ext.globalCssJs.user.styles\":\"ready\",\"site.styles\":\"ready\",\"noscript\":\"ready\",\"user.styles\":\"ready\",\"ext.globalCssJs.user\":\"ready\",\"user\":\"ready\",\"user.options\":\"loading\",\"ext.cite.styles\":\"ready\",\n",
              "\"ext.tmh.thumbnail.styles\":\"ready\",\"skins.vector.styles.legacy\":\"ready\",\"ext.visualEditor.desktopArticleTarget.noscript\":\"ready\",\"ext.uls.interlanguage\":\"ready\",\"ext.wikimediaBadges\":\"ready\",\"wikibase.client.init\":\"ready\"};RLPAGEMODULES=[\"ext.cite.ux-enhancements\",\"mw.MediaWikiPlayer.loader\",\"mw.PopUpMediaTransform\",\"mw.TMHGalleryHook.js\",\"ext.scribunto.logs\",\"site\",\"mediawiki.page.ready\",\"mediawiki.toc\",\"skins.vector.legacy.js\",\"ext.gadget.a-commons-directo\",\"ext.gadget.ReferenceTooltips\",\"ext.gadget.refToolbar\",\"ext.gadget.switcher\",\"ext.centralauth.centralautologin\",\"mmv.head\",\"mmv.bootstrap.autostart\",\"ext.popups\",\"ext.visualEditor.desktopArticleTarget.init\",\"ext.visualEditor.targetLoader\",\"ext.eventLogging\",\"ext.wikimediaEvents\",\"ext.navigationTiming\",\"ext.uls.compactlinks\",\"ext.uls.interface\",\"ext.cx.eventlogging.campaigns\",\"ext.quicksurveys.init\",\"ext.centralNotice.geoIP\",\"ext.centralNotice.startUp\"];</script>\n",
              "<script>(RLQ=window.RLQ||[]).push(function(){mw.loader.implement(\"user.options@1hzgi\",function($,jQuery,require,module){/*@nomin*/mw.user.tokens.set({\"patrolToken\":\"+\\\\\",\"watchToken\":\"+\\\\\",\"csrfToken\":\"+\\\\\"});mw.user.options.set({\"variant\":\"es\"});\n",
              "});});</script>\n",
              "<link href=\"/w/load.php?lang=es&amp;modules=ext.cite.styles%7Cext.tmh.thumbnail.styles%7Cext.uls.interlanguage%7Cext.visualEditor.desktopArticleTarget.noscript%7Cext.wikimediaBadges%7Cskins.vector.styles.legacy%7Cwikibase.client.init&amp;only=styles&amp;skin=vector\" rel=\"stylesheet\"/>\n",
              "<script async=\"\" src=\"/w/load.php?lang=es&amp;modules=startup&amp;only=scripts&amp;raw=1&amp;skin=vector\"></script>\n",
              "<meta content=\"\" name=\"ResourceLoaderDynamicStyles\"/>\n",
              "<link href=\"/w/load.php?lang=es&amp;modules=ext.gadget.imagenesinfobox&amp;only=styles&amp;skin=vector\" rel=\"stylesheet\"/>\n",
              "<link href=\"/w/load.php?lang=es&amp;modules=site.styles&amp;only=styles&amp;skin=vector\" rel=\"stylesheet\"/>\n",
              "<noscript><link href=\"/w/load.php?lang=es&amp;modules=noscript&amp;only=styles&amp;skin=vector\" rel=\"stylesheet\"/></noscript>\n",
              "<meta content=\"MediaWiki 1.36.0-wmf.27\" name=\"generator\"/>\n",
              "<meta content=\"origin\" name=\"referrer\"/>\n",
              "<meta content=\"origin-when-crossorigin\" name=\"referrer\"/>\n",
              "<meta content=\"origin-when-cross-origin\" name=\"referrer\"/>\n",
              "<meta content=\"https://upload.wikimedia.org/wikipedia/commons/thumb/b/bd/Dr_Jonas_Edward_Salk_%28cropped%29.jpg/1200px-Dr_Jonas_Edward_Salk_%28cropped%29.jpg\" property=\"og:image\"/>\n",
              "<link href=\"//upload.wikimedia.org\" rel=\"preconnect\"/>\n",
              "<link href=\"//es.m.wikipedia.org/wiki/Jonas_Salk\" media=\"only screen and (max-width: 720px)\" rel=\"alternate\"/>\n",
              "<link href=\"/w/index.php?title=Jonas_Salk&amp;action=edit\" rel=\"alternate\" title=\"Editar\" type=\"application/x-wiki\"/>\n",
              "<link href=\"/w/index.php?title=Jonas_Salk&amp;action=edit\" rel=\"edit\" title=\"Editar\"/>\n",
              "<link href=\"/static/apple-touch/wikipedia.png\" rel=\"apple-touch-icon\"/>\n",
              "<link href=\"/static/favicon/wikipedia.ico\" rel=\"shortcut icon\"/>\n",
              "<link href=\"/w/opensearch_desc.php\" rel=\"search\" title=\"Wikipedia (es)\" type=\"application/opensearchdescription+xml\"/>\n",
              "<link href=\"//es.wikipedia.org/w/api.php?action=rsd\" rel=\"EditURI\" type=\"application/rsd+xml\"/>\n",
              "<link href=\"//creativecommons.org/licenses/by-sa/3.0/\" rel=\"license\"/>\n",
              "<link href=\"https://es.wikipedia.org/wiki/Jonas_Salk\" rel=\"canonical\"/>\n",
              "<link href=\"//login.wikimedia.org\" rel=\"dns-prefetch\"/>\n",
              "<link href=\"//meta.wikimedia.org\" rel=\"dns-prefetch\"/>\n",
              "</head>\n",
              "<body class=\"mediawiki ltr sitedir-ltr mw-hide-empty-elt ns-0 ns-subject mw-editable page-Jonas_Salk rootpage-Jonas_Salk skin-vector action-view skin-vector-legacy\"><div class=\"noprint\" id=\"mw-page-base\"></div>\n",
              "<div class=\"noprint\" id=\"mw-head-base\"></div>\n",
              "<div class=\"mw-body\" id=\"content\" role=\"main\">\n",
              "<a id=\"top\"></a>\n",
              "<div class=\"mw-body-content\" id=\"siteNotice\"><!-- CentralNotice --></div>\n",
              "<div class=\"mw-indicators mw-body-content\">\n",
              "<div class=\"mw-indicator\" id=\"mw-indicator-spoken-icon\"><a href=\"//es.wikipedia.org/wiki/Wikiproyecto:Wikipedia_grabada\" title=\"Existe una versión en audio de este artículo. Haz clic aquí para saber más\"><img alt=\"Existe una versión en audio de este artículo. Haz clic aquí para saber más\" data-file-height=\"96\" data-file-width=\"128\" decoding=\"async\" height=\"14\" src=\"//upload.wikimedia.org/wikipedia/commons/thumb/4/47/Sound-icon.svg/18px-Sound-icon.svg.png\" srcset=\"//upload.wikimedia.org/wikipedia/commons/thumb/4/47/Sound-icon.svg/27px-Sound-icon.svg.png 1.5x, //upload.wikimedia.org/wikipedia/commons/thumb/4/47/Sound-icon.svg/36px-Sound-icon.svg.png 2x\" width=\"18\"/></a></div>\n",
              "</div>\n",
              "<h1 class=\"firstHeading\" id=\"firstHeading\" lang=\"es\">Jonas Salk</h1>\n",
              "<div class=\"mw-body-content\" id=\"bodyContent\">\n",
              "<div class=\"noprint\" id=\"siteSub\">De Wikipedia, la enciclopedia libre</div>\n",
              "<div id=\"contentSub\"></div>\n",
              "<div id=\"contentSub2\"></div>\n",
              "<div id=\"jump-to-nav\"></div>\n",
              "<a class=\"mw-jump-link\" href=\"#mw-head\">Ir a la navegación</a>\n",
              "<a class=\"mw-jump-link\" href=\"#searchInput\">Ir a la búsqueda</a>\n",
              "<div class=\"mw-content-ltr\" dir=\"ltr\" id=\"mw-content-text\" lang=\"es\"><div class=\"mw-parser-output\"><table class=\"infobox biography vcard\" style=\"width:22.7em; line-height: 1.4em; text-align:left; padding:.23em;\"><tbody><tr><th class=\"cabecera persona\" colspan=\"3\" style=\"text-align:center;background-color:transparent;color:black;background-color:#8DB1C3;color:#FFF;\">Jonas Salk</th></tr><tr><td colspan=\"3\" style=\"text-align:center;padding:0.2em; line-height:1.3em; vertical-align:middle;;\">\n",
              "<a class=\"image\" href=\"/wiki/Archivo:Dr_Jonas_Edward_Salk_(cropped).jpg\"><img alt=\"Dr Jonas Edward Salk (cropped).jpg\" data-file-height=\"1573\" data-file-width=\"1435\" decoding=\"async\" height=\"241\" src=\"//upload.wikimedia.org/wikipedia/commons/thumb/b/bd/Dr_Jonas_Edward_Salk_%28cropped%29.jpg/220px-Dr_Jonas_Edward_Salk_%28cropped%29.jpg\" srcset=\"//upload.wikimedia.org/wikipedia/commons/thumb/b/bd/Dr_Jonas_Edward_Salk_%28cropped%29.jpg/330px-Dr_Jonas_Edward_Salk_%28cropped%29.jpg 1.5x, //upload.wikimedia.org/wikipedia/commons/thumb/b/bd/Dr_Jonas_Edward_Salk_%28cropped%29.jpg/440px-Dr_Jonas_Edward_Salk_%28cropped%29.jpg 2x\" width=\"220\"/></a><br/><div style=\"display:inline;\">Jonas Salk en el <a class=\"new\" href=\"/w/index.php?title=Aeropuerto_de_Copenhagen-Kastrup&amp;action=edit&amp;redlink=1\" title=\"Aeropuerto de Copenhagen-Kastrup (aún no redactado)\">Aeropuerto de Copenhague</a> en <a href=\"/wiki/1959\" title=\"1959\">1959</a>.</div></td></tr><tr><th colspan=\"3\" style=\"text-align:center;background-color:#8DB1C3;color:#FFF;\">Información personal</th></tr><tr><th scope=\"row\" style=\"text-align:left;width:33%;\">Nacimiento</th><td colspan=\"2\" style=\"padding:0.2em; line-height:1.3em; vertical-align:middle;;\">\n",
              "<a href=\"/wiki/28_de_octubre\" title=\"28 de octubre\">28 de octubre</a> de <a href=\"/wiki/1914\" title=\"1914\">1914</a><br/><a href=\"/wiki/Nueva_York\" title=\"Nueva York\">Nueva York</a>, <a href=\"/wiki/Estados_Unidos\" title=\"Estados Unidos\">Estados Unidos</a></td></tr><tr><th scope=\"row\" style=\"text-align:left;width:33%;\">Fallecimiento</th><td colspan=\"2\" style=\"padding:0.2em; line-height:1.3em; vertical-align:middle;;\">\n",
              "<a href=\"/wiki/23_de_junio\" title=\"23 de junio\">23 de junio</a> de <a href=\"/wiki/1995\" title=\"1995\">1995</a>, 80 años<br/><a href=\"/wiki/La_Jolla\" title=\"La Jolla\">La Jolla</a>, <a href=\"/wiki/California\" title=\"California\">California</a>, <a href=\"/wiki/Estados_Unidos\" title=\"Estados Unidos\">Estados Unidos</a></td></tr><tr><th scope=\"row\" style=\"text-align:left;width:33%;\">Causa de la muerte</th><td colspan=\"2\" style=\"padding:0.2em; line-height:1.3em; vertical-align:middle;;\">\n",
              "<a href=\"/wiki/Insuficiencia_card%C3%ADaca\" title=\"Insuficiencia cardíaca\">Insuficiencia cardíaca</a><span class=\"wikidata-link noprint\"> <a href=\"https://www.wikidata.org/wiki/Q200101?uselang=es#P509\" title=\"Ver y modificar los datos en Wikidata\"><img alt=\"Ver y modificar los datos en Wikidata\" data-file-height=\"600\" data-file-width=\"600\" decoding=\"async\" height=\"10\" src=\"//upload.wikimedia.org/wikipedia/commons/thumb/7/73/Blue_pencil.svg/10px-Blue_pencil.svg.png\" srcset=\"//upload.wikimedia.org/wikipedia/commons/thumb/7/73/Blue_pencil.svg/15px-Blue_pencil.svg.png 1.5x, //upload.wikimedia.org/wikipedia/commons/thumb/7/73/Blue_pencil.svg/20px-Blue_pencil.svg.png 2x\" style=\"vertical-align: baseline\" width=\"10\"/></a></span></td></tr><tr><th scope=\"row\" style=\"text-align:left;width:33%;\">Sepultura</th><td colspan=\"2\" style=\"padding:0.2em; line-height:1.3em; vertical-align:middle;;\">\n",
              "<a href=\"/wiki/Los_%C3%81ngeles\" title=\"Los Ángeles\">Los Ángeles</a><span class=\"wikidata-link noprint\"> <a href=\"https://www.wikidata.org/wiki/Q200101?uselang=es#P119\" title=\"Ver y modificar los datos en Wikidata\"><img alt=\"Ver y modificar los datos en Wikidata\" data-file-height=\"600\" data-file-width=\"600\" decoding=\"async\" height=\"10\" src=\"//upload.wikimedia.org/wikipedia/commons/thumb/7/73/Blue_pencil.svg/10px-Blue_pencil.svg.png\" srcset=\"//upload.wikimedia.org/wikipedia/commons/thumb/7/73/Blue_pencil.svg/15px-Blue_pencil.svg.png 1.5x, //upload.wikimedia.org/wikipedia/commons/thumb/7/73/Blue_pencil.svg/20px-Blue_pencil.svg.png 2x\" style=\"vertical-align: baseline\" width=\"10\"/></a></span></td></tr><tr><th scope=\"row\" style=\"text-align:left;width:33%;\">Residencia</th><td class=\"etiqueta\" colspan=\"2\" style=\"padding:0.2em; line-height:1.3em; vertical-align:middle;;\">\n",
              "<a href=\"/wiki/Estados_Unidos\" title=\"Estados Unidos\">Estados Unidos</a></td></tr><tr><th scope=\"row\" style=\"text-align:left;width:33%;\">Nacionalidad</th><td class=\"category\" colspan=\"2\" style=\"padding:0.2em; line-height:1.3em; vertical-align:middle;;\">\n",
              "Estadounidense</td></tr><tr><th colspan=\"3\" style=\"text-align:center;background-color:#8DB1C3;color:#FFF;\">Familia</th></tr><tr><th scope=\"row\" style=\"text-align:left;width:33%;\">Cónyuge</th><td class=\"plainlist\" colspan=\"2\" style=\"padding:0.2em; line-height:1.3em; vertical-align:middle;;\">\n",
              "Donna Lindsay (1939—1968) <br/> Françoise Gilot (1970—1995)</td></tr><tr><th colspan=\"3\" style=\"text-align:center;background-color:#8DB1C3;color:#FFF;\">Educación</th></tr><tr><th scope=\"row\" style=\"text-align:left;width:33%;\">Educado en</th><td class=\"plainlist\" colspan=\"2\" style=\"padding:0.2em; line-height:1.3em; vertical-align:middle;;\">\n",
              "<a class=\"mw-redirect\" href=\"/wiki/City_College_of_New_York\" title=\"City College of New York\">City College of New York</a> <br/> <a href=\"/wiki/Universidad_de_Nueva_York\" title=\"Universidad de Nueva York\">Universidad de Nueva York</a> <br/> <a href=\"/wiki/Universidad_de_M%C3%ADchigan\" title=\"Universidad de Míchigan\">Universidad de Míchigan</a></td></tr><tr><th scope=\"row\" style=\"text-align:left;width:33%;\">Supervisor doctoral</th><td colspan=\"2\" style=\"padding:0.2em; line-height:1.3em; vertical-align:middle;;\">\n",
              "Thomas Francis, Jr.<sup class=\"reference separada\" id=\"cite_ref-pbs.org_1-0\"><a href=\"#cite_note-pbs.org-1\"><span class=\"corchete-llamada\">[</span>1<span class=\"corchete-llamada\">]</span></a></sup>​</td></tr><tr><th colspan=\"3\" style=\"text-align:center;background-color:#8DB1C3;color:#FFF;\">Información profesional</th></tr><tr><th scope=\"row\" style=\"text-align:left;width:33%;\">Área</th><td colspan=\"2\" style=\"padding:0.2em; line-height:1.3em; vertical-align:middle;;\">\n",
              "<a href=\"/wiki/Epidemiolog%C3%ADa\" title=\"Epidemiología\">Epidemiología</a>, <a href=\"/wiki/Investigaci%C3%B3n_m%C3%A9dica\" title=\"Investigación médica\">investigación médica</a>, <a href=\"/wiki/Virolog%C3%ADa\" title=\"Virología\">virología</a></td></tr><tr><th scope=\"row\" style=\"text-align:left;width:33%;\">Conocido por</th><td colspan=\"2\" style=\"padding:0.2em; line-height:1.3em; vertical-align:middle;;\">\n",
              "<a href=\"/wiki/Vacuna_contra_la_poliomielitis\" title=\"Vacuna contra la poliomielitis\">Primera vacuna contra la poliomielitis</a></td></tr><tr><th scope=\"row\" style=\"text-align:left;width:33%;\">Empleador</th><td class=\"plainlist\" colspan=\"2\" style=\"padding:0.2em; line-height:1.3em; vertical-align:middle;;\">\n",
              "<a href=\"/wiki/Universidad_de_Pittsburgh\" title=\"Universidad de Pittsburgh\">Universidad de Pittsburgh</a> <br/> <a href=\"/wiki/Instituto_Salk\" title=\"Instituto Salk\">Instituto Salk</a> <br/> <a href=\"/wiki/Universidad_de_M%C3%ADchigan\" title=\"Universidad de Míchigan\">Universidad de Míchigan</a></td></tr><tr><th scope=\"row\" style=\"text-align:left;width:33%;\">Miembro de</th><td class=\"plainlist\" colspan=\"2\" style=\"padding:0.2em; line-height:1.3em; vertical-align:middle;;\">\n",
              "<ul><li><a href=\"/wiki/Academia_Estadounidense_de_las_Artes_y_las_Ciencias\" title=\"Academia Estadounidense de las Artes y las Ciencias\">Academia Estadounidense de las Artes y las Ciencias</a></li><li><a href=\"/wiki/Phi_Beta_Kappa\" title=\"Phi Beta Kappa\">Phi Beta Kappa</a></li><li><a href=\"/wiki/Asociaci%C3%B3n_Estadounidense_para_el_Avance_de_la_Ciencia\" title=\"Asociación Estadounidense para el Avance de la Ciencia\">Asociación Estadounidense para el Avance de la Ciencia</a><span class=\"wikidata-link noprint\"> <a href=\"https://www.wikidata.org/wiki/Q200101?uselang=es#P463\" title=\"Ver y modificar los datos en Wikidata\"><img alt=\"Ver y modificar los datos en Wikidata\" data-file-height=\"600\" data-file-width=\"600\" decoding=\"async\" height=\"10\" src=\"//upload.wikimedia.org/wikipedia/commons/thumb/7/73/Blue_pencil.svg/10px-Blue_pencil.svg.png\" srcset=\"//upload.wikimedia.org/wikipedia/commons/thumb/7/73/Blue_pencil.svg/15px-Blue_pencil.svg.png 1.5x, //upload.wikimedia.org/wikipedia/commons/thumb/7/73/Blue_pencil.svg/20px-Blue_pencil.svg.png 2x\" style=\"vertical-align: baseline\" width=\"10\"/></a></span></li></ul></td></tr><tr><th scope=\"row\" style=\"text-align:left;width:33%;\">Distinciones</th><td class=\"plainlist\" colspan=\"2\" style=\"padding:0.2em; line-height:1.3em; vertical-align:middle;;\">\n",
              "<a href=\"/wiki/Premio_Lasker\" title=\"Premio Lasker\">Premio Lasker</a> (1956)</td></tr><tr><th scope=\"row\" style=\"text-align:left;width:33%;\">Firma</th><td class=\"biography vcard\" colspan=\"2\" style=\"padding:0.2em; line-height:1.3em; vertical-align:middle;;\">\n",
              "<a class=\"image\" href=\"/wiki/Archivo:Jonas_Salk_signature.svg\"><img alt=\"Jonas Salk signature.svg\" data-file-height=\"278\" data-file-width=\"585\" decoding=\"async\" height=\"80\" src=\"//upload.wikimedia.org/wikipedia/commons/thumb/4/4a/Jonas_Salk_signature.svg/169px-Jonas_Salk_signature.svg.png\" srcset=\"//upload.wikimedia.org/wikipedia/commons/thumb/4/4a/Jonas_Salk_signature.svg/253px-Jonas_Salk_signature.svg.png 1.5x, //upload.wikimedia.org/wikipedia/commons/thumb/4/4a/Jonas_Salk_signature.svg/337px-Jonas_Salk_signature.svg.png 2x\" width=\"169\"/></a></td></tr><tr><td class=\"noprint\" colspan=\"3\" style=\"text-align:left;\"><div class=\"plainlinks wikidata-link\" style=\"font-size: 0.85em\">[<a class=\"extiw\" href=\"https://www.wikidata.org/wiki/Q200101\" title=\"d:Q200101\">editar datos en Wikidata</a>]</div></td></tr></tbody></table>\n",
              "<table class=\"infobox sisterproject plainlinks haudio noprint\" style=\"border:1px solid #CCC; min-width:22.7em; margin:.5em 0 .5em 1.5em; padding:3px\">\n",
              "<tbody><tr>\n",
              "<th colspan=\"2\" style=\"background-color:transparent; text-align:center; padding:2px\">Escucha este artículo<br/>(<a href=\"/wiki/Archivo:Es-Jonas-Salk-article.ogg\" title=\"Archivo:Es-Jonas-Salk-article.ogg\">info</a>)</th>\n",
              "</tr>\n",
              "<tr>\n",
              "<td class=\"mbox-image\" style=\"vertical-align:middle\"><div class=\"center\"><div class=\"floatnone\"><img alt=\"\" data-file-height=\"48\" data-file-width=\"48\" decoding=\"async\" height=\"45\" src=\"//upload.wikimedia.org/wikipedia/commons/thumb/c/c0/Audio-input-microphone.svg/45px-Audio-input-microphone.svg.png\" srcset=\"//upload.wikimedia.org/wikipedia/commons/thumb/c/c0/Audio-input-microphone.svg/68px-Audio-input-microphone.svg.png 1.5x, //upload.wikimedia.org/wikipedia/commons/thumb/c/c0/Audio-input-microphone.svg/90px-Audio-input-microphone.svg.png 2x\" width=\"45\"/></div></div></td>\n",
              "<td class=\"mbox-text\"><table style=\"width:100%; background-color:transparent; border-collapse:collapse; padding:0; margin:0\">\n",
              "<tbody><tr><td><div class=\"mediaContainer\" style=\"width:180px\"><audio class=\"kskin\" controls=\"\" data-durationhint=\"529.390625\" data-mwprovider=\"wikimediacommons\" data-mwtitle=\"Es-Jonas-Salk-article.ogg\" data-startoffset=\"0\" id=\"mwe_player_0\" preload=\"none\" style=\"width:180px\"><source data-bandwidth=\"54533\" data-height=\"0\" data-shorttitle=\"Fuente Ogg\" data-title=\"Archivo Ogg original (55 kbps)\" data-width=\"0\" src=\"//upload.wikimedia.org/wikipedia/commons/c/cf/Es-Jonas-Salk-article.ogg\" type='audio/ogg; codecs=\"vorbis\"'/><source data-bandwidth=\"96496\" data-height=\"0\" data-shorttitle=\"MP3\" data-title=\"MP3\" data-transcodekey=\"mp3\" data-width=\"0\" src=\"//upload.wikimedia.org/wikipedia/commons/transcoded/c/cf/Es-Jonas-Salk-article.ogg/Es-Jonas-Salk-article.ogg.mp3\" type=\"audio/mpeg\"/></audio></div></td></tr></tbody></table>\n",
              "</td>\n",
              "</tr>\n",
              "<tr><td colspan=\"2\"><div style=\"font-size: xx-small; line-height: 1.6em; text-align: center;\">Esta narración de audio fue creada a partir de una versión específica de este artículo (concretamente del 18 de marzo de 2019) y no refleja las posibles ediciones subsiguientes.</div><div style=\"text-align: center; clear: both\"><b><a href=\"/wiki/Wikiproyecto:Wikipedia_grabada\" title=\"Wikiproyecto:Wikipedia grabada\">Más artículos grabados</a></b></div><hr/><div class=\"problemas_sonido\" style=\"line-height:1.1em; text-align:center; font-size:smaller;\"><i><a href=\"/wiki/Ayuda:Multimedia\" title=\"Ayuda:Multimedia\">¿Problemas al reproducir este archivo?</a></i></div></td></tr>\n",
              "</tbody></table>\n",
              "<p>\n",
              "<b>Jonas Edward Salk</b> (<a href=\"/wiki/28_de_octubre\" title=\"28 de octubre\">28 de octubre</a> de <a href=\"/wiki/1914\" title=\"1914\">1914</a>-<a href=\"/wiki/23_de_junio\" title=\"23 de junio\">23 de junio</a> de <a href=\"/wiki/1995\" title=\"1995\">1995</a>)<sup class=\"reference separada\" id=\"cite_ref-2\"><a href=\"#cite_note-2\"><span class=\"corchete-llamada\">[</span>2<span class=\"corchete-llamada\">]</span></a></sup>​ fue un investigador <a href=\"/wiki/M%C3%A9dico\" title=\"Médico\">médico</a> y <a class=\"mw-redirect\" href=\"/wiki/Vir%C3%B3logo\" title=\"Virólogo\">virólogo</a> <a class=\"mw-redirect\" href=\"/wiki/Estadounidense\" title=\"Estadounidense\">estadounidense</a>, principalmente reconocido por su aporte a la <a href=\"/wiki/Vacuna_contra_la_poliomielitis\" title=\"Vacuna contra la poliomielitis\">vacuna contra la poliomielitis</a>. Nació en la <a class=\"mw-redirect\" href=\"/wiki/Ciudad_de_Nueva_York\" title=\"Ciudad de Nueva York\">ciudad de Nueva York</a>, proveniente de una familia de inmigrantes <a href=\"/wiki/Historia_de_los_jud%C3%ADos_en_Rusia\" title=\"Historia de los judíos en Rusia\">judíos rusos</a>. Si bien sus padres no poseían una educación formal, estaban decididos a ver triunfar a sus hijos. En la Escuela de Medicina de la <a href=\"/wiki/Universidad_de_Nueva_York\" title=\"Universidad de Nueva York\">Universidad de Nueva York</a> se destacó no solo por su destreza académica, sino porque también decidió realizar investigaciones médicas en vez de convertirse en médico.\n",
              "</p><p>Hasta 1955, cuando se presentó la vacuna Salk, la <a href=\"/wiki/Poliomielitis\" title=\"Poliomielitis\">poliomielitis</a> se consideraba el problema de salud pública más peligroso en los Estados Unidos de posguerra. Las <a href=\"/wiki/Epidemia\" title=\"Epidemia\">epidemias</a> anuales eran cada vez más devastadoras; la de 1952 fue el peor brote de la historia de la nación. De los casi 58 000 casos reportados ese año,<sup class=\"reference separada\" id=\"cite_ref-Zamula_3-0\"><a href=\"#cite_note-Zamula-3\"><span class=\"corchete-llamada\">[</span>3<span class=\"corchete-llamada\">]</span></a></sup>​ 3145 fallecieron y 21 269 quedaron afectados por parálisis,<sup class=\"reference separada\" id=\"cite_ref-Zamula_3-1\"><a href=\"#cite_note-Zamula-3\"><span class=\"corchete-llamada\">[</span>3<span class=\"corchete-llamada\">]</span></a></sup>​ siendo niños la mayor parte de las víctimas. Según el historiador <a class=\"new\" href=\"/w/index.php?title=William_O%27Neill&amp;action=edit&amp;redlink=1\" title=\"William O'Neill (aún no redactado)\">William O'Neill</a>, «la reacción pública fue similar a la de una plaga. Los ciudadanos de las áreas urbanas pasaban aterrorizados cada verano, la época del año en que regresaba este espantoso visitante». Como resultado, los científicos se embarcaron en una carrera frenética para encontrar un tratamiento o una forma de prevenirla. El presidente de los Estados Unidos <a href=\"/wiki/Franklin_D._Roosevelt\" title=\"Franklin D. Roosevelt\">Franklin D. Roosevelt</a> fue la víctima más reconocida del mundo de esta enfermedad y fundó la organización que patrocinó el desarrollo de una <a href=\"/wiki/Vacuna\" title=\"Vacuna\">vacuna</a>.\n",
              "</p><p>En 1947, Salk aceptó un nombramiento de la Escuela de Medicina de la Universidad de Pittsburgh. Al año siguiente, emprendió un proyecto creado por la Fundación Nacional para la Parálisis Infantil para determinar el número de tipos diferentes de virus de la poliomielitis. Salk vislumbró una oportunidad para extender este proyecto hasta llegar a desarrollar una vacuna contra la polio, y, junto con las investigaciones que había llevado a cabo, se dedicó por completo a este trabajo durante los siguientes siete años. El comité seleccionado para probar la vacuna de Salk fue, según O'Neill, «el programa más elaborado de su tipo en la historia, con veinte mil médicos y agentes de la salud pública, sesenta y cuatro mil académicos y veinte mil voluntarios». Más de 1 800 000 niños en edad escolar formaron parte del comité de prueba.<sup class=\"reference separada\" id=\"cite_ref-Rose_4-0\"><a href=\"#cite_note-Rose-4\"><span class=\"corchete-llamada\">[</span>4<span class=\"corchete-llamada\">]</span></a></sup>​ Cuando se hizo pública la noticia del éxito de la vacuna, el 12 de abril de 1955, Salk fue aclamado como un «trabajador milagroso» y el día «se convirtió casi en una fiesta nacional». Había llevado a cabo su tarea únicamente para desarrollar una vacuna segura y efectiva lo más rápido posible, sin interesarse en su beneficio personal. Cuando le preguntaron en una entrevista televisiva quién poseía la patente de la vacuna, Salk respondió: «No hay patente. ¿Se puede patentar el sol?».<sup class=\"reference separada\" id=\"cite_ref-5\"><a href=\"#cite_note-5\"><span class=\"corchete-llamada\">[</span>5<span class=\"corchete-llamada\">]</span></a></sup>​<sup class=\"reference separada\" id=\"cite_ref-6\"><a href=\"#cite_note-6\"><span class=\"corchete-llamada\">[</span>6<span class=\"corchete-llamada\">]</span></a></sup>​\n",
              "</p><p>En 1960, fundó el <a href=\"/wiki/Instituto_Salk\" title=\"Instituto Salk\">Instituto Salk</a> de Estudios Biológicos en <a href=\"/wiki/La_Jolla\" title=\"La Jolla\">La Jolla</a>, California, el cual en la actualidad es un centro para la investigación médica y científica. Continuó coordinando investigaciones y publicando libros, incluyendo <i>Man Unfolding</i> (1972), <i>The Survival of the Wisest</i> (1973), <i>World Population and Human Values: A New Reality</i> (1981) y <i>Anatomy of Reality: Merging of Intuition and Reason</i> (1983). En sus últimos años el Dr. Salk se dedicó a tratar de crear una vacuna contra el <a class=\"mw-redirect\" href=\"/wiki/Sida\" title=\"Sida\">sida</a>.<sup class=\"reference separada\" id=\"cite_ref-usa_7-0\"><a href=\"#cite_note-usa-7\"><span class=\"corchete-llamada\">[</span>7<span class=\"corchete-llamada\">]</span></a></sup>​\n",
              "</p>\n",
              "<div aria-labelledby=\"mw-toc-heading\" class=\"toc\" id=\"toc\" role=\"navigation\"><input class=\"toctogglecheckbox\" id=\"toctogglecheckbox\" role=\"button\" style=\"display:none\" type=\"checkbox\"/><div class=\"toctitle\" dir=\"ltr\" lang=\"es\"><h2 id=\"mw-toc-heading\">Índice</h2><span class=\"toctogglespan\"><label class=\"toctogglelabel\" for=\"toctogglecheckbox\"></label></span></div>\n",
              "<ul>\n",
              "<li class=\"toclevel-1 tocsection-1\"><a href=\"#Biografía\"><span class=\"tocnumber\">1</span> <span class=\"toctext\">Biografía</span></a>\n",
              "<ul>\n",
              "<li class=\"toclevel-2 tocsection-2\"><a href=\"#Primeros_años\"><span class=\"tocnumber\">1.1</span> <span class=\"toctext\">Primeros años</span></a></li>\n",
              "<li class=\"toclevel-2 tocsection-3\"><a href=\"#Estudios\"><span class=\"tocnumber\">1.2</span> <span class=\"toctext\">Estudios</span></a></li>\n",
              "</ul>\n",
              "</li>\n",
              "<li class=\"toclevel-1 tocsection-4\"><a href=\"#La_vacuna_Salk\"><span class=\"tocnumber\">2</span> <span class=\"toctext\">La vacuna <i>Salk</i></span></a></li>\n",
              "<li class=\"toclevel-1 tocsection-5\"><a href=\"#Véase_también\"><span class=\"tocnumber\">3</span> <span class=\"toctext\">Véase también</span></a></li>\n",
              "<li class=\"toclevel-1 tocsection-6\"><a href=\"#Referencias\"><span class=\"tocnumber\">4</span> <span class=\"toctext\">Referencias</span></a></li>\n",
              "<li class=\"toclevel-1 tocsection-7\"><a href=\"#Enlaces_externos\"><span class=\"tocnumber\">5</span> <span class=\"toctext\">Enlaces externos</span></a></li>\n",
              "</ul>\n",
              "</div>\n",
              "<h2><span id=\"Biograf.C3.ADa\"></span><span class=\"mw-headline\" id=\"Biografía\">Biografía</span><span class=\"mw-editsection\"><span class=\"mw-editsection-bracket\">[</span><a href=\"/w/index.php?title=Jonas_Salk&amp;action=edit&amp;section=1\" title=\"Editar sección: Biografía\">editar</a><span class=\"mw-editsection-bracket\">]</span></span></h2>\n",
              "<h3><span id=\"Primeros_a.C3.B1os\"></span><span class=\"mw-headline\" id=\"Primeros_años\">Primeros años</span><span class=\"mw-editsection\"><span class=\"mw-editsection-bracket\">[</span><a href=\"/w/index.php?title=Jonas_Salk&amp;action=edit&amp;section=2\" title=\"Editar sección: Primeros años\">editar</a><span class=\"mw-editsection-bracket\">]</span></span></h3>\n",
              "<p>Jonas Salk nació en la ciudad de Nueva York el 28 de octubre de 1914. Sus padres, Daniel y Dora Salk, provenían de familias inmigrantes ruso-judías, y no tenían una educación formal adecuada. Según el historiador <a class=\"new\" href=\"/w/index.php?title=David_Oshinsky&amp;action=edit&amp;redlink=1\" title=\"David Oshinsky (aún no redactado)\">David Oshinsky</a>, Salk creció embebido en la «cultura inmigrante judía» de Nueva York. Tenía dos hermanos menores, Herman y Lee. La familia se mudó de <a class=\"mw-redirect\" href=\"/wiki/East_Harlem\" title=\"East Harlem\">East Harlem</a> al <a class=\"mw-redirect\" href=\"/wiki/Bronx\" title=\"Bronx\">Bronx</a> y vivió por un tiempo en Queens.\n",
              "</p>\n",
              "<h3><span class=\"mw-headline\" id=\"Estudios\">Estudios</span><span class=\"mw-editsection\"><span class=\"mw-editsection-bracket\">[</span><a href=\"/w/index.php?title=Jonas_Salk&amp;action=edit&amp;section=3\" title=\"Editar sección: Estudios\">editar</a><span class=\"mw-editsection-bracket\">]</span></span></h3>\n",
              "<div class=\"thumb tright\"><div class=\"thumbinner\" style=\"width:222px;\"><a class=\"image\" href=\"/wiki/Archivo:SalkatPitt.jpg\"><img alt=\"\" class=\"thumbimage\" data-file-height=\"309\" data-file-width=\"250\" decoding=\"async\" height=\"272\" src=\"//upload.wikimedia.org/wikipedia/commons/thumb/c/ca/SalkatPitt.jpg/220px-SalkatPitt.jpg\" srcset=\"//upload.wikimedia.org/wikipedia/commons/c/ca/SalkatPitt.jpg 1.5x\" width=\"220\"/></a> <div class=\"thumbcaption\"><div class=\"magnify\"><a class=\"internal\" href=\"/wiki/Archivo:SalkatPitt.jpg\" title=\"Aumentar\"></a></div>Jonas Salk en la Universidad de Pittsburgh en 1955.</div></div></div>\n",
              "<p>Cuando tenía doce años de edad, ingresó en la Escuela Secundaria Townsend Harris, una escuela pública para estudiantes dotados intelectualmente. Según Oshinsky, la escuela, cuyo nombre corresponde al del fundador del <a class=\"mw-redirect\" href=\"/wiki/City_College_of_New_York\" title=\"City College of New York\">City College of New York</a> era «una plataforma de lanzamiento para los hijos talentosos de padres inmigrantes que no tenían el dinero o la herencia familiar para enviarlos a una escuela privada de prestigio». En la escuela fue conocido como un perfeccionista, que «leía todo lo que caía en sus manos», según uno de sus compañeros de clase.<sup class=\"reference separada\" id=\"cite_ref-Bookchin_8-0\"><a href=\"#cite_note-Bookchin-8\"><span class=\"corchete-llamada\">[</span>8<span class=\"corchete-llamada\">]</span></a></sup>​ Los estudiantes tenían que estudiar un programa de cuatro años de duración en solo tres. Como resultado, la mayor parte abandonaba la escuela, pese a su lema «estudien, estudien, estudien». Sin embargo, la mayor parte de los estudiantes graduados alcanzaba el promedio suficiente para ingresar en la CCNY, conocida por ser una universidad muy competitiva.<sup class=\"reference separada\" id=\"cite_ref-Oshinsky_9-0\"><a href=\"#cite_note-Oshinsky-9\"><span class=\"corchete-llamada\">[</span>9<span class=\"corchete-llamada\">]</span></a></sup>​\n",
              "</p>\n",
              "<h2><span class=\"mw-headline\" id=\"La_vacuna_Salk\">La vacuna <i>Salk</i></span><span class=\"mw-editsection\"><span class=\"mw-editsection-bracket\">[</span><a href=\"/w/index.php?title=Jonas_Salk&amp;action=edit&amp;section=4\" title=\"Editar sección: La vacuna Salk\">editar</a><span class=\"mw-editsection-bracket\">]</span></span></h2>\n",
              "<div class=\"thumb tleft\"><div class=\"thumbinner\" style=\"width:222px;\"><a class=\"image\" href=\"/wiki/Archivo:Jonas_Salk_1988.jpg\"><img alt=\"\" class=\"thumbimage\" data-file-height=\"1788\" data-file-width=\"1503\" decoding=\"async\" height=\"262\" src=\"//upload.wikimedia.org/wikipedia/commons/thumb/1/13/Jonas_Salk_1988.jpg/220px-Jonas_Salk_1988.jpg\" srcset=\"//upload.wikimedia.org/wikipedia/commons/thumb/1/13/Jonas_Salk_1988.jpg/330px-Jonas_Salk_1988.jpg 1.5x, //upload.wikimedia.org/wikipedia/commons/thumb/1/13/Jonas_Salk_1988.jpg/440px-Jonas_Salk_1988.jpg 2x\" width=\"220\"/></a> <div class=\"thumbcaption\"><div class=\"magnify\"><a class=\"internal\" href=\"/wiki/Archivo:Jonas_Salk_1988.jpg\" title=\"Aumentar\"></a></div>Jonas Salk en 1988.</div></div></div>\n",
              "<p>La vacuna llamada <i>Salk</i> fue una de las primeras vacunas eficaces para la inmunización contra un <a href=\"/wiki/Virus\" title=\"Virus\">virus</a> en general. Fue fundamental en la campaña mundial de erradicación de la <a href=\"/wiki/Poliomielitis\" title=\"Poliomielitis\">polio</a>, que era por entonces una de las enfermedades más letales, sobre todo en los niños. La vacuna <i>Salk</i> se basa en el principio del virus muerto. Eso significa que Salk inyecta una forma muerta del virus de la polio al paciente, lo que posibilita que el cuerpo humano desarrolle inmunidad contra éste, sin caer gravemente enfermo. Una vez inmunizado hacia esa forma del virus, el cuerpo queda también inmunizado contra la forma más virulenta del propio virus. Jonas Salk se negó a patentar la vacuna. En <a href=\"/wiki/1961\" title=\"1961\">1961</a>, <a href=\"/wiki/Albert_Bruce_Sabin\" title=\"Albert Bruce Sabin\">Albert Bruce Sabin</a> desarrollará una vacuna administrable por vía oral, que sustituyó a la de Salk, y en la que se utilizaron virus debilitados.\n",
              "</p><p><br/>\n",
              "</p>\n",
              "<h2><span id=\"V.C3.A9ase_tambi.C3.A9n\"></span><span class=\"mw-headline\" id=\"Véase_también\">Véase también</span><span class=\"mw-editsection\"><span class=\"mw-editsection-bracket\">[</span><a href=\"/w/index.php?title=Jonas_Salk&amp;action=edit&amp;section=5\" title=\"Editar sección: Véase también\">editar</a><span class=\"mw-editsection-bracket\">]</span></span></h2>\n",
              "<ul><li><a href=\"/wiki/Vacuna_contra_la_poliomielitis\" title=\"Vacuna contra la poliomielitis\">Vacuna contra la poliomielitis</a></li></ul>\n",
              "<h2><span class=\"mw-headline\" id=\"Referencias\">Referencias</span><span class=\"mw-editsection\"><span class=\"mw-editsection-bracket\">[</span><a href=\"/w/index.php?title=Jonas_Salk&amp;action=edit&amp;section=6\" title=\"Editar sección: Referencias\">editar</a><span class=\"mw-editsection-bracket\">]</span></span></h2>\n",
              "<div class=\"listaref\" style=\"list-style-type: decimal;\"><ol class=\"references\">\n",
              "<li id=\"cite_note-pbs.org-1\"><span class=\"mw-cite-backlink\"><a href=\"#cite_ref-pbs.org_1-0\">↑</a></span> <span class=\"reference-text\"><span class=\"citation web\"><a class=\"external text\" href=\"https://www.pbs.org/wgbh/aso/databank/entries/dm52sa.html\" rel=\"nofollow\">«A Science Odyssey: People and Discoveries: Salk produces polio vaccine»</a>. <i>www.pbs.org</i><span class=\"reference-accessdate\">. Consultado el 3 de marzo de 2016</span>.</span><span class=\"Z3988\" title=\"ctx_ver=Z39.88-2004&amp;rfr_id=info%3Asid%2Fes.wikipedia.org%3AJonas+Salk&amp;rft.atitle=A+Science+Odyssey%3A+People+and+Discoveries%3A+Salk+produces+polio+vaccine&amp;rft.genre=article&amp;rft.jtitle=www.pbs.org&amp;rft_id=https%3A%2F%2Fwww.pbs.org%2Fwgbh%2Faso%2Fdatabank%2Fentries%2Fdm52sa.html&amp;rft_val_fmt=info%3Aofi%2Ffmt%3Akev%3Amtx%3Ajournal\"><span style=\"display:none;\"> </span></span></span>\n",
              "</li>\n",
              "<li id=\"cite_note-2\"><span class=\"mw-cite-backlink\"><a href=\"#cite_ref-2\">↑</a></span> <span class=\"reference-text\"><span class=\"citation noticia\"><a class=\"external text\" href=\"https://www.salk.edu/about/history-of-salk/jonas-salk/\" rel=\"nofollow\">«About Jonas Salk - Salk Institute for Biological Studies»</a>. <i>Salk Institute for Biological Studies</i> <span style=\"color:#555;\">(en inglés estadounidense)</span> (La Jolla, California)<span class=\"reference-accessdate\">. Consultado el 23 de octubre de 2018</span>.</span><span class=\"Z3988\" title=\"ctx_ver=Z39.88-2004&amp;rfr_id=info%3Asid%2Fes.wikipedia.org%3AJonas+Salk&amp;rft.atitle=About+Jonas+Salk+-+Salk+Institute+for+Biological+Studies&amp;rft.genre=article&amp;rft.jtitle=Salk+Institute+for+Biological+Studies&amp;rft.place=La+Jolla%2C+California&amp;rft_id=https%3A%2F%2Fwww.salk.edu%2Fabout%2Fhistory-of-salk%2Fjonas-salk%2F&amp;rft_val_fmt=info%3Aofi%2Ffmt%3Akev%3Amtx%3Ajournal\"><span style=\"display:none;\"> </span></span></span>\n",
              "</li>\n",
              "<li id=\"cite_note-Zamula-3\"><span class=\"mw-cite-backlink\">↑ <a href=\"#cite_ref-Zamula_3-0\"><sup><i><b>a</b></i></sup></a> <a href=\"#cite_ref-Zamula_3-1\"><sup><i><b>b</b></i></sup></a></span> <span class=\"reference-text\">Zamula E (1991). <i>\"A New Challenge for Former Polio Patients.\" </i>FDA Consumer 25 (5): 21–5. <a class=\"external text\" href=\"http://www.fda.gov/bbs/topics/CONSUMER/CON00006.html\" rel=\"nofollow\">FDA.gov</a>, citado en <a href=\"/wiki/Poliomielitis\" title=\"Poliomielitis\">poliomielitis</a> visto 14 de noviembre de 2009].</span>\n",
              "</li>\n",
              "<li id=\"cite_note-Rose-4\"><span class=\"mw-cite-backlink\"><a href=\"#cite_ref-Rose_4-0\">↑</a></span> <span class=\"reference-text\">Rose DR (2004). \"Fact Sheet - Polio Vaccine Field Trial of 1954\". March of Dimes Archives. 11 de febrero de 2004. Consultado el 27 de marzo de 2010.</span>\n",
              "</li>\n",
              "<li id=\"cite_note-5\"><span class=\"mw-cite-backlink\"><a href=\"#cite_ref-5\">↑</a></span> <span class=\"reference-text\"> The Economist (14 de agosto 1999), p. 11. Consultado el 27 de marzo de 2010.</span>\n",
              "</li>\n",
              "<li id=\"cite_note-6\"><span class=\"mw-cite-backlink\"><a href=\"#cite_ref-6\">↑</a></span> <span class=\"reference-text\"><span class=\"citation noticia\" id=\"CITAREFJohnson25_de_noviembre_de_1990\">Johnson, George (25 de noviembre de 1990). <a class=\"external text\" href=\"https://www.nytimes.com/1990/11/25/magazine/once-again-a-man-with-a-mission.html?pagewanted=all\" rel=\"nofollow\">«Once Again, A Man With A Mission»</a>. <i>The New York Times</i><span class=\"reference-accessdate\">. Consultado el 5 de agosto de 2011</span>.</span><span class=\"Z3988\" title=\"ctx_ver=Z39.88-2004&amp;rfr_id=info%3Asid%2Fes.wikipedia.org%3AJonas+Salk&amp;rft.atitle=Once+Again%2C+A+Man+With+A+Mission&amp;rft.au=Johnson%2C+George&amp;rft.aufirst=George&amp;rft.aulast=Johnson&amp;rft.date=25+de+noviembre+de+1990&amp;rft.genre=article&amp;rft.jtitle=The+New+York+Times&amp;rft_id=https%3A%2F%2Fwww.nytimes.com%2F1990%2F11%2F25%2Fmagazine%2Fonce-again-a-man-with-a-mission.html%3Fpagewanted%3Dall&amp;rft_val_fmt=info%3Aofi%2Ffmt%3Akev%3Amtx%3Ajournal\"><span style=\"display:none;\"> </span></span></span>\n",
              "</li>\n",
              "<li id=\"cite_note-usa-7\"><span class=\"mw-cite-backlink\"><a href=\"#cite_ref-usa_7-0\">↑</a></span> <span class=\"reference-text\">Jacobs, Charlotte DeCroes. <a class=\"external text\" href=\"https://www.usatoday.com/story/opinion/2015/08/04/vaccinations-controversial-america-polio-health/31052179/\" rel=\"nofollow\">\"Vaccinations have always been controversial in America: Column\"</a>, <i>USA Today</i>, 4 de agosto de 2015</span>\n",
              "</li>\n",
              "<li id=\"cite_note-Bookchin-8\"><span class=\"mw-cite-backlink\"><a href=\"#cite_ref-Bookchin_8-0\">↑</a></span> <span class=\"reference-text\">Bookchin, Debbie, y Schumacher, Jim. <i>The Virus and the Vaccine</i>, Macmillan (2004)</span>\n",
              "</li>\n",
              "<li id=\"cite_note-Oshinsky-9\"><span class=\"mw-cite-backlink\"><a href=\"#cite_ref-Oshinsky_9-0\">↑</a></span> <span class=\"reference-text\">Oshinsky, David M. <i>Polio: An American Story</i>, Oxford Univ. Press (2006)</span>\n",
              "</li>\n",
              "</ol></div>\n",
              "<h2><span class=\"mw-headline\" id=\"Enlaces_externos\">Enlaces externos</span><span class=\"mw-editsection\"><span class=\"mw-editsection-bracket\">[</span><a href=\"/w/index.php?title=Jonas_Salk&amp;action=edit&amp;section=7\" title=\"Editar sección: Enlaces externos\">editar</a><span class=\"mw-editsection-bracket\">]</span></span></h2>\n",
              "<ul><li><img alt=\"\" data-file-height=\"330\" data-file-width=\"272\" decoding=\"async\" height=\"15\" src=\"//upload.wikimedia.org/wikipedia/commons/thumb/1/13/Spanish_Wikiquote.SVG/12px-Spanish_Wikiquote.SVG.png\" srcset=\"//upload.wikimedia.org/wikipedia/commons/thumb/1/13/Spanish_Wikiquote.SVG/19px-Spanish_Wikiquote.SVG.png 1.5x, //upload.wikimedia.org/wikipedia/commons/thumb/1/13/Spanish_Wikiquote.SVG/25px-Spanish_Wikiquote.SVG.png 2x\" width=\"12\"/> <a href=\"/wiki/Wikiquote\" title=\"Wikiquote\">Wikiquote</a> alberga frases célebres de o sobre <b><a class=\"extiw\" href=\"https://es.wikiquote.org/wiki/Jonas_Salk\" title=\"q:Jonas Salk\">Jonas Salk</a></b>.</li>\n",
              "<li><img alt=\"\" data-file-height=\"1376\" data-file-width=\"1024\" decoding=\"async\" height=\"20\" src=\"//upload.wikimedia.org/wikipedia/commons/thumb/4/4a/Commons-logo.svg/15px-Commons-logo.svg.png\" srcset=\"//upload.wikimedia.org/wikipedia/commons/thumb/4/4a/Commons-logo.svg/23px-Commons-logo.svg.png 1.5x, //upload.wikimedia.org/wikipedia/commons/thumb/4/4a/Commons-logo.svg/30px-Commons-logo.svg.png 2x\" width=\"15\"/> <a href=\"/wiki/Wikimedia_Commons\" title=\"Wikimedia Commons\">Wikimedia Commons</a> alberga una categoría multimedia sobre <b><a class=\"extiw\" href=\"https://commons.wikimedia.org/wiki/Category:Jonas_Salk\" title=\"commons:Category:Jonas Salk\">Jonas Salk</a></b>.</li>\n",
              "<li><a class=\"external text\" href=\"https://www.pbs.org/wgbh/americanexperience/films/polio/player/\" rel=\"nofollow\"><i>The American Experience: The Polio Crusade</i>, video, 1 h por PBS</a></li>\n",
              "<li><a class=\"external text\" href=\"http://www.time.com/time/time100/scientist/profile/salk.html\" rel=\"nofollow\">Las cien personas más importantes del siglo, según la revista <i>Time</i></a></li>\n",
              "<li><a class=\"external text\" href=\"http://www.jonas-salk.org/\" rel=\"nofollow\">Jonas Salk Trust</a></li>\n",
              "<li><a class=\"external text\" href=\"https://web.archive.org/web/20050305225755/http://www.salk.edu/jonassalk/\" rel=\"nofollow\">Salk Institute for Biological Studies</a></li>\n",
              "<li><a class=\"external text\" href=\"https://web.archive.org/web/20080509073614/http://www.eisenhower.archives.gov/dl/salk/salkdocuments.html\" rel=\"nofollow\">Documentos sobre Jonas Salk y su vacuna contra la polio</a>, Dwight D. Eisenhower Presidential Library</li>\n",
              "<li><a class=\"external text\" href=\"http://www.archive.org/movies/details-db.php?collection=open_mind&amp;collectionid=openmind_ep1234\" rel=\"nofollow\">1985 Entrevista de Open Mind con Richard D. Heffer: <i>Man Evolving...</i></a></li>\n",
              "<li><a class=\"external text\" href=\"https://web.archive.org/web/20050215175257/http://www.polio.pitt.edu/\" rel=\"nofollow\">Sitio de Jonas Salk de la Universidad de Pittsburgh Jonas Salk</a></li>\n",
              "<li><a class=\"external text\" href=\"http://www.post-gazette.com/pg/05094/482468.stm\" rel=\"nofollow\"><i>Pittsburgh Post-Gazette</i>: noticia sobre Jonas Salk y su cura para la polio, cincuenta años después</a></li>\n",
              "<li><a class=\"external text\" href=\"http://www.salkschool.org\" rel=\"nofollow\">The Salk School of Science (Nueva York)</a></li>\n",
              "<li><a class=\"external text\" href=\"http://patft.uspto.gov/netacgi/nph-Parser?Sect2=PTO1&amp;Sect2=HITOFF&amp;p=1&amp;u=%2Fnetahtml%2Fsearch-bool.html&amp;r=1&amp;f=G&amp;l=50&amp;d=PALL&amp;RefSrch=yes&amp;Query=PN%2F5256767\" rel=\"nofollow\">Patente</a> estadounidense: 5.256.767: vacuna contra el sida</li></ul>\n",
              "<style data-mw-deduplicate=\"TemplateStyles:r118746331\">.mw-parser-output .mw-authority-control{margin-top:1.5em}.mw-parser-output .mw-authority-control .navbox hr:last-child{display:none}.mw-parser-output .mw-authority-control .navbox+.mw-mf-linked-projects{display:none}.mw-parser-output .mw-authority-control .mw-mf-linked-projects{display:flex;padding:0.5em;border:1px solid #c8ccd1;background-color:#eaecf0;color:#222222}.mw-parser-output .mw-authority-control .mw-mf-linked-projects ul li{margin-bottom:0}</style><div class=\"mw-authority-control\"><div aria-label=\"Navbox\" class=\"navbox\" role=\"navigation\" style=\"width: inherit;padding:3px\"><table class=\"hlist navbox-inner\" style=\"border-spacing:0;background:transparent;color:inherit\"><tbody><tr><th class=\"navbox-group\" scope=\"row\" style=\"width: 12%; text-align:center;\"><a href=\"/wiki/Control_de_autoridades\" title=\"Control de autoridades\">Control de autoridades</a></th><td class=\"navbox-list navbox-odd\" style=\"text-align:left;border-left-width:2px;border-left-style:solid;width:100%;padding:0px\"><div style=\"padding:0em 0.25em\">\n",
              "<ul><li><b>Proyectos Wikimedia</b></li>\n",
              "<li><span style=\"white-space:nowrap;\"><a href=\"/wiki/Wikidata\" title=\"Wikidata\"><img alt=\"Wd\" data-file-height=\"590\" data-file-width=\"1050\" decoding=\"async\" height=\"11\" src=\"//upload.wikimedia.org/wikipedia/commons/thumb/f/ff/Wikidata-logo.svg/20px-Wikidata-logo.svg.png\" srcset=\"//upload.wikimedia.org/wikipedia/commons/thumb/f/ff/Wikidata-logo.svg/30px-Wikidata-logo.svg.png 1.5x, //upload.wikimedia.org/wikipedia/commons/thumb/f/ff/Wikidata-logo.svg/40px-Wikidata-logo.svg.png 2x\" width=\"20\"/></a> Datos:</span> <span class=\"uid\"><a class=\"extiw\" href=\"https://www.wikidata.org/wiki/Q200101\" title=\"wikidata:Q200101\">Q200101</a></span></li>\n",
              "<li><span style=\"white-space:nowrap;\"><a href=\"/wiki/Wikimedia_Commons\" title=\"Commonscat\"><img alt=\"Commonscat\" data-file-height=\"1376\" data-file-width=\"1024\" decoding=\"async\" height=\"20\" src=\"//upload.wikimedia.org/wikipedia/commons/thumb/4/4a/Commons-logo.svg/15px-Commons-logo.svg.png\" srcset=\"//upload.wikimedia.org/wikipedia/commons/thumb/4/4a/Commons-logo.svg/23px-Commons-logo.svg.png 1.5x, //upload.wikimedia.org/wikipedia/commons/thumb/4/4a/Commons-logo.svg/30px-Commons-logo.svg.png 2x\" width=\"15\"/></a> Multimedia:</span> <span class=\"uid\"><span class=\"plainlinks\"><a class=\"external text\" href=\"https://commons.wikimedia.org/wiki/Category:Jonas_Salk\">Jonas Salk</a></span></span></li>\n",
              "<li><span style=\"white-space:nowrap;\"><a href=\"/wiki/Wikiquote\" title=\"Wikiquote\"><img alt=\"Wikiquote\" data-file-height=\"355\" data-file-width=\"300\" decoding=\"async\" height=\"18\" src=\"//upload.wikimedia.org/wikipedia/commons/thumb/f/fa/Wikiquote-logo.svg/15px-Wikiquote-logo.svg.png\" srcset=\"//upload.wikimedia.org/wikipedia/commons/thumb/f/fa/Wikiquote-logo.svg/23px-Wikiquote-logo.svg.png 1.5x, //upload.wikimedia.org/wikipedia/commons/thumb/f/fa/Wikiquote-logo.svg/30px-Wikiquote-logo.svg.png 2x\" width=\"15\"/></a> Citas célebres:</span> <span class=\"uid\"><a class=\"extiw\" href=\"https://es.wikiquote.org/wiki/Jonas_Salk\" title=\"q:Jonas Salk\">Jonas Salk</a></span></li></ul>\n",
              "<hr/>\n",
              "<ul><li><b>Identificadores</b></li>\n",
              "<li><a class=\"external text\" href=\"//www.worldcat.org/identities/containsVIAFID/7396814\" rel=\"nofollow\">WorldCat</a></li>\n",
              "<li><span style=\"white-space:nowrap;\"><a class=\"mw-redirect\" href=\"/wiki/Virtual_International_Authority_File\" title=\"Virtual International Authority File\">VIAF</a>:</span> <span class=\"uid\"><a class=\"external text\" href=\"https://viaf.org/viaf/7396814\" rel=\"nofollow\">7396814</a></span></li>\n",
              "<li><span style=\"white-space:nowrap;\"><a href=\"/wiki/International_Standard_Name_Identifier\" title=\"International Standard Name Identifier\">ISNI</a>:</span> <span class=\"uid\"><a class=\"external text\" href=\"https://isni.oclc.org/xslt/DB=1.2//CMD?ACT=SRCH&amp;IKT=8006&amp;TRM=ISN%3A0000%200001%200866%205179\" rel=\"nofollow\">0000 0001 0866 5179</a></span></li>\n",
              "<li><span style=\"white-space:nowrap;\"><a class=\"mw-redirect\" href=\"/wiki/Biblioth%C3%A8que_nationale_de_France\" title=\"Bibliothèque nationale de France\">BNF</a>:</span> <span class=\"uid\"><a class=\"external text\" href=\"https://catalogue.bnf.fr/ark:/12148/cb14064550v\" rel=\"nofollow\">14064550v</a> <a class=\"external text\" href=\"http://data.bnf.fr/ark:/12148/cb14064550v\" rel=\"nofollow\">(data)</a></span></li>\n",
              "<li><span style=\"white-space:nowrap;\"><a class=\"mw-redirect\" href=\"/wiki/Integrated_Authority_File\" title=\"Integrated Authority File\">GND</a>:</span> <span class=\"uid\"><a class=\"external text\" href=\"https://d-nb.info/gnd/130653802\" rel=\"nofollow\">130653802</a></span></li>\n",
              "<li><span style=\"white-space:nowrap;\"><a href=\"/wiki/Library_of_Congress_Control_Number\" title=\"Library of Congress Control Number\">LCCN</a>:</span> <span class=\"uid\"><a class=\"external text\" href=\"https://id.loc.gov/authorities/n50017557\" rel=\"nofollow\">n50017557</a></span></li>\n",
              "<li><span style=\"white-space:nowrap;\"><a class=\"mw-redirect\" href=\"/wiki/National_Library_of_the_Czech_Republic\" title=\"National Library of the Czech Republic\">NKC</a>:</span> <span class=\"uid\"><a class=\"external text\" href=\"https://aleph.nkp.cz/F/?func=find-c&amp;local_base=aut&amp;ccl_term=ica=jcu2013799345\" rel=\"nofollow\">jcu2013799345</a></span></li>\n",
              "<li><span style=\"white-space:nowrap;\"><a class=\"extiw\" href=\"https://www.wikidata.org/wiki/Q29861311\" title=\"d:Q29861311\">SNAC</a>:</span> <span class=\"uid\"><a class=\"external text\" href=\"https://snaccooperative.org/ark:/99166/w67n0xz8\" rel=\"nofollow\">w67n0xz8</a></span></li>\n",
              "<li><span style=\"white-space:nowrap;\"><a href=\"/wiki/Syst%C3%A8me_universitaire_de_documentation\" title=\"Système universitaire de documentation\">SUDOC</a>:</span> <span class=\"uid\"><a class=\"external text\" href=\"https://www.idref.fr/027120082\" rel=\"nofollow\">027120082</a></span></li>\n",
              "<li><span style=\"white-space:nowrap;\"><a href=\"/wiki/Union_List_of_Artist_Names\" title=\"Union List of Artist Names\">ULAN</a>:</span> <span class=\"uid\"><a class=\"external text\" href=\"https://www.getty.edu/vow/ULANFullDisplay?find=&amp;role=&amp;nation=&amp;subjectid=500235742\" rel=\"nofollow\">500235742</a></span></li>\n",
              "<li><span style=\"white-space:nowrap;\"><a href=\"/wiki/Open_Library\" title=\"Open Library\">Open Library</a>:</span> <span class=\"uid\"><a class=\"external text\" href=\"https://openlibrary.org/works/OL1235960A\" rel=\"nofollow\">OL1235960A</a></span></li>\n",
              "<li><b>Diccionarios y enciclopedias</b></li>\n",
              "<li><span style=\"white-space:nowrap;\"><a href=\"/wiki/Enciclopedia_Brit%C3%A1nica\" title=\"Enciclopedia Británica\">Britannica</a>:</span> <span class=\"uid\"><a class=\"external text\" href=\"https://www.britannica.com/biography/Jonas-Salk\" rel=\"nofollow\">url</a></span></li></ul>\n",
              "</div></td></tr></tbody></table></div><div class=\"mw-mf-linked-projects hlist\">\n",
              "<ul><li><span style=\"white-space:nowrap;\"><a href=\"/wiki/Wikidata\" title=\"Wikidata\"><img alt=\"Wd\" data-file-height=\"590\" data-file-width=\"1050\" decoding=\"async\" height=\"11\" src=\"//upload.wikimedia.org/wikipedia/commons/thumb/f/ff/Wikidata-logo.svg/20px-Wikidata-logo.svg.png\" srcset=\"//upload.wikimedia.org/wikipedia/commons/thumb/f/ff/Wikidata-logo.svg/30px-Wikidata-logo.svg.png 1.5x, //upload.wikimedia.org/wikipedia/commons/thumb/f/ff/Wikidata-logo.svg/40px-Wikidata-logo.svg.png 2x\" width=\"20\"/></a> Datos:</span> <span class=\"uid\"><a class=\"extiw\" href=\"https://www.wikidata.org/wiki/Q200101\" title=\"wikidata:Q200101\">Q200101</a></span></li>\n",
              "<li><span style=\"white-space:nowrap;\"><a href=\"/wiki/Wikimedia_Commons\" title=\"Commonscat\"><img alt=\"Commonscat\" data-file-height=\"1376\" data-file-width=\"1024\" decoding=\"async\" height=\"20\" src=\"//upload.wikimedia.org/wikipedia/commons/thumb/4/4a/Commons-logo.svg/15px-Commons-logo.svg.png\" srcset=\"//upload.wikimedia.org/wikipedia/commons/thumb/4/4a/Commons-logo.svg/23px-Commons-logo.svg.png 1.5x, //upload.wikimedia.org/wikipedia/commons/thumb/4/4a/Commons-logo.svg/30px-Commons-logo.svg.png 2x\" width=\"15\"/></a> Multimedia:</span> <span class=\"uid\"><span class=\"plainlinks\"><a class=\"external text\" href=\"https://commons.wikimedia.org/wiki/Category:Jonas_Salk\">Jonas Salk</a></span></span></li>\n",
              "<li><span style=\"white-space:nowrap;\"><a href=\"/wiki/Wikiquote\" title=\"Wikiquote\"><img alt=\"Wikiquote\" data-file-height=\"355\" data-file-width=\"300\" decoding=\"async\" height=\"18\" src=\"//upload.wikimedia.org/wikipedia/commons/thumb/f/fa/Wikiquote-logo.svg/15px-Wikiquote-logo.svg.png\" srcset=\"//upload.wikimedia.org/wikipedia/commons/thumb/f/fa/Wikiquote-logo.svg/23px-Wikiquote-logo.svg.png 1.5x, //upload.wikimedia.org/wikipedia/commons/thumb/f/fa/Wikiquote-logo.svg/30px-Wikiquote-logo.svg.png 2x\" width=\"15\"/></a> Citas célebres:</span> <span class=\"uid\"><a class=\"extiw\" href=\"https://es.wikiquote.org/wiki/Jonas_Salk\" title=\"q:Jonas Salk\">Jonas Salk</a></span></li></ul>\n",
              "</div></div>\n",
              "<!-- \n",
              "NewPP limit report\n",
              "Parsed by mw1320\n",
              "Cached time: 20210125083732\n",
              "Cache expiry: 2592000\n",
              "Dynamic content: false\n",
              "Complications: []\n",
              "CPU time usage: 0.488 seconds\n",
              "Real time usage: 0.637 seconds\n",
              "Preprocessor visited node count: 865/1000000\n",
              "Post‐expand include size: 27485/2097152 bytes\n",
              "Template argument size: 372/2097152 bytes\n",
              "Highest expansion depth: 10/40\n",
              "Expensive parser function count: 12/500\n",
              "Unstrip recursion depth: 0/20\n",
              "Unstrip post‐expand size: 7960/5000000 bytes\n",
              "Lua time usage: 0.330/10.000 seconds\n",
              "Lua memory usage: 8085443/52428800 bytes\n",
              "Number of Wikibase entities loaded: 13/400\n",
              "-->\n",
              "<!--\n",
              "Transclusion expansion time report (%,ms,calls,template)\n",
              "100.00%  534.059      1 -total\n",
              " 44.56%  237.951      1 Plantilla:NF\n",
              " 29.11%  155.486      1 Plantilla:Ficha_de_persona\n",
              " 10.88%   58.113      1 Plantilla:Listaref\n",
              "  9.48%   50.646      1 Plantilla:Commonscat\n",
              "  6.94%   37.076      1 Plantilla:Propiedad\n",
              "  6.52%   34.822      1 Plantilla:Cita_web\n",
              "  3.26%   17.415      1 Plantilla:Wikipedia_Grabada\n",
              "  2.04%   10.915      1 Plantilla:Icono_en_título\n",
              "  1.93%   10.308      2 Plantilla:Cita_noticia\n",
              "-->\n",
              "<!-- Saved in parser cache with key eswiki:pcache:idhash:52957-0!canonical and timestamp 20210125083731 and revision id 131855283. Serialized with JSON.\n",
              " -->\n",
              "</div><noscript><img alt=\"\" height=\"1\" src=\"//es.wikipedia.org/wiki/Special:CentralAutoLogin/start?type=1x1\" style=\"border: none; position: absolute;\" title=\"\" width=\"1\"/></noscript>\n",
              "<div class=\"printfooter\">Obtenido de «<a dir=\"ltr\" href=\"https://es.wikipedia.org/w/index.php?title=Jonas_Salk&amp;oldid=131855283\">https://es.wikipedia.org/w/index.php?title=Jonas_Salk&amp;oldid=131855283</a>»</div></div>\n",
              "<div class=\"catlinks\" data-mw=\"interface\" id=\"catlinks\"><div class=\"mw-normal-catlinks\" id=\"mw-normal-catlinks\"><a href=\"/wiki/Especial:Categor%C3%ADas\" title=\"Especial:Categorías\">Categorías</a>: <ul><li><a href=\"/wiki/Categor%C3%ADa:Hombres\" title=\"Categoría:Hombres\">Hombres</a></li><li><a href=\"/wiki/Categor%C3%ADa:Nacidos_en_1914\" title=\"Categoría:Nacidos en 1914\">Nacidos en 1914</a></li><li><a href=\"/wiki/Categor%C3%ADa:Fallecidos_en_1995\" title=\"Categoría:Fallecidos en 1995\">Fallecidos en 1995</a></li><li><a href=\"/wiki/Categor%C3%ADa:M%C3%A9dicos_de_Estados_Unidos\" title=\"Categoría:Médicos de Estados Unidos\">Médicos de Estados Unidos</a></li><li><a href=\"/wiki/Categor%C3%ADa:Vir%C3%B3logos_de_Estados_Unidos\" title=\"Categoría:Virólogos de Estados Unidos\">Virólogos de Estados Unidos</a></li><li><a href=\"/wiki/Categor%C3%ADa:Epidemi%C3%B3logos_de_Estados_Unidos\" title=\"Categoría:Epidemiólogos de Estados Unidos\">Epidemiólogos de Estados Unidos</a></li><li><a href=\"/wiki/Categor%C3%ADa:Inmun%C3%B3logos_de_Estados_Unidos\" title=\"Categoría:Inmunólogos de Estados Unidos\">Inmunólogos de Estados Unidos</a></li><li><a href=\"/wiki/Categor%C3%ADa:Cient%C3%ADficos_de_Estados_Unidos\" title=\"Categoría:Científicos de Estados Unidos\">Científicos de Estados Unidos</a></li><li><a href=\"/wiki/Categor%C3%ADa:Inventores_de_Estados_Unidos\" title=\"Categoría:Inventores de Estados Unidos\">Inventores de Estados Unidos</a></li><li><a href=\"/wiki/Categor%C3%ADa:Humanistas_de_Estados_Unidos\" title=\"Categoría:Humanistas de Estados Unidos\">Humanistas de Estados Unidos</a></li><li><a href=\"/wiki/Categor%C3%ADa:Alumnado_de_la_Universidad_de_Nueva_York\" title=\"Categoría:Alumnado de la Universidad de Nueva York\">Alumnado de la Universidad de Nueva York</a></li><li><a href=\"/wiki/Categor%C3%ADa:Alumnado_de_la_Universidad_de_M%C3%ADchigan\" title=\"Categoría:Alumnado de la Universidad de Míchigan\">Alumnado de la Universidad de Míchigan</a></li><li><a href=\"/wiki/Categor%C3%ADa:Profesores_de_la_Universidad_de_Pittsburgh\" title=\"Categoría:Profesores de la Universidad de Pittsburgh\">Profesores de la Universidad de Pittsburgh</a></li><li><a href=\"/wiki/Categor%C3%ADa:Poliomielitis\" title=\"Categoría:Poliomielitis\">Poliomielitis</a></li><li><a href=\"/wiki/Categor%C3%ADa:Doctores_honorarios_de_la_Universidad_Hebrea_de_Jerusal%C3%A9n\" title=\"Categoría:Doctores honorarios de la Universidad Hebrea de Jerusalén\">Doctores honorarios de la Universidad Hebrea de Jerusalén</a></li><li><a href=\"/wiki/Categor%C3%ADa:Graduados_honorarios_de_la_Universidad_de_Leeds\" title=\"Categoría:Graduados honorarios de la Universidad de Leeds\">Graduados honorarios de la Universidad de Leeds</a></li><li><a href=\"/wiki/Categor%C3%ADa:Medalla_de_oro_del_Congreso\" title=\"Categoría:Medalla de oro del Congreso\">Medalla de oro del Congreso</a></li><li><a href=\"/wiki/Categor%C3%ADa:Medalla_Presidencial_de_la_Libertad\" title=\"Categoría:Medalla Presidencial de la Libertad\">Medalla Presidencial de la Libertad</a></li><li><a href=\"/wiki/Categor%C3%ADa:Premio_Lasker\" title=\"Categoría:Premio Lasker\">Premio Lasker</a></li><li><a href=\"/wiki/Categor%C3%ADa:Jud%C3%ADos_de_Estados_Unidos\" title=\"Categoría:Judíos de Estados Unidos\">Judíos de Estados Unidos</a></li><li><a href=\"/wiki/Categor%C3%ADa:Neoyorquinos\" title=\"Categoría:Neoyorquinos\">Neoyorquinos</a></li><li><a href=\"/wiki/Categor%C3%ADa:Sandieguinos\" title=\"Categoría:Sandieguinos\">Sandieguinos</a></li></ul></div><div class=\"mw-hidden-catlinks mw-hidden-cats-hidden\" id=\"mw-hidden-catlinks\">Categorías ocultas: <ul><li><a href=\"/wiki/Categor%C3%ADa:Wikipedia:Art%C3%ADculos_grabados\" title=\"Categoría:Wikipedia:Artículos grabados\">Wikipedia:Artículos grabados</a></li><li><a href=\"/wiki/Categor%C3%ADa:Wikipedia:Art%C3%ADculos_con_identificadores_VIAF\" title=\"Categoría:Wikipedia:Artículos con identificadores VIAF\">Wikipedia:Artículos con identificadores VIAF</a></li><li><a href=\"/wiki/Categor%C3%ADa:Wikipedia:Art%C3%ADculos_con_identificadores_ISNI\" title=\"Categoría:Wikipedia:Artículos con identificadores ISNI\">Wikipedia:Artículos con identificadores ISNI</a></li><li><a href=\"/wiki/Categor%C3%ADa:Wikipedia:Art%C3%ADculos_con_identificadores_BNF\" title=\"Categoría:Wikipedia:Artículos con identificadores BNF\">Wikipedia:Artículos con identificadores BNF</a></li><li><a href=\"/wiki/Categor%C3%ADa:Wikipedia:Art%C3%ADculos_con_identificadores_GND\" title=\"Categoría:Wikipedia:Artículos con identificadores GND\">Wikipedia:Artículos con identificadores GND</a></li><li><a href=\"/wiki/Categor%C3%ADa:Wikipedia:Art%C3%ADculos_con_identificadores_LCCN\" title=\"Categoría:Wikipedia:Artículos con identificadores LCCN\">Wikipedia:Artículos con identificadores LCCN</a></li><li><a href=\"/wiki/Categor%C3%ADa:Wikipedia:Art%C3%ADculos_con_identificadores_SNAC\" title=\"Categoría:Wikipedia:Artículos con identificadores SNAC\">Wikipedia:Artículos con identificadores SNAC</a></li><li><a href=\"/wiki/Categor%C3%ADa:Wikipedia:Art%C3%ADculos_con_identificadores_ULAN\" title=\"Categoría:Wikipedia:Artículos con identificadores ULAN\">Wikipedia:Artículos con identificadores ULAN</a></li><li><a href=\"/wiki/Categor%C3%ADa:Wikipedia:Art%C3%ADculos_con_identificadores_Open_Library\" title=\"Categoría:Wikipedia:Artículos con identificadores Open Library\">Wikipedia:Artículos con identificadores Open Library</a></li><li><a href=\"/wiki/Categor%C3%ADa:Wikipedia:Control_de_autoridades_con_14_elementos\" title=\"Categoría:Wikipedia:Control de autoridades con 14 elementos\">Wikipedia:Control de autoridades con 14 elementos</a></li></ul></div></div>\n",
              "</div>\n",
              "</div>\n",
              "<div id=\"mw-data-after-content\">\n",
              "<div class=\"read-more-container\"></div>\n",
              "</div>\n",
              "<div id=\"mw-navigation\">\n",
              "<h2>Menú de navegación</h2>\n",
              "<div id=\"mw-head\">\n",
              "<!-- Please do not use role attribute as CSS selector, it is deprecated. -->\n",
              "<nav aria-labelledby=\"p-personal-label\" class=\"mw-portlet mw-portlet-personal vector-menu\" id=\"p-personal\" role=\"navigation\">\n",
              "<h3 id=\"p-personal-label\">\n",
              "<span>Herramientas personales</span>\n",
              "</h3>\n",
              "<div class=\"vector-menu-content\">\n",
              "<ul class=\"vector-menu-content-list\"><li id=\"pt-anonuserpage\">No has accedido</li><li id=\"pt-anontalk\"><a accesskey=\"n\" href=\"/wiki/Especial:MiDiscusi%C3%B3n\" title=\"Discusión sobre ediciones hechas desde esta dirección IP [n]\">Discusión</a></li><li id=\"pt-anoncontribs\"><a accesskey=\"y\" href=\"/wiki/Especial:MisContribuciones\" title=\"Una lista de modificaciones hechas desde esta dirección IP [y]\">Contribuciones</a></li><li id=\"pt-createaccount\"><a href=\"/w/index.php?title=Especial:Crear_una_cuenta&amp;returnto=Jonas+Salk\" title=\"Te recomendamos crear una cuenta e iniciar sesión; sin embargo, no es obligatorio\">Crear una cuenta</a></li><li id=\"pt-login\"><a accesskey=\"o\" href=\"/w/index.php?title=Especial:Entrar&amp;returnto=Jonas+Salk\" title=\"Te recomendamos iniciar sesión, aunque no es obligatorio [o]\">Acceder</a></li></ul>\n",
              "</div>\n",
              "</nav>\n",
              "<div id=\"left-navigation\">\n",
              "<!-- Please do not use role attribute as CSS selector, it is deprecated. -->\n",
              "<nav aria-labelledby=\"p-namespaces-label\" class=\"mw-portlet mw-portlet-namespaces vector-menu vector-menu-tabs\" id=\"p-namespaces\" role=\"navigation\">\n",
              "<h3 id=\"p-namespaces-label\">\n",
              "<span>Espacios de nombres</span>\n",
              "</h3>\n",
              "<div class=\"vector-menu-content\">\n",
              "<ul class=\"vector-menu-content-list\"><li class=\"selected\" id=\"ca-nstab-main\"><a accesskey=\"c\" href=\"/wiki/Jonas_Salk\" title=\"Ver la página de contenido [c]\">Artículo</a></li><li id=\"ca-talk\"><a accesskey=\"t\" href=\"/wiki/Discusi%C3%B3n:Jonas_Salk\" rel=\"discussion\" title=\"Discusión acerca de la página [t]\">Discusión</a></li></ul>\n",
              "</div>\n",
              "</nav>\n",
              "<!-- Please do not use role attribute as CSS selector, it is deprecated. -->\n",
              "<nav aria-labelledby=\"p-variants-label\" class=\"mw-portlet mw-portlet-variants emptyPortlet vector-menu vector-menu-dropdown\" id=\"p-variants\" role=\"navigation\">\n",
              "<input aria-labelledby=\"p-variants-label\" class=\"vector-menu-checkbox\" type=\"checkbox\"/>\n",
              "<h3 id=\"p-variants-label\">\n",
              "<span>Variantes</span>\n",
              "</h3>\n",
              "<div class=\"vector-menu-content\">\n",
              "<ul class=\"vector-menu-content-list\"></ul>\n",
              "</div>\n",
              "</nav>\n",
              "</div>\n",
              "<div id=\"right-navigation\">\n",
              "<!-- Please do not use role attribute as CSS selector, it is deprecated. -->\n",
              "<nav aria-labelledby=\"p-views-label\" class=\"mw-portlet mw-portlet-views vector-menu vector-menu-tabs\" id=\"p-views\" role=\"navigation\">\n",
              "<h3 id=\"p-views-label\">\n",
              "<span>Vistas</span>\n",
              "</h3>\n",
              "<div class=\"vector-menu-content\">\n",
              "<ul class=\"vector-menu-content-list\"><li class=\"selected\" id=\"ca-view\"><a href=\"/wiki/Jonas_Salk\">Leer</a></li><li id=\"ca-edit\"><a accesskey=\"e\" href=\"/w/index.php?title=Jonas_Salk&amp;action=edit\" title=\"Editar esta página [e]\">Editar</a></li><li id=\"ca-history\"><a accesskey=\"h\" href=\"/w/index.php?title=Jonas_Salk&amp;action=history\" title=\"Versiones anteriores de esta página [h]\">Ver historial</a></li></ul>\n",
              "</div>\n",
              "</nav>\n",
              "<!-- Please do not use role attribute as CSS selector, it is deprecated. -->\n",
              "<nav aria-labelledby=\"p-cactions-label\" class=\"mw-portlet mw-portlet-cactions emptyPortlet vector-menu vector-menu-dropdown\" id=\"p-cactions\" role=\"navigation\">\n",
              "<input aria-labelledby=\"p-cactions-label\" class=\"vector-menu-checkbox\" type=\"checkbox\"/>\n",
              "<h3 id=\"p-cactions-label\">\n",
              "<span>Más</span>\n",
              "</h3>\n",
              "<div class=\"vector-menu-content\">\n",
              "<ul class=\"vector-menu-content-list\"></ul>\n",
              "</div>\n",
              "</nav>\n",
              "<div id=\"p-search\" role=\"search\">\n",
              "<h3>\n",
              "<label for=\"searchInput\">Buscar</label>\n",
              "</h3>\n",
              "<form action=\"/w/index.php\" id=\"searchform\">\n",
              "<div data-search-loc=\"header-navigation\" id=\"simpleSearch\">\n",
              "<input accesskey=\"f\" autocapitalize=\"sentences\" id=\"searchInput\" name=\"search\" placeholder=\"Buscar en Wikipedia\" title=\"Buscar en este wiki [f]\" type=\"search\"/>\n",
              "<input name=\"title\" type=\"hidden\" value=\"Especial:Buscar\"/>\n",
              "<input class=\"searchButton mw-fallbackSearchButton\" id=\"mw-searchButton\" name=\"fulltext\" title=\"Busca páginas con este texto.\" type=\"submit\" value=\"Buscar\"/>\n",
              "<input class=\"searchButton\" id=\"searchButton\" name=\"go\" title=\"Ir a la página con este nombre exacto si existe\" type=\"submit\" value=\"Ir\"/>\n",
              "</div>\n",
              "</form>\n",
              "</div>\n",
              "</div>\n",
              "</div>\n",
              "<div id=\"mw-panel\">\n",
              "<div id=\"p-logo\" role=\"banner\">\n",
              "<a class=\"mw-wiki-logo\" href=\"/wiki/Wikipedia:Portada\" title=\"Visitar la página principal\"></a>\n",
              "</div>\n",
              "<!-- Please do not use role attribute as CSS selector, it is deprecated. -->\n",
              "<nav aria-labelledby=\"p-navigation-label\" class=\"mw-portlet mw-portlet-navigation vector-menu vector-menu-portal portal\" id=\"p-navigation\" role=\"navigation\">\n",
              "<h3 id=\"p-navigation-label\">\n",
              "<span>Navegación</span>\n",
              "</h3>\n",
              "<div class=\"vector-menu-content\">\n",
              "<ul class=\"vector-menu-content-list\"><li id=\"n-mainpage-description\"><a accesskey=\"z\" href=\"/wiki/Wikipedia:Portada\" title=\"Visitar la página principal [z]\">Portada</a></li><li id=\"n-portal\"><a href=\"/wiki/Portal:Comunidad\" title=\"Acerca del proyecto, lo que puedes hacer, dónde encontrar información\">Portal de la comunidad</a></li><li id=\"n-currentevents\"><a href=\"/wiki/Portal:Actualidad\" title=\"Encuentra información de contexto sobre acontecimientos actuales\">Actualidad</a></li><li id=\"n-recentchanges\"><a accesskey=\"r\" href=\"/wiki/Especial:CambiosRecientes\" title=\"Lista de cambios recientes en el wiki [r]\">Cambios recientes</a></li><li id=\"n-newpages\"><a href=\"/wiki/Especial:P%C3%A1ginasNuevas\">Páginas nuevas</a></li><li id=\"n-randompage\"><a accesskey=\"x\" href=\"/wiki/Especial:Aleatoria\" title=\"Cargar una página al azar [x]\">Página aleatoria</a></li><li id=\"n-help\"><a href=\"/wiki/Ayuda:Contenidos\" title=\"El lugar para aprender\">Ayuda</a></li><li id=\"n-sitesupport\"><a href=\"//donate.wikimedia.org/wiki/Special:FundraiserRedirector?utm_source=donate&amp;utm_medium=sidebar&amp;utm_campaign=C13_es.wikipedia.org&amp;uselang=es\" title=\"Apóyanos\">Donaciones</a></li><li id=\"n-bug_in_article\"><a href=\"/wiki/Wikipedia:Informes_de_error\">Notificar un error</a></li></ul>\n",
              "</div>\n",
              "</nav>\n",
              "<!-- Please do not use role attribute as CSS selector, it is deprecated. -->\n",
              "<nav aria-labelledby=\"p-tb-label\" class=\"mw-portlet mw-portlet-tb vector-menu vector-menu-portal portal\" id=\"p-tb\" role=\"navigation\">\n",
              "<h3 id=\"p-tb-label\">\n",
              "<span>Herramientas</span>\n",
              "</h3>\n",
              "<div class=\"vector-menu-content\">\n",
              "<ul class=\"vector-menu-content-list\"><li id=\"t-whatlinkshere\"><a accesskey=\"j\" href=\"/wiki/Especial:LoQueEnlazaAqu%C3%AD/Jonas_Salk\" title=\"Lista de todas las páginas del wiki que enlazan aquí [j]\">Lo que enlaza aquí</a></li><li id=\"t-recentchangeslinked\"><a accesskey=\"k\" href=\"/wiki/Especial:CambiosEnEnlazadas/Jonas_Salk\" rel=\"nofollow\" title=\"Cambios recientes en las páginas que enlazan con esta [k]\">Cambios en enlazadas</a></li><li id=\"t-upload\"><a accesskey=\"u\" href=\"//commons.wikimedia.org/wiki/Special:UploadWizard?uselang=es\" title=\"Subir archivos [u]\">Subir archivo</a></li><li id=\"t-specialpages\"><a accesskey=\"q\" href=\"/wiki/Especial:P%C3%A1ginasEspeciales\" title=\"Lista de todas las páginas especiales [q]\">Páginas especiales</a></li><li id=\"t-permalink\"><a href=\"/w/index.php?title=Jonas_Salk&amp;oldid=131855283\" title=\"Enlace permanente a esta versión de la página\">Enlace permanente</a></li><li id=\"t-info\"><a href=\"/w/index.php?title=Jonas_Salk&amp;action=info\" title=\"Más información sobre esta página\">Información de la página</a></li><li id=\"t-cite\"><a href=\"/w/index.php?title=Especial:Citar&amp;page=Jonas_Salk&amp;id=131855283&amp;wpFormIdentifier=titleform\" title=\"Información sobre cómo citar esta página\">Citar esta página</a></li><li id=\"t-wikibase\"><a accesskey=\"g\" href=\"https://www.wikidata.org/wiki/Special:EntityPage/Q200101\" title=\"Enlace al elemento conectado del repositorio de datos [g]\">Elemento de Wikidata</a></li></ul>\n",
              "</div>\n",
              "</nav>\n",
              "<!-- Please do not use role attribute as CSS selector, it is deprecated. -->\n",
              "<nav aria-labelledby=\"p-coll-print_export-label\" class=\"mw-portlet mw-portlet-coll-print_export vector-menu vector-menu-portal portal\" id=\"p-coll-print_export\" role=\"navigation\">\n",
              "<h3 id=\"p-coll-print_export-label\">\n",
              "<span>Imprimir/exportar</span>\n",
              "</h3>\n",
              "<div class=\"vector-menu-content\">\n",
              "<ul class=\"vector-menu-content-list\"><li id=\"coll-create_a_book\"><a href=\"/w/index.php?title=Especial:Libro&amp;bookcmd=book_creator&amp;referer=Jonas+Salk\">Crear un libro</a></li><li id=\"coll-download-as-rl\"><a href=\"/w/index.php?title=Especial:DownloadAsPdf&amp;page=Jonas_Salk&amp;action=show-download-screen\">Descargar como PDF</a></li><li id=\"t-print\"><a accesskey=\"p\" href=\"/w/index.php?title=Jonas_Salk&amp;printable=yes\" title=\"Versión imprimible de esta página [p]\">Versión para imprimir</a></li></ul>\n",
              "</div>\n",
              "</nav>\n",
              "<!-- Please do not use role attribute as CSS selector, it is deprecated. -->\n",
              "<nav aria-labelledby=\"p-wikibase-otherprojects-label\" class=\"mw-portlet mw-portlet-wikibase-otherprojects vector-menu vector-menu-portal portal\" id=\"p-wikibase-otherprojects\" role=\"navigation\">\n",
              "<h3 id=\"p-wikibase-otherprojects-label\">\n",
              "<span>En otros proyectos</span>\n",
              "</h3>\n",
              "<div class=\"vector-menu-content\">\n",
              "<ul class=\"vector-menu-content-list\"><li class=\"wb-otherproject-link wb-otherproject-commons\"><a href=\"https://commons.wikimedia.org/wiki/Category:Jonas_Salk\" hreflang=\"en\">Wikimedia Commons</a></li><li class=\"wb-otherproject-link wb-otherproject-wikiquote\"><a href=\"https://es.wikiquote.org/wiki/Jonas_Salk\" hreflang=\"es\">Wikiquote</a></li></ul>\n",
              "</div>\n",
              "</nav>\n",
              "<!-- Please do not use role attribute as CSS selector, it is deprecated. -->\n",
              "<nav aria-labelledby=\"p-lang-label\" class=\"mw-portlet mw-portlet-lang vector-menu vector-menu-portal portal\" id=\"p-lang\" role=\"navigation\">\n",
              "<h3 id=\"p-lang-label\">\n",
              "<span>En otros idiomas</span>\n",
              "</h3>\n",
              "<div class=\"vector-menu-content\">\n",
              "<ul class=\"vector-menu-content-list\"><li class=\"interlanguage-link interwiki-af\"><a class=\"interlanguage-link-target\" href=\"https://af.wikipedia.org/wiki/Jonas_Salk\" hreflang=\"af\" lang=\"af\" title=\"Jonas Salk (afrikáans)\">Afrikaans</a></li><li class=\"interlanguage-link interwiki-ar\"><a class=\"interlanguage-link-target\" href=\"https://ar.wikipedia.org/wiki/%D8%AC%D9%88%D9%86%D8%A7%D8%B3_%D8%B3%D9%88%D9%84%D9%83\" hreflang=\"ar\" lang=\"ar\" title=\"جوناس سولك (árabe)\">العربية</a></li><li class=\"interlanguage-link interwiki-ast\"><a class=\"interlanguage-link-target\" href=\"https://ast.wikipedia.org/wiki/Jonas_Salk\" hreflang=\"ast\" lang=\"ast\" title=\"Jonas Salk (asturiano)\">Asturianu</a></li><li class=\"interlanguage-link interwiki-az\"><a class=\"interlanguage-link-target\" href=\"https://az.wikipedia.org/wiki/Conas_Solk\" hreflang=\"az\" lang=\"az\" title=\"Conas Solk (azerbaiyano)\">Azərbaycanca</a></li><li class=\"interlanguage-link interwiki-azb\"><a class=\"interlanguage-link-target\" href=\"https://azb.wikipedia.org/wiki/%D8%AC%D9%88%D9%86%D8%A7%D8%B3_%D8%B3%D8%A7%D9%84%DA%A9\" hreflang=\"azb\" lang=\"azb\" title=\"جوناس سالک (South Azerbaijani)\">تۆرکجه</a></li><li class=\"interlanguage-link interwiki-be\"><a class=\"interlanguage-link-target\" href=\"https://be.wikipedia.org/wiki/%D0%94%D0%B6%D0%BE%D0%BD%D0%B0%D1%81_%D0%A1%D0%BE%D0%BB%D0%BA\" hreflang=\"be\" lang=\"be\" title=\"Джонас Солк (bielorruso)\">Беларуская</a></li><li class=\"interlanguage-link interwiki-bg\"><a class=\"interlanguage-link-target\" href=\"https://bg.wikipedia.org/wiki/%D0%94%D0%B6%D0%BE%D0%BD%D0%B0%D1%81_%D0%A1%D0%BE%D0%BB%D0%BA\" hreflang=\"bg\" lang=\"bg\" title=\"Джонас Солк (búlgaro)\">Български</a></li><li class=\"interlanguage-link interwiki-bn\"><a class=\"interlanguage-link-target\" href=\"https://bn.wikipedia.org/wiki/%E0%A6%9C%E0%A7%8B%E0%A6%A8%E0%A6%BE%E0%A6%B8_%E0%A6%8F%E0%A6%A1%E0%A6%93%E0%A6%AF%E0%A6%BC%E0%A6%BE%E0%A6%B0%E0%A7%8D%E0%A6%A1_%E0%A6%B8%E0%A6%B2%E0%A7%8D%E0%A6%95\" hreflang=\"bn\" lang=\"bn\" title=\"জোনাস এডওয়ার্ড সল্ক (bengalí)\">বাংলা</a></li><li class=\"interlanguage-link interwiki-bs\"><a class=\"interlanguage-link-target\" href=\"https://bs.wikipedia.org/wiki/Jonas_Salk\" hreflang=\"bs\" lang=\"bs\" title=\"Jonas Salk (bosnio)\">Bosanski</a></li><li class=\"interlanguage-link interwiki-ca\"><a class=\"interlanguage-link-target\" href=\"https://ca.wikipedia.org/wiki/Jonas_Salk\" hreflang=\"ca\" lang=\"ca\" title=\"Jonas Salk (catalán)\">Català</a></li><li class=\"interlanguage-link interwiki-cs\"><a class=\"interlanguage-link-target\" href=\"https://cs.wikipedia.org/wiki/Jonas_Salk\" hreflang=\"cs\" lang=\"cs\" title=\"Jonas Salk (checo)\">Čeština</a></li><li class=\"interlanguage-link interwiki-cy\"><a class=\"interlanguage-link-target\" href=\"https://cy.wikipedia.org/wiki/Jonas_Salk\" hreflang=\"cy\" lang=\"cy\" title=\"Jonas Salk (galés)\">Cymraeg</a></li><li class=\"interlanguage-link interwiki-da\"><a class=\"interlanguage-link-target\" href=\"https://da.wikipedia.org/wiki/Jonas_Salk\" hreflang=\"da\" lang=\"da\" title=\"Jonas Salk (danés)\">Dansk</a></li><li class=\"interlanguage-link interwiki-de\"><a class=\"interlanguage-link-target\" href=\"https://de.wikipedia.org/wiki/Jonas_Salk\" hreflang=\"de\" lang=\"de\" title=\"Jonas Salk (alemán)\">Deutsch</a></li><li class=\"interlanguage-link interwiki-el\"><a class=\"interlanguage-link-target\" href=\"https://el.wikipedia.org/wiki/%CE%A4%CE%B6%CF%8C%CE%BD%CE%B1%CF%82_%CE%A3%CE%BF%CE%BB%CE%BA\" hreflang=\"el\" lang=\"el\" title=\"Τζόνας Σολκ (griego)\">Ελληνικά</a></li><li class=\"interlanguage-link interwiki-en\"><a class=\"interlanguage-link-target\" href=\"https://en.wikipedia.org/wiki/Jonas_Salk\" hreflang=\"en\" lang=\"en\" title=\"Jonas Salk (inglés)\">English</a></li><li class=\"interlanguage-link interwiki-eo\"><a class=\"interlanguage-link-target\" href=\"https://eo.wikipedia.org/wiki/Jonas_Salk\" hreflang=\"eo\" lang=\"eo\" title=\"Jonas Salk (esperanto)\">Esperanto</a></li><li class=\"interlanguage-link interwiki-et\"><a class=\"interlanguage-link-target\" href=\"https://et.wikipedia.org/wiki/Jonas_Salk\" hreflang=\"et\" lang=\"et\" title=\"Jonas Salk (estonio)\">Eesti</a></li><li class=\"interlanguage-link interwiki-eu\"><a class=\"interlanguage-link-target\" href=\"https://eu.wikipedia.org/wiki/Jonas_Salk\" hreflang=\"eu\" lang=\"eu\" title=\"Jonas Salk (euskera)\">Euskara</a></li><li class=\"interlanguage-link interwiki-fa\"><a class=\"interlanguage-link-target\" href=\"https://fa.wikipedia.org/wiki/%D8%AC%D9%88%D9%86%D8%A7%D8%B3_%D8%B3%D8%A7%D9%84%DA%A9\" hreflang=\"fa\" lang=\"fa\" title=\"جوناس سالک (persa)\">فارسی</a></li><li class=\"interlanguage-link interwiki-fi\"><a class=\"interlanguage-link-target\" href=\"https://fi.wikipedia.org/wiki/Jonas_Salk\" hreflang=\"fi\" lang=\"fi\" title=\"Jonas Salk (finés)\">Suomi</a></li><li class=\"interlanguage-link interwiki-fr\"><a class=\"interlanguage-link-target\" href=\"https://fr.wikipedia.org/wiki/Jonas_Salk\" hreflang=\"fr\" lang=\"fr\" title=\"Jonas Salk (francés)\">Français</a></li><li class=\"interlanguage-link interwiki-fy\"><a class=\"interlanguage-link-target\" href=\"https://fy.wikipedia.org/wiki/Jonas_Salk\" hreflang=\"fy\" lang=\"fy\" title=\"Jonas Salk (frisón occidental)\">Frysk</a></li><li class=\"interlanguage-link interwiki-ga\"><a class=\"interlanguage-link-target\" href=\"https://ga.wikipedia.org/wiki/Jonas_Edward_Salk\" hreflang=\"ga\" lang=\"ga\" title=\"Jonas Edward Salk (irlandés)\">Gaeilge</a></li><li class=\"interlanguage-link interwiki-gl\"><a class=\"interlanguage-link-target\" href=\"https://gl.wikipedia.org/wiki/Jonas_Salk\" hreflang=\"gl\" lang=\"gl\" title=\"Jonas Salk (gallego)\">Galego</a></li><li class=\"interlanguage-link interwiki-he\"><a class=\"interlanguage-link-target\" href=\"https://he.wikipedia.org/wiki/%D7%99%D7%95%D7%A0%D7%94_%D7%A1%D7%90%D7%9C%D7%A7\" hreflang=\"he\" lang=\"he\" title=\"יונה סאלק (hebreo)\">עברית</a></li><li class=\"interlanguage-link interwiki-hi\"><a class=\"interlanguage-link-target\" href=\"https://hi.wikipedia.org/wiki/%E0%A4%9C%E0%A5%8B%E0%A4%A8%E0%A4%BE%E0%A4%B8_%E0%A4%B8%E0%A5%89%E0%A4%B2%E0%A5%8D%E0%A4%95\" hreflang=\"hi\" lang=\"hi\" title=\"जोनास सॉल्क (hindi)\">हिन्दी</a></li><li class=\"interlanguage-link interwiki-hr\"><a class=\"interlanguage-link-target\" href=\"https://hr.wikipedia.org/wiki/Jonas_Salk\" hreflang=\"hr\" lang=\"hr\" title=\"Jonas Salk (croata)\">Hrvatski</a></li><li class=\"interlanguage-link interwiki-hu\"><a class=\"interlanguage-link-target\" href=\"https://hu.wikipedia.org/wiki/Jonas_Edward_Salk\" hreflang=\"hu\" lang=\"hu\" title=\"Jonas Edward Salk (húngaro)\">Magyar</a></li><li class=\"interlanguage-link interwiki-hy\"><a class=\"interlanguage-link-target\" href=\"https://hy.wikipedia.org/wiki/%D5%8B%D5%B8%D5%B6%D5%A1%D5%BD_%D5%8D%D5%B8%D5%AC%D6%84\" hreflang=\"hy\" lang=\"hy\" title=\"Ջոնաս Սոլք (armenio)\">Հայերեն</a></li><li class=\"interlanguage-link interwiki-id\"><a class=\"interlanguage-link-target\" href=\"https://id.wikipedia.org/wiki/Jonas_Salk\" hreflang=\"id\" lang=\"id\" title=\"Jonas Salk (indonesio)\">Bahasa Indonesia</a></li><li class=\"interlanguage-link interwiki-io\"><a class=\"interlanguage-link-target\" href=\"https://io.wikipedia.org/wiki/Jonas_Salk\" hreflang=\"io\" lang=\"io\" title=\"Jonas Salk (ido)\">Ido</a></li><li class=\"interlanguage-link interwiki-is\"><a class=\"interlanguage-link-target\" href=\"https://is.wikipedia.org/wiki/Jonas_Salk\" hreflang=\"is\" lang=\"is\" title=\"Jonas Salk (islandés)\">Íslenska</a></li><li class=\"interlanguage-link interwiki-it\"><a class=\"interlanguage-link-target\" href=\"https://it.wikipedia.org/wiki/Jonas_Salk\" hreflang=\"it\" lang=\"it\" title=\"Jonas Salk (italiano)\">Italiano</a></li><li class=\"interlanguage-link interwiki-ja\"><a class=\"interlanguage-link-target\" href=\"https://ja.wikipedia.org/wiki/%E3%82%B8%E3%83%A7%E3%83%8A%E3%82%B9%E3%83%BB%E3%82%BD%E3%83%BC%E3%82%AF\" hreflang=\"ja\" lang=\"ja\" title=\"ジョナス・ソーク (japonés)\">日本語</a></li><li class=\"interlanguage-link interwiki-jv\"><a class=\"interlanguage-link-target\" href=\"https://jv.wikipedia.org/wiki/Jonas_Edward_Salk\" hreflang=\"jv\" lang=\"jv\" title=\"Jonas Edward Salk (javanés)\">Jawa</a></li><li class=\"interlanguage-link interwiki-ko\"><a class=\"interlanguage-link-target\" href=\"https://ko.wikipedia.org/wiki/%EC%A1%B0%EB%84%88%EC%8A%A4_%EC%86%8C%ED%81%AC\" hreflang=\"ko\" lang=\"ko\" title=\"조너스 소크 (coreano)\">한국어</a></li><li class=\"interlanguage-link interwiki-la\"><a class=\"interlanguage-link-target\" href=\"https://la.wikipedia.org/wiki/Ionas_Salk\" hreflang=\"la\" lang=\"la\" title=\"Ionas Salk (latín)\">Latina</a></li><li class=\"interlanguage-link interwiki-lv\"><a class=\"interlanguage-link-target\" href=\"https://lv.wikipedia.org/wiki/D%C5%BEonass_Solks\" hreflang=\"lv\" lang=\"lv\" title=\"Džonass Solks (letón)\">Latviešu</a></li><li class=\"interlanguage-link interwiki-mg\"><a class=\"interlanguage-link-target\" href=\"https://mg.wikipedia.org/wiki/Jonas_Salk\" hreflang=\"mg\" lang=\"mg\" title=\"Jonas Salk (malgache)\">Malagasy</a></li><li class=\"interlanguage-link interwiki-mk\"><a class=\"interlanguage-link-target\" href=\"https://mk.wikipedia.org/wiki/%D0%8F%D0%BE%D0%BD%D0%B0%D1%81_%D0%A1%D0%B0%D0%BB%D0%BA\" hreflang=\"mk\" lang=\"mk\" title=\"Џонас Салк (macedonio)\">Македонски</a></li><li class=\"interlanguage-link interwiki-ml\"><a class=\"interlanguage-link-target\" href=\"https://ml.wikipedia.org/wiki/%E0%B4%9C%E0%B5%8B%E0%B4%A8%E0%B4%B8%E0%B5%8D_%E0%B4%B8%E0%B4%BE%E0%B5%BD%E0%B4%95%E0%B5%8D\" hreflang=\"ml\" lang=\"ml\" title=\"ജോനസ് സാൽക് (malayalam)\">മലയാളം</a></li><li class=\"interlanguage-link interwiki-ms\"><a class=\"interlanguage-link-target\" href=\"https://ms.wikipedia.org/wiki/Jonas_Salk\" hreflang=\"ms\" lang=\"ms\" title=\"Jonas Salk (malayo)\">Bahasa Melayu</a></li><li class=\"interlanguage-link interwiki-nl\"><a class=\"interlanguage-link-target\" href=\"https://nl.wikipedia.org/wiki/Jonas_Salk\" hreflang=\"nl\" lang=\"nl\" title=\"Jonas Salk (neerlandés)\">Nederlands</a></li><li class=\"interlanguage-link interwiki-no\"><a class=\"interlanguage-link-target\" href=\"https://no.wikipedia.org/wiki/Jonas_Salk\" hreflang=\"nb\" lang=\"nb\" title=\"Jonas Salk (noruego bokmal)\">Norsk bokmål</a></li><li class=\"interlanguage-link interwiki-pa\"><a class=\"interlanguage-link-target\" href=\"https://pa.wikipedia.org/wiki/%E0%A8%9C%E0%A9%8B%E0%A8%A8%E0%A8%BE%E0%A8%B8_%E0%A8%B8%E0%A8%BE%E0%A8%B2%E0%A8%95\" hreflang=\"pa\" lang=\"pa\" title=\"ਜੋਨਾਸ ਸਾਲਕ (punyabí)\">ਪੰਜਾਬੀ</a></li><li class=\"interlanguage-link interwiki-pl\"><a class=\"interlanguage-link-target\" href=\"https://pl.wikipedia.org/wiki/Jonas_Salk\" hreflang=\"pl\" lang=\"pl\" title=\"Jonas Salk (polaco)\">Polski</a></li><li class=\"interlanguage-link interwiki-pnb\"><a class=\"interlanguage-link-target\" href=\"https://pnb.wikipedia.org/wiki/%D8%AC%D9%88%D9%86%D8%B3_%D8%B3%D8%A7%D9%84%DA%A9\" hreflang=\"pnb\" lang=\"pnb\" title=\"جونس سالک (Western Punjabi)\">پنجابی</a></li><li class=\"interlanguage-link interwiki-pt\"><a class=\"interlanguage-link-target\" href=\"https://pt.wikipedia.org/wiki/Jonas_Salk\" hreflang=\"pt\" lang=\"pt\" title=\"Jonas Salk (portugués)\">Português</a></li><li class=\"interlanguage-link interwiki-ro\"><a class=\"interlanguage-link-target\" href=\"https://ro.wikipedia.org/wiki/Jonas_Salk\" hreflang=\"ro\" lang=\"ro\" title=\"Jonas Salk (rumano)\">Română</a></li><li class=\"interlanguage-link interwiki-ru\"><a class=\"interlanguage-link-target\" href=\"https://ru.wikipedia.org/wiki/%D0%A1%D0%BE%D0%BB%D0%BA,_%D0%94%D0%B6%D0%BE%D0%BD%D0%B0%D1%81\" hreflang=\"ru\" lang=\"ru\" title=\"Солк, Джонас (ruso)\">Русский</a></li><li class=\"interlanguage-link interwiki-sa\"><a class=\"interlanguage-link-target\" href=\"https://sa.wikipedia.org/wiki/%E0%A4%9C%E0%A5%8B%E0%A4%A8%E0%A4%BE%E0%A4%B8%E0%A5%8D_%E0%A4%8F%E0%A4%A1%E0%A5%8D%E0%A4%B5%E0%A4%B0%E0%A5%8D%E0%A4%A1%E0%A5%8D_%E0%A4%B8%E0%A4%BE%E0%A4%95%E0%A5%8D\" hreflang=\"sa\" lang=\"sa\" title=\"जोनास् एड्वर्ड् साक् (sánscrito)\">संस्कृतम्</a></li><li class=\"interlanguage-link interwiki-sco\"><a class=\"interlanguage-link-target\" href=\"https://sco.wikipedia.org/wiki/Jonas_Salk\" hreflang=\"sco\" lang=\"sco\" title=\"Jonas Salk (escocés)\">Scots</a></li><li class=\"interlanguage-link interwiki-sh\"><a class=\"interlanguage-link-target\" href=\"https://sh.wikipedia.org/wiki/Jonas_Salk\" hreflang=\"sh\" lang=\"sh\" title=\"Jonas Salk (serbocroata)\">Srpskohrvatski / српскохрватски</a></li><li class=\"interlanguage-link interwiki-si\"><a class=\"interlanguage-link-target\" href=\"https://si.wikipedia.org/wiki/%E0%B6%A2%E0%B7%9D%E0%B6%B1%E0%B7%83%E0%B7%8A_%E0%B7%83%E0%B7%9D%E0%B6%9A%E0%B7%8A\" hreflang=\"si\" lang=\"si\" title=\"ජෝනස් සෝක් (cingalés)\">සිංහල</a></li><li class=\"interlanguage-link interwiki-simple\"><a class=\"interlanguage-link-target\" href=\"https://simple.wikipedia.org/wiki/Jonas_Salk\" hreflang=\"en-simple\" lang=\"en-simple\" title=\"Jonas Salk (Simple English)\">Simple English</a></li><li class=\"interlanguage-link interwiki-sk\"><a class=\"interlanguage-link-target\" href=\"https://sk.wikipedia.org/wiki/Jonas_Salk\" hreflang=\"sk\" lang=\"sk\" title=\"Jonas Salk (eslovaco)\">Slovenčina</a></li><li class=\"interlanguage-link interwiki-sl\"><a class=\"interlanguage-link-target\" href=\"https://sl.wikipedia.org/wiki/Jonas_Salk\" hreflang=\"sl\" lang=\"sl\" title=\"Jonas Salk (esloveno)\">Slovenščina</a></li><li class=\"interlanguage-link interwiki-sr\"><a class=\"interlanguage-link-target\" href=\"https://sr.wikipedia.org/wiki/%D0%8F%D0%BE%D0%BD%D0%B0%D1%81_%D0%A1%D0%BE%D0%BB%D0%BA\" hreflang=\"sr\" lang=\"sr\" title=\"Џонас Солк (serbio)\">Српски / srpski</a></li><li class=\"interlanguage-link interwiki-sv\"><a class=\"interlanguage-link-target\" href=\"https://sv.wikipedia.org/wiki/Jonas_Salk\" hreflang=\"sv\" lang=\"sv\" title=\"Jonas Salk (sueco)\">Svenska</a></li><li class=\"interlanguage-link interwiki-ta\"><a class=\"interlanguage-link-target\" href=\"https://ta.wikipedia.org/wiki/%E0%AE%AF%E0%AF%8B%E0%AE%A9%E0%AE%BE%E0%AE%9A%E0%AF%81_%E0%AE%9A%E0%AE%BE%E0%AE%B2%E0%AF%8D%E0%AE%95%E0%AF%8D\" hreflang=\"ta\" lang=\"ta\" title=\"யோனாசு சால்க் (tamil)\">தமிழ்</a></li><li class=\"interlanguage-link interwiki-te\"><a class=\"interlanguage-link-target\" href=\"https://te.wikipedia.org/wiki/%E0%B0%9C%E0%B1%8B%E0%B0%A8%E0%B0%B8%E0%B1%8D_%E0%B0%B8%E0%B0%BE%E0%B0%B2%E0%B1%8D%E0%B0%95%E0%B1%8D\" hreflang=\"te\" lang=\"te\" title=\"జోనస్ సాల్క్ (telugu)\">తెలుగు</a></li><li class=\"interlanguage-link interwiki-th\"><a class=\"interlanguage-link-target\" href=\"https://th.wikipedia.org/wiki/%E0%B9%82%E0%B8%88%E0%B8%99%E0%B8%B1%E0%B8%AA_%E0%B8%8B%E0%B8%AD%E0%B8%A5%E0%B9%8C%E0%B8%81\" hreflang=\"th\" lang=\"th\" title=\"โจนัส ซอล์ก (tailandés)\">ไทย</a></li><li class=\"interlanguage-link interwiki-tl\"><a class=\"interlanguage-link-target\" href=\"https://tl.wikipedia.org/wiki/Jonas_Salk\" hreflang=\"tl\" lang=\"tl\" title=\"Jonas Salk (tagalo)\">Tagalog</a></li><li class=\"interlanguage-link interwiki-tr\"><a class=\"interlanguage-link-target\" href=\"https://tr.wikipedia.org/wiki/Jonas_Salk\" hreflang=\"tr\" lang=\"tr\" title=\"Jonas Salk (turco)\">Türkçe</a></li><li class=\"interlanguage-link interwiki-uk\"><a class=\"interlanguage-link-target\" href=\"https://uk.wikipedia.org/wiki/%D0%94%D0%B6%D0%BE%D0%BD%D0%B0%D1%81_%D0%A1%D0%BE%D0%BB%D0%BA\" hreflang=\"uk\" lang=\"uk\" title=\"Джонас Солк (ucraniano)\">Українська</a></li><li class=\"interlanguage-link interwiki-ur\"><a class=\"interlanguage-link-target\" href=\"https://ur.wikipedia.org/wiki/%D8%AC%D9%88%D9%86%D8%B3_%D8%B3%D8%A7%D9%84%DA%A9\" hreflang=\"ur\" lang=\"ur\" title=\"جونس سالک (urdu)\">اردو</a></li><li class=\"interlanguage-link interwiki-vi\"><a class=\"interlanguage-link-target\" href=\"https://vi.wikipedia.org/wiki/Jonas_Salk\" hreflang=\"vi\" lang=\"vi\" title=\"Jonas Salk (vietnamita)\">Tiếng Việt</a></li><li class=\"interlanguage-link interwiki-war\"><a class=\"interlanguage-link-target\" href=\"https://war.wikipedia.org/wiki/Jonas_Salk\" hreflang=\"war\" lang=\"war\" title=\"Jonas Salk (waray)\">Winaray</a></li><li class=\"interlanguage-link interwiki-wuu\"><a class=\"interlanguage-link-target\" href=\"https://wuu.wikipedia.org/wiki/%E4%B9%94%E7%BA%B3%E6%96%AF%C2%B7%E7%B4%A2%E5%B0%94%E5%85%8B\" hreflang=\"wuu\" lang=\"wuu\" title=\"乔纳斯·索尔克 (chino wu)\">吴语</a></li><li class=\"interlanguage-link interwiki-yi\"><a class=\"interlanguage-link-target\" href=\"https://yi.wikipedia.org/wiki/%D7%99%D7%95%D7%A0%D7%94_%D7%A1%D7%90%D7%9C%D7%A7\" hreflang=\"yi\" lang=\"yi\" title=\"יונה סאלק (yidis)\">ייִדיש</a></li><li class=\"interlanguage-link interwiki-zh\"><a class=\"interlanguage-link-target\" href=\"https://zh.wikipedia.org/wiki/%E4%B9%94%E7%BA%B3%E6%96%AF%C2%B7%E7%B4%A2%E5%B0%94%E5%85%8B\" hreflang=\"zh\" lang=\"zh\" title=\"乔纳斯·索尔克 (chino)\">中文</a></li></ul>\n",
              "<div class=\"after-portlet after-portlet-lang\"><span class=\"wb-langlinks-edit wb-langlinks-link\"><a class=\"wbc-editpage\" href=\"https://www.wikidata.org/wiki/Special:EntityPage/Q200101#sitelinks-wikipedia\" title=\"Editar enlaces interlingüísticos\">Editar enlaces</a></span></div>\n",
              "</div>\n",
              "</nav>\n",
              "</div>\n",
              "</div>\n",
              "<footer class=\"mw-footer\" id=\"footer\" role=\"contentinfo\">\n",
              "<ul id=\"footer-info\">\n",
              "<li id=\"footer-info-lastmod\"> Esta página se editó por última vez el 21 dic 2020 a las 01:37.</li>\n",
              "<li id=\"footer-info-copyright\">El texto está disponible bajo la <a href=\"//es.wikipedia.org/wiki/Wikipedia:Texto_de_la_Licencia_Creative_Commons_Atribuci%C3%B3n-CompartirIgual_3.0_Unported\" rel=\"license\">Licencia Creative Commons Atribución Compartir Igual 3.0</a><a href=\"http://creativecommons.org/licenses/by-sa/3.0/\" rel=\"license\" style=\"display:none;\"></a>;\n",
              "pueden aplicarse cláusulas adicionales. Al usar este sitio, usted acepta nuestros <a href=\"//wikimediafoundation.org/wiki/Terms_of_Use\">términos de uso</a> y nuestra <a href=\"//wikimediafoundation.org/wiki/Privacy_policy\">política de privacidad</a>. <br/>Wikipedia® es una marca registrada de la <a href=\"//www.wikimediafoundation.org/\">Fundación Wikimedia, Inc.</a>, una organización sin ánimo de lucro.</li>\n",
              "</ul>\n",
              "<ul id=\"footer-places\">\n",
              "<li id=\"footer-places-privacy\"><a class=\"extiw\" href=\"https://meta.wikimedia.org/wiki/Privacy_policy/es\" title=\"m:Privacy policy/es\">Política de privacidad</a></li>\n",
              "<li id=\"footer-places-about\"><a href=\"/wiki/Wikipedia:Acerca_de\" title=\"Wikipedia:Acerca de\">Acerca de Wikipedia</a></li>\n",
              "<li id=\"footer-places-disclaimer\"><a href=\"/wiki/Wikipedia:Limitaci%C3%B3n_general_de_responsabilidad\" title=\"Wikipedia:Limitación general de responsabilidad\">Limitación de responsabilidad</a></li>\n",
              "<li id=\"footer-places-mobileview\"><a class=\"noprint stopMobileRedirectToggle\" href=\"//es.m.wikipedia.org/w/index.php?title=Jonas_Salk&amp;mobileaction=toggle_view_mobile\">Versión para móviles</a></li>\n",
              "<li id=\"footer-places-developers\"><a href=\"https://www.mediawiki.org/wiki/Special:MyLanguage/How_to_contribute\">Desarrolladores</a></li>\n",
              "<li id=\"footer-places-statslink\"><a href=\"https://stats.wikimedia.org/#/es.wikipedia.org\">Estadísticas</a></li>\n",
              "<li id=\"footer-places-cookiestatement\"><a href=\"https://foundation.wikimedia.org/wiki/Cookie_statement/es\">Declaración de cookies</a></li>\n",
              "</ul>\n",
              "<ul class=\"noprint\" id=\"footer-icons\">\n",
              "<li id=\"footer-copyrightico\"><a href=\"https://wikimediafoundation.org/\"><img alt=\"Wikimedia Foundation\" height=\"31\" loading=\"lazy\" src=\"/static/images/footer/wikimedia-button.png\" srcset=\"/static/images/footer/wikimedia-button-1.5x.png 1.5x, /static/images/footer/wikimedia-button-2x.png 2x\" width=\"88\"/></a></li>\n",
              "<li id=\"footer-poweredbyico\"><a href=\"https://www.mediawiki.org/\"><img alt=\"Powered by MediaWiki\" height=\"31\" loading=\"lazy\" src=\"/static/images/footer/poweredby_mediawiki_88x31.png\" srcset=\"/static/images/footer/poweredby_mediawiki_132x47.png 1.5x, /static/images/footer/poweredby_mediawiki_176x62.png 2x\" width=\"88\"/></a></li>\n",
              "</ul>\n",
              "<div style=\"clear: both;\"></div>\n",
              "</footer>\n",
              "<script>(RLQ=window.RLQ||[]).push(function(){mw.config.set({\"wgPageParseReport\":{\"limitreport\":{\"cputime\":\"0.488\",\"walltime\":\"0.637\",\"ppvisitednodes\":{\"value\":865,\"limit\":1000000},\"postexpandincludesize\":{\"value\":27485,\"limit\":2097152},\"templateargumentsize\":{\"value\":372,\"limit\":2097152},\"expansiondepth\":{\"value\":10,\"limit\":40},\"expensivefunctioncount\":{\"value\":12,\"limit\":500},\"unstrip-depth\":{\"value\":0,\"limit\":20},\"unstrip-size\":{\"value\":7960,\"limit\":5000000},\"entityaccesscount\":{\"value\":13,\"limit\":400},\"timingprofile\":[\"100.00%  534.059      1 -total\",\" 44.56%  237.951      1 Plantilla:NF\",\" 29.11%  155.486      1 Plantilla:Ficha_de_persona\",\" 10.88%   58.113      1 Plantilla:Listaref\",\"  9.48%   50.646      1 Plantilla:Commonscat\",\"  6.94%   37.076      1 Plantilla:Propiedad\",\"  6.52%   34.822      1 Plantilla:Cita_web\",\"  3.26%   17.415      1 Plantilla:Wikipedia_Grabada\",\"  2.04%   10.915      1 Plantilla:Icono_en_título\",\"  1.93%   10.308      2 Plantilla:Cita_noticia\"]},\"scribunto\":{\"limitreport-timeusage\":{\"value\":\"0.330\",\"limit\":\"10.000\"},\"limitreport-memusage\":{\"value\":8085443,\"limit\":52428800},\"limitreport-logs\":\"\\\"[[Estados Unidos]]\\\"\\n\\\"Estadounidense\\\"\\n\"},\"cachereport\":{\"origin\":\"mw1320\",\"timestamp\":\"20210125083732\",\"ttl\":2592000,\"transientcontent\":false}}});});</script>\n",
              "<script type=\"application/ld+json\">{\"@context\":\"https:\\/\\/schema.org\",\"@type\":\"Article\",\"name\":\"Jonas Salk\",\"url\":\"https:\\/\\/es.wikipedia.org\\/wiki\\/Jonas_Salk\",\"sameAs\":\"http:\\/\\/www.wikidata.org\\/entity\\/Q200101\",\"mainEntity\":\"http:\\/\\/www.wikidata.org\\/entity\\/Q200101\",\"author\":{\"@type\":\"Organization\",\"name\":\"Colaboradores de los proyectos Wikimedia\"},\"publisher\":{\"@type\":\"Organization\",\"name\":\"Wikimedia Foundation, Inc.\",\"logo\":{\"@type\":\"ImageObject\",\"url\":\"https:\\/\\/www.wikimedia.org\\/static\\/images\\/wmf-hor-googpub.png\"}},\"datePublished\":\"2004-07-09T10:11:28Z\",\"dateModified\":\"2020-12-21T01:37:32Z\",\"image\":\"https:\\/\\/upload.wikimedia.org\\/wikipedia\\/commons\\/b\\/bd\\/Dr_Jonas_Edward_Salk_%28cropped%29.jpg\",\"headline\":\"investigador estadounidense\"}</script>\n",
              "<script>(RLQ=window.RLQ||[]).push(function(){mw.config.set({\"wgBackendResponseTime\":160,\"wgHostname\":\"mw1331\"});});</script>\n",
              "</body></html>"
            ]
          },
          "metadata": {
            "tags": []
          },
          "execution_count": 20
        }
      ]
    },
    {
      "cell_type": "code",
      "metadata": {
        "colab": {
          "base_uri": "https://localhost:8080/"
        },
        "id": "602oTDuoD3TY",
        "outputId": "f2d51884-4824-4a22-b236-bba12c1f8e11"
      },
      "source": [
        "soup.select('.toctext')"
      ],
      "execution_count": 21,
      "outputs": [
        {
          "output_type": "execute_result",
          "data": {
            "text/plain": [
              "[<span class=\"toctext\">Biografía</span>,\n",
              " <span class=\"toctext\">Primeros años</span>,\n",
              " <span class=\"toctext\">Estudios</span>,\n",
              " <span class=\"toctext\">La vacuna <i>Salk</i></span>,\n",
              " <span class=\"toctext\">Véase también</span>,\n",
              " <span class=\"toctext\">Referencias</span>,\n",
              " <span class=\"toctext\">Enlaces externos</span>]"
            ]
          },
          "metadata": {
            "tags": []
          },
          "execution_count": 21
        }
      ]
    },
    {
      "cell_type": "code",
      "metadata": {
        "colab": {
          "base_uri": "https://localhost:8080/"
        },
        "id": "IUn5w3KMEBX-",
        "outputId": "094c2aac-fd20-4978-d440-48569bf3b195"
      },
      "source": [
        "for item in soup.select('.toctext'):\r\n",
        "  print(item.text)"
      ],
      "execution_count": 23,
      "outputs": [
        {
          "output_type": "stream",
          "text": [
            "Biografía\n",
            "Primeros años\n",
            "Estudios\n",
            "La vacuna Salk\n",
            "Véase también\n",
            "Referencias\n",
            "Enlaces externos\n"
          ],
          "name": "stdout"
        }
      ]
    },
    {
      "cell_type": "code",
      "metadata": {
        "id": "SLIIRRquFvOC"
      },
      "source": [
        "res = requests.get('https://es.wikipedia.org/wiki/Lenguaje_de_programaci%C3%B3n')"
      ],
      "execution_count": 40,
      "outputs": []
    },
    {
      "cell_type": "code",
      "metadata": {
        "id": "hLS1x93bJJ6F"
      },
      "source": [
        "soup = bs4.BeautifulSoup(res.text, 'lxml')"
      ],
      "execution_count": 41,
      "outputs": []
    },
    {
      "cell_type": "code",
      "metadata": {
        "colab": {
          "base_uri": "https://localhost:8080/"
        },
        "id": "3mR-YVQqJOV1",
        "outputId": "5ffae870-e11c-4860-c7b7-69ad2cac313f"
      },
      "source": [
        "soup.select('.thumbimage')"
      ],
      "execution_count": 42,
      "outputs": [
        {
          "output_type": "execute_result",
          "data": {
            "text/plain": [
              "[<img alt=\"\" class=\"thumbimage\" data-file-height=\"364\" data-file-width=\"718\" decoding=\"async\" height=\"152\" src=\"//upload.wikimedia.org/wikipedia/commons/thumb/0/0b/PET-basic.png/300px-PET-basic.png\" srcset=\"//upload.wikimedia.org/wikipedia/commons/thumb/0/0b/PET-basic.png/450px-PET-basic.png 1.5x, //upload.wikimedia.org/wikipedia/commons/thumb/0/0b/PET-basic.png/600px-PET-basic.png 2x\" width=\"300\"/>,\n",
              " <img alt=\"\" class=\"thumbimage\" data-file-height=\"162\" data-file-width=\"342\" decoding=\"async\" height=\"142\" src=\"//upload.wikimedia.org/wikipedia/commons/thumb/d/d0/Classes_and_Methods.png/300px-Classes_and_Methods.png\" srcset=\"//upload.wikimedia.org/wikipedia/commons/d/d0/Classes_and_Methods.png 1.5x\" width=\"300\"/>,\n",
              " <img alt=\"\" class=\"thumbimage\" data-file-height=\"809\" data-file-width=\"1687\" decoding=\"async\" height=\"144\" src=\"//upload.wikimedia.org/wikipedia/commons/thumb/5/58/FortranCardPROJ039.agr.jpg/300px-FortranCardPROJ039.agr.jpg\" srcset=\"//upload.wikimedia.org/wikipedia/commons/thumb/5/58/FortranCardPROJ039.agr.jpg/450px-FortranCardPROJ039.agr.jpg 1.5x, //upload.wikimedia.org/wikipedia/commons/thumb/5/58/FortranCardPROJ039.agr.jpg/600px-FortranCardPROJ039.agr.jpg 2x\" width=\"300\"/>,\n",
              " <img alt=\"\" class=\"thumbimage\" data-file-height=\"259\" data-file-width=\"469\" decoding=\"async\" height=\"221\" src=\"//upload.wikimedia.org/wikipedia/commons/thumb/3/32/Pauscal_lenguaje_de_programaci%C3%B3n.png/400px-Pauscal_lenguaje_de_programaci%C3%B3n.png\" srcset=\"//upload.wikimedia.org/wikipedia/commons/3/32/Pauscal_lenguaje_de_programaci%C3%B3n.png 1.5x\" width=\"400\"/>,\n",
              " <img alt=\"\" class=\"thumbimage\" data-file-height=\"449\" data-file-width=\"602\" decoding=\"async\" height=\"224\" src=\"//upload.wikimedia.org/wikipedia/commons/thumb/e/e1/Python_add5_syntax.svg/300px-Python_add5_syntax.svg.png\" srcset=\"//upload.wikimedia.org/wikipedia/commons/thumb/e/e1/Python_add5_syntax.svg/450px-Python_add5_syntax.svg.png 1.5x, //upload.wikimedia.org/wikipedia/commons/thumb/e/e1/Python_add5_syntax.svg/600px-Python_add5_syntax.svg.png 2x\" width=\"300\"/>,\n",
              " <img alt=\"\" class=\"thumbimage\" data-file-height=\"319\" data-file-width=\"356\" decoding=\"async\" height=\"269\" src=\"//upload.wikimedia.org/wikipedia/commons/thumb/7/75/CodeCmmt002.svg/300px-CodeCmmt002.svg.png\" srcset=\"//upload.wikimedia.org/wikipedia/commons/thumb/7/75/CodeCmmt002.svg/450px-CodeCmmt002.svg.png 1.5x, //upload.wikimedia.org/wikipedia/commons/thumb/7/75/CodeCmmt002.svg/600px-CodeCmmt002.svg.png 2x\" width=\"300\"/>,\n",
              " <img alt=\"\" class=\"thumbimage\" data-file-height=\"1756\" data-file-width=\"2577\" decoding=\"async\" height=\"204\" src=\"//upload.wikimedia.org/wikipedia/commons/thumb/a/a0/Programming_language_textbooks.jpg/300px-Programming_language_textbooks.jpg\" srcset=\"//upload.wikimedia.org/wikipedia/commons/thumb/a/a0/Programming_language_textbooks.jpg/450px-Programming_language_textbooks.jpg 1.5x, //upload.wikimedia.org/wikipedia/commons/thumb/a/a0/Programming_language_textbooks.jpg/600px-Programming_language_textbooks.jpg 2x\" width=\"300\"/>]"
            ]
          },
          "metadata": {
            "tags": []
          },
          "execution_count": 42
        }
      ]
    },
    {
      "cell_type": "code",
      "metadata": {
        "id": "PxfoALiuJbMj"
      },
      "source": [
        "imagen = soup.select('.thumbimage')[0]"
      ],
      "execution_count": 43,
      "outputs": []
    },
    {
      "cell_type": "code",
      "metadata": {
        "colab": {
          "base_uri": "https://localhost:8080/"
        },
        "id": "bMS6HwiCK7_i",
        "outputId": "48baa54b-0186-4f59-dbf6-5e3576a0ae63"
      },
      "source": [
        "imagen"
      ],
      "execution_count": 44,
      "outputs": [
        {
          "output_type": "execute_result",
          "data": {
            "text/plain": [
              "<img alt=\"\" class=\"thumbimage\" data-file-height=\"364\" data-file-width=\"718\" decoding=\"async\" height=\"152\" src=\"//upload.wikimedia.org/wikipedia/commons/thumb/0/0b/PET-basic.png/300px-PET-basic.png\" srcset=\"//upload.wikimedia.org/wikipedia/commons/thumb/0/0b/PET-basic.png/450px-PET-basic.png 1.5x, //upload.wikimedia.org/wikipedia/commons/thumb/0/0b/PET-basic.png/600px-PET-basic.png 2x\" width=\"300\"/>"
            ]
          },
          "metadata": {
            "tags": []
          },
          "execution_count": 44
        }
      ]
    },
    {
      "cell_type": "code",
      "metadata": {
        "colab": {
          "base_uri": "https://localhost:8080/",
          "height": 36
        },
        "id": "gtdEM44KK9id",
        "outputId": "426d0c1f-025e-4040-d9a6-965222fbeed4"
      },
      "source": [
        "imagen['src']"
      ],
      "execution_count": 46,
      "outputs": [
        {
          "output_type": "execute_result",
          "data": {
            "application/vnd.google.colaboratory.intrinsic+json": {
              "type": "string"
            },
            "text/plain": [
              "'//upload.wikimedia.org/wikipedia/commons/thumb/0/0b/PET-basic.png/300px-PET-basic.png'"
            ]
          },
          "metadata": {
            "tags": []
          },
          "execution_count": 46
        }
      ]
    },
    {
      "cell_type": "code",
      "metadata": {
        "id": "6d7wxY0MLH-x"
      },
      "source": [
        "image_link = requests.get('https://upload.wikimedia.org/wikipedia/commons/thumb/0/0b/PET-basic.png/300px-PET-basic.png')"
      ],
      "execution_count": 47,
      "outputs": []
    },
    {
      "cell_type": "code",
      "metadata": {
        "id": "lBGABLqkL5Hb"
      },
      "source": [
        "# image_link.content"
      ],
      "execution_count": 49,
      "outputs": []
    },
    {
      "cell_type": "code",
      "metadata": {
        "id": "-8JqYgIIL7Ot"
      },
      "source": [
        "f = open('programming.jpg', 'wb')"
      ],
      "execution_count": 50,
      "outputs": []
    },
    {
      "cell_type": "code",
      "metadata": {
        "colab": {
          "base_uri": "https://localhost:8080/"
        },
        "id": "8x6cAAVLMOtI",
        "outputId": "6d9beb4e-fbde-4733-f378-499563bffd96"
      },
      "source": [
        "f.write(image_link.content)"
      ],
      "execution_count": 51,
      "outputs": [
        {
          "output_type": "execute_result",
          "data": {
            "text/plain": [
              "19993"
            ]
          },
          "metadata": {
            "tags": []
          },
          "execution_count": 51
        }
      ]
    },
    {
      "cell_type": "code",
      "metadata": {
        "id": "GiPSXjhKMTW5"
      },
      "source": [
        "f.close()"
      ],
      "execution_count": 52,
      "outputs": []
    },
    {
      "cell_type": "code",
      "metadata": {
        "id": "VtnXlGjEMU9y"
      },
      "source": [
        ""
      ],
      "execution_count": null,
      "outputs": []
    }
  ]
}